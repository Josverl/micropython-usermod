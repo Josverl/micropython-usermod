{
 "cells": [
  {
   "cell_type": "markdown",
   "metadata": {},
   "source": [
    "# umath tests"
   ]
  },
  {
   "cell_type": "markdown",
   "metadata": {},
   "source": [
    "## General comments"
   ]
  },
  {
   "cell_type": "markdown",
   "metadata": {},
   "source": [
    "Before compiling the code on the unix port, one has to produce the `axtls` library by calling \n",
    "\n",
    "`make axtls`\n",
    "\n",
    "in `/micropython/ports/unix`."
   ]
  },
  {
   "cell_type": "markdown",
   "metadata": {},
   "source": [
    "# General imports"
   ]
  },
  {
   "cell_type": "markdown",
   "metadata": {},
   "source": [
    "\\begin{equation}\n",
    "0 = \\frac{\\partial}{\\partial a_i}\\sum_j\\left(\\{y_j - f(a_0, a_1, ..., a_n, x_j)\\}^2\\right) = \n",
    "\\frac{\\partial}{\\partial a_i}\\sum_j\\left(y^2_j - 2y_j\\cdot f(a_0, a_1, ..., a_n, x_j) + f^2(a_1, a_2, ..., a_n, x_j)\\right) = \n",
    "\\end{equation}\n",
    "\\begin{equation}\n",
    "\\sum_j\\left(- 2y_j\\cdot \\frac{\\partial}{\\partial a_i}f(a_0, a_1, ..., a_n, x_j) + 2f(a_0, a_1, ..., a_n, x_j)\\frac{\\partial}{\\partial a_i}f(a_0, a_1, ..., a_n, x_j)\\right) = \n",
    "2\\sum_j\\frac{\\partial}{\\partial a_i}f(a_0, a_1, ..., a_n, x_j) \\cdot \\{f(a_0, a_1, ..., a_n, x_j)-y_j\\}\n",
    "\\end{equation}\n",
    "\n",
    "\\begin{equation}\n",
    "0 = \\sum_j\\frac{\\partial}{\\partial a_i}f(a_0, a_1, ..., a_n, x_j) \\cdot \\{f(a_0, a_1, ..., a_n, x_j)-y_j\\}\n",
    "\\end{equation}\n",
    "\n",
    "\\begin{equation}\n",
    "f(a_1, a_2, ..., a_n, x_j) = \\sum_{i=0}^n a_i x^i_j\n",
    "\\end{equation}\n",
    "\n",
    "\\begin{equation}\n",
    "\\frac{\\partial}{\\partial a_k}f(a_1, a_2, ..., a_n, x_j) = \\frac{\\partial}{\\partial a_k}\\sum_{i=0}^n a_i x^i_j = x^k_j\n",
    "\\end{equation}\n",
    "\n",
    "\\begin{equation}\n",
    "0 = \\sum_j x^i_j \\cdot \\{f(a_0, a_1, ..., a_n, x_j)-y_i\\}\n",
    "= \\sum_{j=0}^n x^i_j \\cdot \\left\\{\\sum_{k=0}^n a_k x^k_i-y_i\\right\\}\n",
    "\\end{equation}"
   ]
  },
  {
   "cell_type": "code",
   "execution_count": 1,
   "metadata": {
    "ExecuteTime": {
     "end_time": "2019-02-19T19:26:40.001210Z",
     "start_time": "2019-02-19T19:26:37.061273Z"
    }
   },
   "outputs": [
    {
     "name": "stdout",
     "output_type": "stream",
     "text": [
      "Populating the interactive namespace from numpy and matplotlib\n"
     ]
    }
   ],
   "source": [
    "%pylab inline\n",
    "\n",
    "from IPython.core import magic_arguments\n",
    "from IPython.core.magic import register_cell_magic, Magics, magics_class, cell_magic"
   ]
  },
  {
   "cell_type": "markdown",
   "metadata": {
    "ExecuteTime": {
     "end_time": "2019-02-25T18:52:18.427533Z",
     "start_time": "2019-02-25T18:52:18.335555Z"
    }
   },
   "source": [
    "\\begin{equation}\n",
    "\\frac{1}{n}\\sum_i^n (x_i-\\bar{x})^2 = \n",
    "\\frac{1}{n}\\sum_i^n x^2_i -2x_i\\bar{x} + \\bar{x}^2= \n",
    "\\frac{1}{n}\\sum_i^n x^2_i - \\bar{x}^2\n",
    "\\end{equation}"
   ]
  },
  {
   "cell_type": "code",
   "execution_count": 39,
   "metadata": {
    "ExecuteTime": {
     "end_time": "2019-03-05T17:33:31.330734Z",
     "start_time": "2019-03-05T17:33:31.169249Z"
    }
   },
   "outputs": [
    {
     "data": {
      "text/plain": [
       "[<matplotlib.lines.Line2D at 0x7f8cb630dd30>]"
      ]
     },
     "execution_count": 39,
     "metadata": {},
     "output_type": "execute_result"
    },
    {
     "data": {
      "image/png": "[encoded data removed]",
      "text/plain": [
       "<Figure size 432x288 with 1 Axes>"
      ]
     },
     "metadata": {},
     "output_type": "display_data"
    }
   ],
   "source": [
    "plot(b)"
   ]
  },
  {
   "cell_type": "code",
   "execution_count": 41,
   "metadata": {
    "ExecuteTime": {
     "end_time": "2019-03-05T17:54:35.502364Z",
     "start_time": "2019-03-05T17:54:35.485159Z"
    }
   },
   "outputs": [
    {
     "data": {
      "text/plain": [
       "(array([-2.91433544e-16,  1.56431722e+00, -3.31505794e-02, -2.78784933e-02,\n",
       "        -2.64085428e-02, -2.57793983e-02, -2.54500488e-02, -2.52555013e-02,\n",
       "        -2.51308205e-02, -2.50460529e-02, -2.49857735e-02, -2.49413644e-02,\n",
       "        -2.49076977e-02, -2.48815645e-02, -2.48608721e-02, -2.48442084e-02,\n",
       "        -2.48305917e-02, -2.48193226e-02, -2.48098918e-02, -2.48019210e-02,\n",
       "        -2.47951248e-02, -2.47892842e-02, -2.47842292e-02, -2.47798261e-02,\n",
       "        -2.47759684e-02, -2.47725708e-02, -2.47695639e-02, -2.47668911e-02,\n",
       "        -2.47645057e-02, -2.47623691e-02, -2.47604487e-02, -2.47587175e-02,\n",
       "        -2.47571524e-02, -2.47557339e-02, -2.47544453e-02, -2.47532722e-02,\n",
       "        -2.47522023e-02, -2.47512249e-02, -2.47503308e-02, -2.47495119e-02,\n",
       "        -2.47487610e-02, -2.47480720e-02, -2.47474394e-02, -2.47468585e-02,\n",
       "        -2.47463250e-02, -2.47458351e-02, -2.47453855e-02, -2.47449733e-02,\n",
       "        -2.47445959e-02, -2.47442508e-02, -2.47439362e-02, -2.47436500e-02,\n",
       "        -2.47433907e-02, -2.47431569e-02, -2.47429473e-02, -2.47427607e-02,\n",
       "        -2.47425962e-02, -2.47424529e-02, -2.47423302e-02, -2.47422273e-02,\n",
       "        -2.47421438e-02, -2.47420793e-02, -2.47420335e-02, -2.47420060e-02,\n",
       "        -2.47419969e-02, -2.47420060e-02, -2.47420335e-02, -2.47420793e-02,\n",
       "        -2.47421438e-02, -2.47422273e-02, -2.47423302e-02, -2.47424529e-02,\n",
       "        -2.47425962e-02, -2.47427607e-02, -2.47429473e-02, -2.47431569e-02,\n",
       "        -2.47433907e-02, -2.47436500e-02, -2.47439362e-02, -2.47442508e-02,\n",
       "        -2.47445959e-02, -2.47449733e-02, -2.47453855e-02, -2.47458351e-02,\n",
       "        -2.47463250e-02, -2.47468585e-02, -2.47474394e-02, -2.47480720e-02,\n",
       "        -2.47487610e-02, -2.47495119e-02, -2.47503308e-02, -2.47512249e-02,\n",
       "        -2.47522023e-02, -2.47532722e-02, -2.47544453e-02, -2.47557339e-02,\n",
       "        -2.47571524e-02, -2.47587175e-02, -2.47604487e-02, -2.47623691e-02,\n",
       "        -2.47645057e-02, -2.47668911e-02, -2.47695639e-02, -2.47725708e-02,\n",
       "        -2.47759684e-02, -2.47798261e-02, -2.47842292e-02, -2.47892842e-02,\n",
       "        -2.47951248e-02, -2.48019210e-02, -2.48098918e-02, -2.48193226e-02,\n",
       "        -2.48305917e-02, -2.48442084e-02, -2.48608721e-02, -2.48815645e-02,\n",
       "        -2.49076977e-02, -2.49413644e-02, -2.49857735e-02, -2.50460529e-02,\n",
       "        -2.51308205e-02, -2.52555013e-02, -2.54500488e-02, -2.57793983e-02,\n",
       "        -2.64085428e-02, -2.78784933e-02, -3.31505794e-02,  1.56431722e+00]),\n",
       " array([ 0.00000000e+00, -6.37232191e+01,  6.74795545e-01,  3.77939513e-01,\n",
       "         2.68130435e-01,  2.09013839e-01,  1.71570292e-01,  1.45551040e-01,\n",
       "         1.26341166e-01,  1.11535139e-01,  9.97487994e-02,  9.01265103e-02,\n",
       "         8.21096753e-02,  7.53175706e-02,  6.94814829e-02,  6.44061883e-02,\n",
       "         5.99463511e-02,  5.59914946e-02,  5.24561088e-02,  4.92729544e-02,\n",
       "         4.63884157e-02,  4.37592063e-02,  4.13499884e-02,  3.91316216e-02,\n",
       "         3.70798571e-02,  3.51743479e-02,  3.33978907e-02,  3.17358381e-02,\n",
       "         3.01756375e-02,  2.87064674e-02,  2.73189453e-02,  2.60048942e-02,\n",
       "         2.47571524e-02,  2.35694180e-02,  2.24361214e-02,  2.13523194e-02,\n",
       "         2.03136075e-02,  1.93160455e-02,  1.83560964e-02,  1.74305729e-02,\n",
       "         1.65365934e-02,  1.56715438e-02,  1.48330444e-02,  1.40189222e-02,\n",
       "         1.32271863e-02,  1.24560066e-02,  1.17036957e-02,  1.09686923e-02,\n",
       "         1.02495472e-02,  9.54491082e-03,  8.85352193e-03,  8.17419783e-03,\n",
       "         7.50582552e-03,  6.84735370e-03,  6.19778565e-03,  5.55617272e-03,\n",
       "         4.92160839e-03,  4.29322285e-03,  3.67017798e-03,  3.05166268e-03,\n",
       "         2.43688847e-03,  1.82508542e-03,  1.21549816e-03,  6.07382157e-04,\n",
       "         0.00000000e+00, -6.07382157e-04, -1.21549816e-03, -1.82508542e-03,\n",
       "        -2.43688847e-03, -3.05166268e-03, -3.67017798e-03, -4.29322285e-03,\n",
       "        -4.92160839e-03, -5.55617272e-03, -6.19778565e-03, -6.84735370e-03,\n",
       "        -7.50582552e-03, -8.17419783e-03, -8.85352193e-03, -9.54491082e-03,\n",
       "        -1.02495472e-02, -1.09686923e-02, -1.17036957e-02, -1.24560066e-02,\n",
       "        -1.32271863e-02, -1.40189222e-02, -1.48330444e-02, -1.56715438e-02,\n",
       "        -1.65365934e-02, -1.74305729e-02, -1.83560964e-02, -1.93160455e-02,\n",
       "        -2.03136075e-02, -2.13523194e-02, -2.24361214e-02, -2.35694180e-02,\n",
       "        -2.47571524e-02, -2.60048942e-02, -2.73189453e-02, -2.87064674e-02,\n",
       "        -3.01756375e-02, -3.17358381e-02, -3.33978907e-02, -3.51743479e-02,\n",
       "        -3.70798571e-02, -3.91316216e-02, -4.13499884e-02, -4.37592063e-02,\n",
       "        -4.63884157e-02, -4.92729544e-02, -5.24561088e-02, -5.59914946e-02,\n",
       "        -5.99463511e-02, -6.44061883e-02, -6.94814829e-02, -7.53175706e-02,\n",
       "        -8.21096753e-02, -9.01265103e-02, -9.97487994e-02, -1.11535139e-01,\n",
       "        -1.26341166e-01, -1.45551040e-01, -1.71570292e-01, -2.09013839e-01,\n",
       "        -2.68130435e-01, -3.77939513e-01, -6.74795545e-01,  6.37232191e+01]))"
      ]
     },
     "execution_count": 41,
     "metadata": {},
     "output_type": "execute_result"
    }
   ],
   "source": [
    "a = linspace(0, 2*pi, 128)\n",
    "b = sin(a)\n",
    "real(fft.fft(b)), imag(fft.fft(b))\n",
    "# plot(abs(fft.fft(b)))\n",
    "# xlim((0, 10))"
   ]
  },
  {
   "cell_type": "markdown",
   "metadata": {},
   "source": [
    "## cell magic for running code directly on the board"
   ]
  },
  {
   "cell_type": "markdown",
   "metadata": {
    "ExecuteTime": {
     "end_time": "2018-10-15T07:45:46.294882Z",
     "start_time": "2018-10-15T07:45:46.276774Z"
    }
   },
   "source": [
    "The following magic lets the user, first, execute code on the microcontroller itself, and, second, capture data printed by the microcontroller. The data should have the form\n",
    "```\n",
    "data11 data12 data13 ... data1n\n",
    "data21 data22 data23 ... data2n\n",
    ".\n",
    ".\n",
    ".\n",
    "datam1 datam2 datam3 ... datamn\n",
    "```\n",
    "in which case, an array of the appropriate size will be returned by the cell magic. The data can then be used by assigning `_` to a variable."
   ]
  },
  {
   "cell_type": "code",
   "execution_count": 210,
   "metadata": {
    "ExecuteTime": {
     "end_time": "2019-03-06T19:16:00.617911Z",
     "start_time": "2019-03-06T19:16:00.606229Z"
    }
   },
   "outputs": [],
   "source": [
    "def string_to_matrix(string):\n",
    "    matrix = []\n",
    "    string = string.replace(\"array(\\'d\\', \", '').replace(')', '').replace('[', '').replace(']', '')\n",
    "    for _str in string.split('\\r\\n'):\n",
    "        if len(_str) > 0:\n",
    "            matrix.append([float(n) for n in _str.split(',')])\n",
    "    return array(matrix)"
   ]
  },
  {
   "cell_type": "code",
   "execution_count": 6,
   "metadata": {
    "ExecuteTime": {
     "end_time": "2019-01-25T18:16:43.501877Z",
     "start_time": "2019-01-25T18:16:43.479798Z"
    }
   },
   "outputs": [],
   "source": [
    "@register_cell_magic\n",
    "def pyboard(line, cell):\n",
    "    if len(line) != 0: \n",
    "        if line in ('skip'): \n",
    "            print('skipped pyboard execution')\n",
    "            return\n",
    "        spaces = \"    \"\n",
    "        try:\n",
    "            with open(line, 'w') as fout:\n",
    "                fout.write(cell.replace('\\t', spaces))\n",
    "        except:\n",
    "            print('Failed to write to disc!')\n",
    "        return\n",
    "    else:\n",
    "        message = pyb.exec(cell)\n",
    "        if len(message) == 0:\n",
    "            return print('pyboard >>>')\n",
    "        else:\n",
    "            return print(message.decode(\"utf-8\"))"
   ]
  },
  {
   "cell_type": "code",
   "execution_count": null,
   "metadata": {},
   "outputs": [],
   "source": [
    "def time_cell_execution(cell, n=1000):\n",
    "    pyb.exec('import utime')\n",
    "    pyb.exec('t = utime.ticks_us()')\n",
    "    # empty loop, to measure the function call overhead\n",
    "    pyb.exec('for i in range(n): pass')\n",
    "    pyb.exec('delta1 = utime.ticks_diff(utime.ticks_us(), t)')\n",
    "    pyb.exec('t = utime.ticks_us()')\n",
    "    pyb.exec('for i in range(n):'\n",
    "        result = f(*args, **kwargs)\n",
    "    delta2 = utime.ticks_diff(utime.ticks_us(), t)\n",
    "    print('{}() execution time, {} cycles = {:6.3f}ms'.format(func_name, n, (delta2-delta1)/n))"
   ]
  },
  {
   "cell_type": "code",
   "execution_count": 189,
   "metadata": {
    "ExecuteTime": {
     "end_time": "2019-03-06T19:10:32.454303Z",
     "start_time": "2019-03-06T19:10:32.341080Z"
    }
   },
   "outputs": [],
   "source": [
    "@magics_class\n",
    "class PyboardMagic(Magics):\n",
    "    @cell_magic\n",
    "    @magic_arguments.magic_arguments()\n",
    "    @magic_arguments.argument('-data')\n",
    "    @magic_arguments.argument('-file')\n",
    "    @magic_arguments.argument('-skip')\n",
    "    @magic_arguments.argument('-time')\n",
    "    @magic_arguments.argument('-memory')    \n",
    "    def pyboard(self, line='', cell=None):\n",
    "        args = magic_arguments.parse_argstring(self.pyboard, line)\n",
    "        if args.skip is not None:\n",
    "            print('skipped execution')\n",
    "            return None # do not parse the rest\n",
    "        if args.file:\n",
    "            spaces = \"    \"\n",
    "            try:\n",
    "                with open(args.file, 'w') as fout:\n",
    "                    fout.write(cell.replace('\\t', spaces))\n",
    "                    printf('written cell to {}'.format(args.file))\n",
    "            except:\n",
    "                print('Failed to write to disc!')\n",
    "            return None # do not parse the rest\n",
    "        if args.data:\n",
    "            message = pyb.exec(cell)\n",
    "            if len(message) == 0:\n",
    "                print('pyboard >>>')\n",
    "            else:\n",
    "                print(message.decode('utf-8'))\n",
    "                # register new variable in user namespace\n",
    "                self.shell.user_ns[args.data] = string_to_matrix(message.decode(\"utf-8\"))\n",
    "        \n",
    "        if args.time:\n",
    "            pyb.exec('import utime')\n",
    "            message = pyb.exec('t = utime.ticks_us()\\n' + cell + '\\ndelta = utime.ticks_diff(utime.ticks_us(), t)' + \n",
    "                               \"\\nprint('execution time: {:d} us'.format(delta))\")\n",
    "            print(message.decode('utf-8'))\n",
    "        \n",
    "        if args.memory:\n",
    "            message = pyb.exec('from micropython import mem_info\\nprint(mem_info())\\n')\n",
    "            print(\"memory before execution:\\n========================\\n\", message.decode('utf-8'))\n",
    "            message = pyb.exec(cell)\n",
    "            print(\">>> \", message.decode('utf-8'))\n",
    "            message = pyb.exec('print(mem_info())')\n",
    "            print(\"memory after execution:\\n========================\\n\", message.decode('utf-8'))\n",
    "\n",
    "        else:\n",
    "            message = pyb.exec(cell)\n",
    "            print(message.decode('utf-8'))\n",
    "\n",
    "ip = get_ipython()\n",
    "ip.register_magics(PyboardMagic)"
   ]
  },
  {
   "cell_type": "markdown",
   "metadata": {},
   "source": [
    "# pyboard initialisation"
   ]
  },
  {
   "cell_type": "code",
   "execution_count": 648,
   "metadata": {
    "ExecuteTime": {
     "end_time": "2019-03-08T19:43:20.074457Z",
     "start_time": "2019-03-08T19:43:19.952365Z"
    }
   },
   "outputs": [
    {
     "name": "stdout",
     "output_type": "stream",
     "text": [
      "/dev/ttyACM0\r\n"
     ]
    }
   ],
   "source": [
    "!ls /dev/ttyA*"
   ]
  },
  {
   "cell_type": "code",
   "execution_count": 650,
   "metadata": {
    "ExecuteTime": {
     "end_time": "2019-03-08T19:43:21.669109Z",
     "start_time": "2019-03-08T19:43:21.641426Z"
    }
   },
   "outputs": [],
   "source": [
    "import pyboard\n",
    "pyb = pyboard.Pyboard('/dev/ttyACM0')\n",
    "pyb.enter_raw_repl()"
   ]
  },
  {
   "cell_type": "code",
   "execution_count": 656,
   "metadata": {
    "ExecuteTime": {
     "end_time": "2019-03-08T20:31:10.167362Z",
     "start_time": "2019-03-08T20:31:10.125395Z"
    }
   },
   "outputs": [
    {
     "ename": "SerialException",
     "evalue": "Attempting to use a port that is not open",
     "output_type": "error",
     "traceback": [
      "\u001b[0;31m---------------------------------------------------------------------------\u001b[0m",
      "\u001b[0;31mSerialException\u001b[0m                           Traceback (most recent call last)",
      "\u001b[0;32m<ipython-input-656-ecf124fbd737>\u001b[0m in \u001b[0;36m<module>\u001b[0;34m()\u001b[0m\n\u001b[0;32m----> 1\u001b[0;31m \u001b[0mpyb\u001b[0m\u001b[0;34m.\u001b[0m\u001b[0mexit_raw_repl\u001b[0m\u001b[0;34m(\u001b[0m\u001b[0;34m)\u001b[0m\u001b[0;34m\u001b[0m\u001b[0;34m\u001b[0m\u001b[0m\n\u001b[0m\u001b[1;32m      2\u001b[0m \u001b[0mpyb\u001b[0m\u001b[0;34m.\u001b[0m\u001b[0mclose\u001b[0m\u001b[0;34m(\u001b[0m\u001b[0;34m)\u001b[0m\u001b[0;34m\u001b[0m\u001b[0;34m\u001b[0m\u001b[0m\n",
      "\u001b[0;32m~/useful/micropython/umath/pyboard.py\u001b[0m in \u001b[0;36mexit_raw_repl\u001b[0;34m(self)\u001b[0m\n\u001b[1;32m    197\u001b[0m \u001b[0;34m\u001b[0m\u001b[0m\n\u001b[1;32m    198\u001b[0m     \u001b[0;32mdef\u001b[0m \u001b[0mexit_raw_repl\u001b[0m\u001b[0;34m(\u001b[0m\u001b[0mself\u001b[0m\u001b[0;34m)\u001b[0m\u001b[0;34m:\u001b[0m\u001b[0;34m\u001b[0m\u001b[0;34m\u001b[0m\u001b[0m\n\u001b[0;32m--> 199\u001b[0;31m         \u001b[0mself\u001b[0m\u001b[0;34m.\u001b[0m\u001b[0mserial\u001b[0m\u001b[0;34m.\u001b[0m\u001b[0mwrite\u001b[0m\u001b[0;34m(\u001b[0m\u001b[0;34mb'\\r\\x02'\u001b[0m\u001b[0;34m)\u001b[0m \u001b[0;31m# ctrl-B: enter friendly REPL\u001b[0m\u001b[0;34m\u001b[0m\u001b[0;34m\u001b[0m\u001b[0m\n\u001b[0m\u001b[1;32m    200\u001b[0m \u001b[0;34m\u001b[0m\u001b[0m\n\u001b[1;32m    201\u001b[0m     \u001b[0;32mdef\u001b[0m \u001b[0mfollow\u001b[0m\u001b[0;34m(\u001b[0m\u001b[0mself\u001b[0m\u001b[0;34m,\u001b[0m \u001b[0mtimeout\u001b[0m\u001b[0;34m,\u001b[0m \u001b[0mdata_consumer\u001b[0m\u001b[0;34m=\u001b[0m\u001b[0;32mNone\u001b[0m\u001b[0;34m)\u001b[0m\u001b[0;34m:\u001b[0m\u001b[0;34m\u001b[0m\u001b[0;34m\u001b[0m\u001b[0m\n",
      "\u001b[0;32m~/anaconda3/lib/python3.6/site-packages/serial/serialposix.py\u001b[0m in \u001b[0;36mwrite\u001b[0;34m(self, data)\u001b[0m\n\u001b[1;32m    529\u001b[0m         \u001b[0;34m\"\"\"Output the given byte string over the serial port.\"\"\"\u001b[0m\u001b[0;34m\u001b[0m\u001b[0;34m\u001b[0m\u001b[0m\n\u001b[1;32m    530\u001b[0m         \u001b[0;32mif\u001b[0m \u001b[0;32mnot\u001b[0m \u001b[0mself\u001b[0m\u001b[0;34m.\u001b[0m\u001b[0mis_open\u001b[0m\u001b[0;34m:\u001b[0m\u001b[0;34m\u001b[0m\u001b[0;34m\u001b[0m\u001b[0m\n\u001b[0;32m--> 531\u001b[0;31m             \u001b[0;32mraise\u001b[0m \u001b[0mportNotOpenError\u001b[0m\u001b[0;34m\u001b[0m\u001b[0;34m\u001b[0m\u001b[0m\n\u001b[0m\u001b[1;32m    532\u001b[0m         \u001b[0md\u001b[0m \u001b[0;34m=\u001b[0m \u001b[0mto_bytes\u001b[0m\u001b[0;34m(\u001b[0m\u001b[0mdata\u001b[0m\u001b[0;34m)\u001b[0m\u001b[0;34m\u001b[0m\u001b[0;34m\u001b[0m\u001b[0m\n\u001b[1;32m    533\u001b[0m         \u001b[0mtx_len\u001b[0m \u001b[0;34m=\u001b[0m \u001b[0mlength\u001b[0m \u001b[0;34m=\u001b[0m \u001b[0mlen\u001b[0m\u001b[0;34m(\u001b[0m\u001b[0md\u001b[0m\u001b[0;34m)\u001b[0m\u001b[0;34m\u001b[0m\u001b[0;34m\u001b[0m\u001b[0m\n",
      "\u001b[0;32m~/anaconda3/lib/python3.6/site-packages/IPython/core/interactiveshell.py\u001b[0m in \u001b[0;36mrun_code\u001b[0;34m(self, code_obj, result)\u001b[0m\n\u001b[1;32m   2908\u001b[0m                 \u001b[0mself\u001b[0m\u001b[0;34m.\u001b[0m\u001b[0mhooks\u001b[0m\u001b[0;34m.\u001b[0m\u001b[0mpre_run_code_hook\u001b[0m\u001b[0;34m(\u001b[0m\u001b[0;34m)\u001b[0m\u001b[0;34m\u001b[0m\u001b[0;34m\u001b[0m\u001b[0m\n\u001b[1;32m   2909\u001b[0m                 \u001b[0;31m#rprint('Running code', repr(code_obj)) # dbg\u001b[0m\u001b[0;34m\u001b[0m\u001b[0;34m\u001b[0m\u001b[0;34m\u001b[0m\u001b[0m\n\u001b[0;32m-> 2910\u001b[0;31m                 \u001b[0mexec\u001b[0m\u001b[0;34m(\u001b[0m\u001b[0mcode_obj\u001b[0m\u001b[0;34m,\u001b[0m \u001b[0mself\u001b[0m\u001b[0;34m.\u001b[0m\u001b[0muser_global_ns\u001b[0m\u001b[0;34m,\u001b[0m \u001b[0mself\u001b[0m\u001b[0;34m.\u001b[0m\u001b[0muser_ns\u001b[0m\u001b[0;34m)\u001b[0m\u001b[0;34m\u001b[0m\u001b[0;34m\u001b[0m\u001b[0m\n\u001b[0m\u001b[1;32m   2911\u001b[0m             \u001b[0;32mfinally\u001b[0m\u001b[0;34m:\u001b[0m\u001b[0;34m\u001b[0m\u001b[0;34m\u001b[0m\u001b[0m\n\u001b[1;32m   2912\u001b[0m                 \u001b[0;31m# Reset our crash handler in place\u001b[0m\u001b[0;34m\u001b[0m\u001b[0;34m\u001b[0m\u001b[0;34m\u001b[0m\u001b[0m\n",
      "\u001b[0;32m<ipython-input-655-ecf124fbd737>\u001b[0m in \u001b[0;36m<module>\u001b[0;34m()\u001b[0m\n\u001b[0;32m----> 1\u001b[0;31m \u001b[0mpyb\u001b[0m\u001b[0;34m.\u001b[0m\u001b[0mexit_raw_repl\u001b[0m\u001b[0;34m(\u001b[0m\u001b[0;34m)\u001b[0m\u001b[0;34m\u001b[0m\u001b[0;34m\u001b[0m\u001b[0m\n\u001b[0m\u001b[1;32m      2\u001b[0m \u001b[0mpyb\u001b[0m\u001b[0;34m.\u001b[0m\u001b[0mclose\u001b[0m\u001b[0;34m(\u001b[0m\u001b[0;34m)\u001b[0m\u001b[0;34m\u001b[0m\u001b[0;34m\u001b[0m\u001b[0m\n",
      "\u001b[0;32m~/useful/micropython/umath/pyboard.py\u001b[0m in \u001b[0;36mexit_raw_repl\u001b[0;34m(self)\u001b[0m\n\u001b[1;32m    197\u001b[0m \u001b[0;34m\u001b[0m\u001b[0m\n\u001b[1;32m    198\u001b[0m     \u001b[0;32mdef\u001b[0m \u001b[0mexit_raw_repl\u001b[0m\u001b[0;34m(\u001b[0m\u001b[0mself\u001b[0m\u001b[0;34m)\u001b[0m\u001b[0;34m:\u001b[0m\u001b[0;34m\u001b[0m\u001b[0;34m\u001b[0m\u001b[0m\n\u001b[0;32m--> 199\u001b[0;31m         \u001b[0mself\u001b[0m\u001b[0;34m.\u001b[0m\u001b[0mserial\u001b[0m\u001b[0;34m.\u001b[0m\u001b[0mwrite\u001b[0m\u001b[0;34m(\u001b[0m\u001b[0;34mb'\\r\\x02'\u001b[0m\u001b[0;34m)\u001b[0m \u001b[0;31m# ctrl-B: enter friendly REPL\u001b[0m\u001b[0;34m\u001b[0m\u001b[0;34m\u001b[0m\u001b[0m\n\u001b[0m\u001b[1;32m    200\u001b[0m \u001b[0;34m\u001b[0m\u001b[0m\n\u001b[1;32m    201\u001b[0m     \u001b[0;32mdef\u001b[0m \u001b[0mfollow\u001b[0m\u001b[0;34m(\u001b[0m\u001b[0mself\u001b[0m\u001b[0;34m,\u001b[0m \u001b[0mtimeout\u001b[0m\u001b[0;34m,\u001b[0m \u001b[0mdata_consumer\u001b[0m\u001b[0;34m=\u001b[0m\u001b[0;32mNone\u001b[0m\u001b[0;34m)\u001b[0m\u001b[0;34m:\u001b[0m\u001b[0;34m\u001b[0m\u001b[0;34m\u001b[0m\u001b[0m\n",
      "\u001b[0;32m~/anaconda3/lib/python3.6/site-packages/serial/serialposix.py\u001b[0m in \u001b[0;36mwrite\u001b[0;34m(self, data)\u001b[0m\n\u001b[1;32m    529\u001b[0m         \u001b[0;34m\"\"\"Output the given byte string over the serial port.\"\"\"\u001b[0m\u001b[0;34m\u001b[0m\u001b[0;34m\u001b[0m\u001b[0m\n\u001b[1;32m    530\u001b[0m         \u001b[0;32mif\u001b[0m \u001b[0;32mnot\u001b[0m \u001b[0mself\u001b[0m\u001b[0;34m.\u001b[0m\u001b[0mis_open\u001b[0m\u001b[0;34m:\u001b[0m\u001b[0;34m\u001b[0m\u001b[0;34m\u001b[0m\u001b[0m\n\u001b[0;32m--> 531\u001b[0;31m             \u001b[0;32mraise\u001b[0m \u001b[0mportNotOpenError\u001b[0m\u001b[0;34m\u001b[0m\u001b[0;34m\u001b[0m\u001b[0m\n\u001b[0m\u001b[1;32m    532\u001b[0m         \u001b[0md\u001b[0m \u001b[0;34m=\u001b[0m \u001b[0mto_bytes\u001b[0m\u001b[0;34m(\u001b[0m\u001b[0mdata\u001b[0m\u001b[0;34m)\u001b[0m\u001b[0;34m\u001b[0m\u001b[0;34m\u001b[0m\u001b[0m\n\u001b[1;32m    533\u001b[0m         \u001b[0mtx_len\u001b[0m \u001b[0;34m=\u001b[0m \u001b[0mlength\u001b[0m \u001b[0;34m=\u001b[0m \u001b[0mlen\u001b[0m\u001b[0;34m(\u001b[0m\u001b[0md\u001b[0m\u001b[0;34m)\u001b[0m\u001b[0;34m\u001b[0m\u001b[0;34m\u001b[0m\u001b[0m\n",
      "\u001b[0;32m~/anaconda3/lib/python3.6/site-packages/IPython/core/interactiveshell.py\u001b[0m in \u001b[0;36mrun_code\u001b[0;34m(self, code_obj, result)\u001b[0m\n\u001b[1;32m   2908\u001b[0m                 \u001b[0mself\u001b[0m\u001b[0;34m.\u001b[0m\u001b[0mhooks\u001b[0m\u001b[0;34m.\u001b[0m\u001b[0mpre_run_code_hook\u001b[0m\u001b[0;34m(\u001b[0m\u001b[0;34m)\u001b[0m\u001b[0;34m\u001b[0m\u001b[0;34m\u001b[0m\u001b[0m\n\u001b[1;32m   2909\u001b[0m                 \u001b[0;31m#rprint('Running code', repr(code_obj)) # dbg\u001b[0m\u001b[0;34m\u001b[0m\u001b[0;34m\u001b[0m\u001b[0;34m\u001b[0m\u001b[0m\n\u001b[0;32m-> 2910\u001b[0;31m                 \u001b[0mexec\u001b[0m\u001b[0;34m(\u001b[0m\u001b[0mcode_obj\u001b[0m\u001b[0;34m,\u001b[0m \u001b[0mself\u001b[0m\u001b[0;34m.\u001b[0m\u001b[0muser_global_ns\u001b[0m\u001b[0;34m,\u001b[0m \u001b[0mself\u001b[0m\u001b[0;34m.\u001b[0m\u001b[0muser_ns\u001b[0m\u001b[0;34m)\u001b[0m\u001b[0;34m\u001b[0m\u001b[0;34m\u001b[0m\u001b[0m\n\u001b[0m\u001b[1;32m   2911\u001b[0m             \u001b[0;32mfinally\u001b[0m\u001b[0;34m:\u001b[0m\u001b[0;34m\u001b[0m\u001b[0;34m\u001b[0m\u001b[0m\n\u001b[1;32m   2912\u001b[0m                 \u001b[0;31m# Reset our crash handler in place\u001b[0m\u001b[0;34m\u001b[0m\u001b[0;34m\u001b[0m\u001b[0;34m\u001b[0m\u001b[0m\n",
      "\u001b[0;32m<ipython-input-302-ff326b3fc79b>\u001b[0m in \u001b[0;36m<module>\u001b[0;34m()\u001b[0m\n\u001b[0;32m----> 1\u001b[0;31m \u001b[0mget_ipython\u001b[0m\u001b[0;34m(\u001b[0m\u001b[0;34m)\u001b[0m\u001b[0;34m.\u001b[0m\u001b[0mrun_cell_magic\u001b[0m\u001b[0;34m(\u001b[0m\u001b[0;34m'pyboard'\u001b[0m\u001b[0;34m,\u001b[0m \u001b[0;34m''\u001b[0m\u001b[0;34m,\u001b[0m \u001b[0;34m'\\ndef py_argmax(data):\\n    idx, tmp = 0, data[0]\\n    for i in range(len(data)):\\n        if data[i] > tmp: \\n            idx = i\\n            tmp = data[i]\\n    return idx'\u001b[0m\u001b[0;34m)\u001b[0m\u001b[0;34m\u001b[0m\u001b[0;34m\u001b[0m\u001b[0m\n\u001b[0m",
      "\u001b[0;32m~/anaconda3/lib/python3.6/site-packages/IPython/core/interactiveshell.py\u001b[0m in \u001b[0;36mrun_cell_magic\u001b[0;34m(self, magic_name, line, cell)\u001b[0m\n\u001b[1;32m   2129\u001b[0m             \u001b[0mmagic_arg_s\u001b[0m \u001b[0;34m=\u001b[0m \u001b[0mself\u001b[0m\u001b[0;34m.\u001b[0m\u001b[0mvar_expand\u001b[0m\u001b[0;34m(\u001b[0m\u001b[0mline\u001b[0m\u001b[0;34m,\u001b[0m \u001b[0mstack_depth\u001b[0m\u001b[0;34m)\u001b[0m\u001b[0;34m\u001b[0m\u001b[0;34m\u001b[0m\u001b[0m\n\u001b[1;32m   2130\u001b[0m             \u001b[0;32mwith\u001b[0m \u001b[0mself\u001b[0m\u001b[0;34m.\u001b[0m\u001b[0mbuiltin_trap\u001b[0m\u001b[0;34m:\u001b[0m\u001b[0;34m\u001b[0m\u001b[0;34m\u001b[0m\u001b[0m\n\u001b[0;32m-> 2131\u001b[0;31m                 \u001b[0mresult\u001b[0m \u001b[0;34m=\u001b[0m \u001b[0mfn\u001b[0m\u001b[0;34m(\u001b[0m\u001b[0mmagic_arg_s\u001b[0m\u001b[0;34m,\u001b[0m \u001b[0mcell\u001b[0m\u001b[0;34m)\u001b[0m\u001b[0;34m\u001b[0m\u001b[0;34m\u001b[0m\u001b[0m\n\u001b[0m\u001b[1;32m   2132\u001b[0m             \u001b[0;32mreturn\u001b[0m \u001b[0mresult\u001b[0m\u001b[0;34m\u001b[0m\u001b[0;34m\u001b[0m\u001b[0m\n\u001b[1;32m   2133\u001b[0m \u001b[0;34m\u001b[0m\u001b[0m\n",
      "\u001b[0;32m<decorator-gen-136>\u001b[0m in \u001b[0;36mpyboard\u001b[0;34m(self, line, cell)\u001b[0m\n",
      "\u001b[0;32m~/anaconda3/lib/python3.6/site-packages/IPython/core/magic.py\u001b[0m in \u001b[0;36m<lambda>\u001b[0;34m(f, *a, **k)\u001b[0m\n\u001b[1;32m    185\u001b[0m     \u001b[0;31m# but it's overkill for just that one bit of state.\u001b[0m\u001b[0;34m\u001b[0m\u001b[0;34m\u001b[0m\u001b[0;34m\u001b[0m\u001b[0m\n\u001b[1;32m    186\u001b[0m     \u001b[0;32mdef\u001b[0m \u001b[0mmagic_deco\u001b[0m\u001b[0;34m(\u001b[0m\u001b[0marg\u001b[0m\u001b[0;34m)\u001b[0m\u001b[0;34m:\u001b[0m\u001b[0;34m\u001b[0m\u001b[0;34m\u001b[0m\u001b[0m\n\u001b[0;32m--> 187\u001b[0;31m         \u001b[0mcall\u001b[0m \u001b[0;34m=\u001b[0m \u001b[0;32mlambda\u001b[0m \u001b[0mf\u001b[0m\u001b[0;34m,\u001b[0m \u001b[0;34m*\u001b[0m\u001b[0ma\u001b[0m\u001b[0;34m,\u001b[0m \u001b[0;34m**\u001b[0m\u001b[0mk\u001b[0m\u001b[0;34m:\u001b[0m \u001b[0mf\u001b[0m\u001b[0;34m(\u001b[0m\u001b[0;34m*\u001b[0m\u001b[0ma\u001b[0m\u001b[0;34m,\u001b[0m \u001b[0;34m**\u001b[0m\u001b[0mk\u001b[0m\u001b[0;34m)\u001b[0m\u001b[0;34m\u001b[0m\u001b[0;34m\u001b[0m\u001b[0m\n\u001b[0m\u001b[1;32m    188\u001b[0m \u001b[0;34m\u001b[0m\u001b[0m\n\u001b[1;32m    189\u001b[0m         \u001b[0;32mif\u001b[0m \u001b[0mcallable\u001b[0m\u001b[0;34m(\u001b[0m\u001b[0marg\u001b[0m\u001b[0;34m)\u001b[0m\u001b[0;34m:\u001b[0m\u001b[0;34m\u001b[0m\u001b[0;34m\u001b[0m\u001b[0m\n",
      "\u001b[0;32m<ipython-input-189-498b1c437f4e>\u001b[0m in \u001b[0;36mpyboard\u001b[0;34m(self, line, cell)\u001b[0m\n\u001b[1;32m     46\u001b[0m \u001b[0;34m\u001b[0m\u001b[0m\n\u001b[1;32m     47\u001b[0m         \u001b[0;32melse\u001b[0m\u001b[0;34m:\u001b[0m\u001b[0;34m\u001b[0m\u001b[0;34m\u001b[0m\u001b[0m\n\u001b[0;32m---> 48\u001b[0;31m             \u001b[0mmessage\u001b[0m \u001b[0;34m=\u001b[0m \u001b[0mpyb\u001b[0m\u001b[0;34m.\u001b[0m\u001b[0mexec\u001b[0m\u001b[0;34m(\u001b[0m\u001b[0mcell\u001b[0m\u001b[0;34m)\u001b[0m\u001b[0;34m\u001b[0m\u001b[0;34m\u001b[0m\u001b[0m\n\u001b[0m\u001b[1;32m     49\u001b[0m             \u001b[0mprint\u001b[0m\u001b[0;34m(\u001b[0m\u001b[0mmessage\u001b[0m\u001b[0;34m.\u001b[0m\u001b[0mdecode\u001b[0m\u001b[0;34m(\u001b[0m\u001b[0;34m'utf-8'\u001b[0m\u001b[0;34m)\u001b[0m\u001b[0;34m)\u001b[0m\u001b[0;34m\u001b[0m\u001b[0;34m\u001b[0m\u001b[0m\n\u001b[1;32m     50\u001b[0m \u001b[0;34m\u001b[0m\u001b[0m\n",
      "\u001b[0;32m~/useful/micropython/umath/pyboard.py\u001b[0m in \u001b[0;36mexec_\u001b[0;34m(self, command)\u001b[0m\n\u001b[1;32m    247\u001b[0m \u001b[0;34m\u001b[0m\u001b[0m\n\u001b[1;32m    248\u001b[0m     \u001b[0;32mdef\u001b[0m \u001b[0mexec_\u001b[0m\u001b[0;34m(\u001b[0m\u001b[0mself\u001b[0m\u001b[0;34m,\u001b[0m \u001b[0mcommand\u001b[0m\u001b[0;34m)\u001b[0m\u001b[0;34m:\u001b[0m\u001b[0;34m\u001b[0m\u001b[0;34m\u001b[0m\u001b[0m\n\u001b[0;32m--> 249\u001b[0;31m         \u001b[0mret\u001b[0m\u001b[0;34m,\u001b[0m \u001b[0mret_err\u001b[0m \u001b[0;34m=\u001b[0m \u001b[0mself\u001b[0m\u001b[0;34m.\u001b[0m\u001b[0mexec_raw\u001b[0m\u001b[0;34m(\u001b[0m\u001b[0mcommand\u001b[0m\u001b[0;34m)\u001b[0m\u001b[0;34m\u001b[0m\u001b[0;34m\u001b[0m\u001b[0m\n\u001b[0m\u001b[1;32m    250\u001b[0m         \u001b[0;32mif\u001b[0m \u001b[0mret_err\u001b[0m\u001b[0;34m:\u001b[0m\u001b[0;34m\u001b[0m\u001b[0;34m\u001b[0m\u001b[0m\n\u001b[1;32m    251\u001b[0m             \u001b[0;32mraise\u001b[0m \u001b[0mPyboardError\u001b[0m\u001b[0;34m(\u001b[0m\u001b[0;34m'exception'\u001b[0m\u001b[0;34m,\u001b[0m \u001b[0mret\u001b[0m\u001b[0;34m,\u001b[0m \u001b[0mret_err\u001b[0m\u001b[0;34m)\u001b[0m\u001b[0;34m\u001b[0m\u001b[0;34m\u001b[0m\u001b[0m\n",
      "\u001b[0;32m~/useful/micropython/umath/pyboard.py\u001b[0m in \u001b[0;36mexec_raw\u001b[0;34m(self, command, timeout, data_consumer)\u001b[0m\n\u001b[1;32m    238\u001b[0m \u001b[0;34m\u001b[0m\u001b[0m\n\u001b[1;32m    239\u001b[0m     \u001b[0;32mdef\u001b[0m \u001b[0mexec_raw\u001b[0m\u001b[0;34m(\u001b[0m\u001b[0mself\u001b[0m\u001b[0;34m,\u001b[0m \u001b[0mcommand\u001b[0m\u001b[0;34m,\u001b[0m \u001b[0mtimeout\u001b[0m\u001b[0;34m=\u001b[0m\u001b[0;36m10\u001b[0m\u001b[0;34m,\u001b[0m \u001b[0mdata_consumer\u001b[0m\u001b[0;34m=\u001b[0m\u001b[0;32mNone\u001b[0m\u001b[0;34m)\u001b[0m\u001b[0;34m:\u001b[0m\u001b[0;34m\u001b[0m\u001b[0;34m\u001b[0m\u001b[0m\n\u001b[0;32m--> 240\u001b[0;31m         \u001b[0mself\u001b[0m\u001b[0;34m.\u001b[0m\u001b[0mexec_raw_no_follow\u001b[0m\u001b[0;34m(\u001b[0m\u001b[0mcommand\u001b[0m\u001b[0;34m)\u001b[0m\u001b[0;34m;\u001b[0m\u001b[0;34m\u001b[0m\u001b[0;34m\u001b[0m\u001b[0m\n\u001b[0m\u001b[1;32m    241\u001b[0m         \u001b[0;32mreturn\u001b[0m \u001b[0mself\u001b[0m\u001b[0;34m.\u001b[0m\u001b[0mfollow\u001b[0m\u001b[0;34m(\u001b[0m\u001b[0mtimeout\u001b[0m\u001b[0;34m,\u001b[0m \u001b[0mdata_consumer\u001b[0m\u001b[0;34m)\u001b[0m\u001b[0;34m\u001b[0m\u001b[0;34m\u001b[0m\u001b[0m\n\u001b[1;32m    242\u001b[0m \u001b[0;34m\u001b[0m\u001b[0m\n",
      "\u001b[0;32m~/useful/micropython/umath/pyboard.py\u001b[0m in \u001b[0;36mexec_raw_no_follow\u001b[0;34m(self, command)\u001b[0m\n\u001b[1;32m    222\u001b[0m \u001b[0;34m\u001b[0m\u001b[0m\n\u001b[1;32m    223\u001b[0m         \u001b[0;31m# check we have a prompt\u001b[0m\u001b[0;34m\u001b[0m\u001b[0;34m\u001b[0m\u001b[0;34m\u001b[0m\u001b[0m\n\u001b[0;32m--> 224\u001b[0;31m         \u001b[0mdata\u001b[0m \u001b[0;34m=\u001b[0m \u001b[0mself\u001b[0m\u001b[0;34m.\u001b[0m\u001b[0mread_until\u001b[0m\u001b[0;34m(\u001b[0m\u001b[0;36m1\u001b[0m\u001b[0;34m,\u001b[0m \u001b[0;34mb'>'\u001b[0m\u001b[0;34m)\u001b[0m\u001b[0;34m\u001b[0m\u001b[0;34m\u001b[0m\u001b[0m\n\u001b[0m\u001b[1;32m    225\u001b[0m         \u001b[0;32mif\u001b[0m \u001b[0;32mnot\u001b[0m \u001b[0mdata\u001b[0m\u001b[0;34m.\u001b[0m\u001b[0mendswith\u001b[0m\u001b[0;34m(\u001b[0m\u001b[0;34mb'>'\u001b[0m\u001b[0;34m)\u001b[0m\u001b[0;34m:\u001b[0m\u001b[0;34m\u001b[0m\u001b[0;34m\u001b[0m\u001b[0m\n\u001b[1;32m    226\u001b[0m             \u001b[0;32mraise\u001b[0m \u001b[0mPyboardError\u001b[0m\u001b[0;34m(\u001b[0m\u001b[0;34m'could not enter raw repl'\u001b[0m\u001b[0;34m)\u001b[0m\u001b[0;34m\u001b[0m\u001b[0;34m\u001b[0m\u001b[0m\n",
      "\u001b[0;32m~/useful/micropython/umath/pyboard.py\u001b[0m in \u001b[0;36mread_until\u001b[0;34m(self, min_num_bytes, ending, timeout, data_consumer)\u001b[0m\n\u001b[1;32m    149\u001b[0m \u001b[0;34m\u001b[0m\u001b[0m\n\u001b[1;32m    150\u001b[0m     \u001b[0;32mdef\u001b[0m \u001b[0mread_until\u001b[0m\u001b[0;34m(\u001b[0m\u001b[0mself\u001b[0m\u001b[0;34m,\u001b[0m \u001b[0mmin_num_bytes\u001b[0m\u001b[0;34m,\u001b[0m \u001b[0mending\u001b[0m\u001b[0;34m,\u001b[0m \u001b[0mtimeout\u001b[0m\u001b[0;34m=\u001b[0m\u001b[0;36m10\u001b[0m\u001b[0;34m,\u001b[0m \u001b[0mdata_consumer\u001b[0m\u001b[0;34m=\u001b[0m\u001b[0;32mNone\u001b[0m\u001b[0;34m)\u001b[0m\u001b[0;34m:\u001b[0m\u001b[0;34m\u001b[0m\u001b[0;34m\u001b[0m\u001b[0m\n\u001b[0;32m--> 151\u001b[0;31m         \u001b[0mdata\u001b[0m \u001b[0;34m=\u001b[0m \u001b[0mself\u001b[0m\u001b[0;34m.\u001b[0m\u001b[0mserial\u001b[0m\u001b[0;34m.\u001b[0m\u001b[0mread\u001b[0m\u001b[0;34m(\u001b[0m\u001b[0mmin_num_bytes\u001b[0m\u001b[0;34m)\u001b[0m\u001b[0;34m\u001b[0m\u001b[0;34m\u001b[0m\u001b[0m\n\u001b[0m\u001b[1;32m    152\u001b[0m         \u001b[0;32mif\u001b[0m \u001b[0mdata_consumer\u001b[0m\u001b[0;34m:\u001b[0m\u001b[0;34m\u001b[0m\u001b[0;34m\u001b[0m\u001b[0m\n\u001b[1;32m    153\u001b[0m             \u001b[0mdata_consumer\u001b[0m\u001b[0;34m(\u001b[0m\u001b[0mdata\u001b[0m\u001b[0;34m)\u001b[0m\u001b[0;34m\u001b[0m\u001b[0;34m\u001b[0m\u001b[0m\n",
      "\u001b[0;32m~/anaconda3/lib/python3.6/site-packages/serial/serialposix.py\u001b[0m in \u001b[0;36mread\u001b[0;34m(self, size)\u001b[0m\n\u001b[1;32m    476\u001b[0m         \"\"\"\n\u001b[1;32m    477\u001b[0m         \u001b[0;32mif\u001b[0m \u001b[0;32mnot\u001b[0m \u001b[0mself\u001b[0m\u001b[0;34m.\u001b[0m\u001b[0mis_open\u001b[0m\u001b[0;34m:\u001b[0m\u001b[0;34m\u001b[0m\u001b[0;34m\u001b[0m\u001b[0m\n\u001b[0;32m--> 478\u001b[0;31m             \u001b[0;32mraise\u001b[0m \u001b[0mportNotOpenError\u001b[0m\u001b[0;34m\u001b[0m\u001b[0;34m\u001b[0m\u001b[0m\n\u001b[0m\u001b[1;32m    479\u001b[0m         \u001b[0mread\u001b[0m \u001b[0;34m=\u001b[0m \u001b[0mbytearray\u001b[0m\u001b[0;34m(\u001b[0m\u001b[0;34m)\u001b[0m\u001b[0;34m\u001b[0m\u001b[0;34m\u001b[0m\u001b[0m\n\u001b[1;32m    480\u001b[0m         \u001b[0mtimeout\u001b[0m \u001b[0;34m=\u001b[0m \u001b[0mTimeout\u001b[0m\u001b[0;34m(\u001b[0m\u001b[0mself\u001b[0m\u001b[0;34m.\u001b[0m\u001b[0m_timeout\u001b[0m\u001b[0;34m)\u001b[0m\u001b[0;34m\u001b[0m\u001b[0;34m\u001b[0m\u001b[0m\n",
      "\u001b[0;31mSerialException\u001b[0m: Attempting to use a port that is not open"
     ]
    }
   ],
   "source": [
    "pyb.exit_raw_repl()\n",
    "pyb.close()"
   ]
  },
  {
   "cell_type": "markdown",
   "metadata": {},
   "source": [
    "# Speed tests"
   ]
  },
  {
   "cell_type": "markdown",
   "metadata": {},
   "source": [
    "## linspace"
   ]
  },
  {
   "cell_type": "code",
   "execution_count": 495,
   "metadata": {
    "ExecuteTime": {
     "end_time": "2019-03-08T18:29:25.723377Z",
     "start_time": "2019-03-08T18:29:25.690876Z"
    }
   },
   "outputs": [
    {
     "name": "stdout",
     "output_type": "stream",
     "text": [
      "\n"
     ]
    }
   ],
   "source": [
    "%%pyboard\n",
    "\n",
    "from ulab import linspace\n",
    "\n",
    "# this is the naive implementation of linspace\n",
    "def py_linspace(start, end, n):\n",
    "    q = (end-start)/n\n",
    "    return [start+i*q for i in range(n)]"
   ]
  },
  {
   "cell_type": "code",
   "execution_count": 496,
   "metadata": {
    "ExecuteTime": {
     "end_time": "2019-03-08T18:29:26.830791Z",
     "start_time": "2019-03-08T18:29:26.785121Z"
    }
   },
   "outputs": [
    {
     "name": "stdout",
     "output_type": "stream",
     "text": [
      "execution time: 1475 us\r\n",
      "\n",
      "\n"
     ]
    }
   ],
   "source": [
    "%%pyboard -time 1\n",
    "\n",
    "a = py_linspace(0, 10, 128)"
   ]
  },
  {
   "cell_type": "code",
   "execution_count": 497,
   "metadata": {
    "ExecuteTime": {
     "end_time": "2019-03-08T18:29:30.846337Z",
     "start_time": "2019-03-08T18:29:30.801182Z"
    }
   },
   "outputs": [
    {
     "name": "stdout",
     "output_type": "stream",
     "text": [
      "execution time: 284 us\r\n",
      "\n",
      "\n"
     ]
    }
   ],
   "source": [
    "%%pyboard -time 1\n",
    "\n",
    "a = linspace(0, 10, 128)"
   ]
  },
  {
   "cell_type": "markdown",
   "metadata": {},
   "source": [
    "## zeros, ones\n",
    "\n",
    "We can't gain too much here, since this is really just an assignment, without actual computation. In fact, the pythonic implementation is faster by a factor of 2.5."
   ]
  },
  {
   "cell_type": "code",
   "execution_count": 498,
   "metadata": {
    "ExecuteTime": {
     "end_time": "2019-03-08T18:29:34.129958Z",
     "start_time": "2019-03-08T18:29:34.107385Z"
    }
   },
   "outputs": [
    {
     "name": "stdout",
     "output_type": "stream",
     "text": [
      "\n"
     ]
    }
   ],
   "source": [
    "%%pyboard\n",
    "\n",
    "from ulab import ones, zeros"
   ]
  },
  {
   "cell_type": "markdown",
   "metadata": {},
   "source": [
    "### zeros"
   ]
  },
  {
   "cell_type": "code",
   "execution_count": 499,
   "metadata": {
    "ExecuteTime": {
     "end_time": "2019-03-08T18:29:36.253357Z",
     "start_time": "2019-03-08T18:29:36.234071Z"
    }
   },
   "outputs": [
    {
     "name": "stdout",
     "output_type": "stream",
     "text": [
      "\n"
     ]
    }
   ],
   "source": [
    "%%pyboard\n",
    "\n",
    "from ulab import zeros, ones"
   ]
  },
  {
   "cell_type": "code",
   "execution_count": 500,
   "metadata": {
    "ExecuteTime": {
     "end_time": "2019-03-08T18:29:37.521620Z",
     "start_time": "2019-03-08T18:29:37.479520Z"
    }
   },
   "outputs": [
    {
     "name": "stdout",
     "output_type": "stream",
     "text": [
      "execution time: 68 us\r\n",
      "\n",
      "\n"
     ]
    }
   ],
   "source": [
    "%%pyboard -time 1\n",
    "\n",
    "# pythonic implementation of zeros(128)\n",
    "a = [0.0]*128"
   ]
  },
  {
   "cell_type": "code",
   "execution_count": 501,
   "metadata": {
    "ExecuteTime": {
     "end_time": "2019-03-08T18:29:40.940121Z",
     "start_time": "2019-03-08T18:29:40.900155Z"
    }
   },
   "outputs": [
    {
     "name": "stdout",
     "output_type": "stream",
     "text": [
      "execution time: 77 us\r\n",
      "\n",
      "\n"
     ]
    }
   ],
   "source": [
    "%%pyboard -time 1\n",
    "\n",
    "a = zeros(128)"
   ]
  },
  {
   "cell_type": "markdown",
   "metadata": {},
   "source": [
    "### ones"
   ]
  },
  {
   "cell_type": "code",
   "execution_count": 502,
   "metadata": {
    "ExecuteTime": {
     "end_time": "2019-03-08T18:29:45.687893Z",
     "start_time": "2019-03-08T18:29:45.643514Z"
    }
   },
   "outputs": [
    {
     "name": "stdout",
     "output_type": "stream",
     "text": [
      "execution time: 69 us\r\n",
      "\n",
      "\n"
     ]
    }
   ],
   "source": [
    "%%pyboard -time 1\n",
    "\n",
    "# pythonic implementation of ones(128)\n",
    "a = [1.0]*128"
   ]
  },
  {
   "cell_type": "code",
   "execution_count": 503,
   "metadata": {
    "ExecuteTime": {
     "end_time": "2019-03-08T18:29:47.413258Z",
     "start_time": "2019-03-08T18:29:47.372171Z"
    }
   },
   "outputs": [
    {
     "name": "stdout",
     "output_type": "stream",
     "text": [
      "execution time: 77 us\r\n",
      "\n",
      "\n"
     ]
    }
   ],
   "source": [
    "%%pyboard -time 1\n",
    "\n",
    "a = ones(128)"
   ]
  },
  {
   "cell_type": "markdown",
   "metadata": {},
   "source": [
    "## add, multiply etc.\n",
    "\n",
    "Here we can gain a factor of two."
   ]
  },
  {
   "cell_type": "code",
   "execution_count": 504,
   "metadata": {
    "ExecuteTime": {
     "end_time": "2019-03-08T18:29:51.404040Z",
     "start_time": "2019-03-08T18:29:51.374497Z"
    }
   },
   "outputs": [
    {
     "name": "stdout",
     "output_type": "stream",
     "text": [
      "\n"
     ]
    }
   ],
   "source": [
    "%%pyboard\n",
    "\n",
    "from ulab import linspace, zeros, ones, add, multiply\n",
    "a = linspace(0, 10, 128)\n",
    "b = ones(128)\n",
    "\n",
    "def py_add(a, b):\n",
    "    return [a[i]+b[i] for i in range(len(a))]\n",
    "\n",
    "def py_multiply(a, b):\n",
    "    return [a[i]*b[i] for i in range(len(a))]"
   ]
  },
  {
   "cell_type": "markdown",
   "metadata": {},
   "source": [
    "### add"
   ]
  },
  {
   "cell_type": "code",
   "execution_count": 505,
   "metadata": {
    "ExecuteTime": {
     "end_time": "2019-03-08T18:29:54.043077Z",
     "start_time": "2019-03-08T18:29:53.986739Z"
    }
   },
   "outputs": [
    {
     "name": "stdout",
     "output_type": "stream",
     "text": [
      "execution time: 2005 us\r\n",
      "\n",
      "\n"
     ]
    }
   ],
   "source": [
    "%%pyboard -time 1\n",
    "\n",
    "py_add(a, b)"
   ]
  },
  {
   "cell_type": "code",
   "execution_count": 507,
   "metadata": {
    "ExecuteTime": {
     "end_time": "2019-03-08T18:30:00.324286Z",
     "start_time": "2019-03-08T18:30:00.279565Z"
    }
   },
   "outputs": [
    {
     "name": "stdout",
     "output_type": "stream",
     "text": [
      "execution time: 1086 us\r\n",
      "\n",
      "\n"
     ]
    }
   ],
   "source": [
    "%%pyboard -time 1\n",
    "\n",
    "add(a, b)"
   ]
  },
  {
   "cell_type": "markdown",
   "metadata": {},
   "source": [
    "### multiply"
   ]
  },
  {
   "cell_type": "code",
   "execution_count": 508,
   "metadata": {
    "ExecuteTime": {
     "end_time": "2019-03-08T18:30:04.017649Z",
     "start_time": "2019-03-08T18:30:03.968907Z"
    }
   },
   "outputs": [
    {
     "name": "stdout",
     "output_type": "stream",
     "text": [
      "execution time: 2008 us\r\n",
      "\n",
      "\n"
     ]
    }
   ],
   "source": [
    "%%pyboard -time 1\n",
    "\n",
    "py_multiply(a, b)"
   ]
  },
  {
   "cell_type": "code",
   "execution_count": 509,
   "metadata": {
    "ExecuteTime": {
     "end_time": "2019-03-08T18:30:07.876795Z",
     "start_time": "2019-03-08T18:30:07.833339Z"
    }
   },
   "outputs": [
    {
     "name": "stdout",
     "output_type": "stream",
     "text": [
      "execution time: 1092 us\r\n",
      "\n",
      "\n"
     ]
    }
   ],
   "source": [
    "%%pyboard -time 1\n",
    "\n",
    "multiply(a, b)"
   ]
  },
  {
   "cell_type": "markdown",
   "metadata": {},
   "source": [
    "## Timing function\n",
    "\n",
    "The following decorator should measure the execution time of `n` function calls. We insert an empty loop, too, so that we can subtract the overhead of calling `for`."
   ]
  },
  {
   "cell_type": "code",
   "execution_count": null,
   "metadata": {},
   "outputs": [],
   "source": [
    "%%pyboard\n",
    "\n",
    "import utime\n",
    "\n",
    "def timeit(n=1000):\n",
    "    def wrapper(f, *args, **kwargs):\n",
    "        func_name = str(f).split(' ')[1]\n",
    "        def new_func(*args, **kwargs):\n",
    "            t = utime.ticks_us()\n",
    "            # empty loop, to measure the function call overhead\n",
    "            for i in range(n):\n",
    "                pass\n",
    "            delta1 = utime.ticks_diff(utime.ticks_us(), t)\n",
    "            t = utime.ticks_us()\n",
    "            for i in range(n):\n",
    "                result = f(*args, **kwargs)\n",
    "            delta2 = utime.ticks_diff(utime.ticks_us(), t)\n",
    "            print('{}() execution time, {} cycles = {:6.3f}ms'.format(func_name, n, (delta2-delta1)/n))\n",
    "            return result\n",
    "        return new_func\n",
    "    return timeit"
   ]
  },
  {
   "cell_type": "markdown",
   "metadata": {},
   "source": [
    "## sum"
   ]
  },
  {
   "cell_type": "code",
   "execution_count": 510,
   "metadata": {
    "ExecuteTime": {
     "end_time": "2019-03-08T18:30:12.752150Z",
     "start_time": "2019-03-08T18:30:12.740976Z"
    }
   },
   "outputs": [],
   "source": [
    "def sum(data):\n",
    "    _sum = 0\n",
    "    for datum in data:\n",
    "        _sum += datum\n",
    "    return _sum"
   ]
  },
  {
   "cell_type": "markdown",
   "metadata": {},
   "source": [
    "## mean, std"
   ]
  },
  {
   "cell_type": "code",
   "execution_count": 511,
   "metadata": {
    "ExecuteTime": {
     "end_time": "2019-03-08T18:30:16.861362Z",
     "start_time": "2019-03-08T18:30:16.839524Z"
    }
   },
   "outputs": [
    {
     "name": "stdout",
     "output_type": "stream",
     "text": [
      "\n"
     ]
    }
   ],
   "source": [
    "%%pyboard\n",
    "\n",
    "from ulab import mean, std, linspace\n",
    "\n",
    "a = linspace(0, 10, 128)"
   ]
  },
  {
   "cell_type": "markdown",
   "metadata": {},
   "source": [
    "### mean"
   ]
  },
  {
   "cell_type": "code",
   "execution_count": 512,
   "metadata": {
    "ExecuteTime": {
     "end_time": "2019-03-08T18:30:19.462693Z",
     "start_time": "2019-03-08T18:30:19.441656Z"
    }
   },
   "outputs": [
    {
     "name": "stdout",
     "output_type": "stream",
     "text": [
      "\n"
     ]
    }
   ],
   "source": [
    "%%pyboard\n",
    "\n",
    "def py_mean(data):\n",
    "    return sum(data)/len(data)"
   ]
  },
  {
   "cell_type": "code",
   "execution_count": 513,
   "metadata": {
    "ExecuteTime": {
     "end_time": "2019-03-08T18:30:21.883869Z",
     "start_time": "2019-03-08T18:30:21.839742Z"
    }
   },
   "outputs": [
    {
     "name": "stdout",
     "output_type": "stream",
     "text": [
      "execution time: 869 us\r\n",
      "\n",
      "\n"
     ]
    }
   ],
   "source": [
    "%%pyboard -time 1\n",
    "\n",
    "py_mean(a)"
   ]
  },
  {
   "cell_type": "code",
   "execution_count": 514,
   "metadata": {
    "ExecuteTime": {
     "end_time": "2019-03-08T18:30:24.361188Z",
     "start_time": "2019-03-08T18:30:24.317137Z"
    }
   },
   "outputs": [
    {
     "name": "stdout",
     "output_type": "stream",
     "text": [
      "execution time: 435 us\r\n",
      "\n",
      "\n"
     ]
    }
   ],
   "source": [
    "%%pyboard -time 1\n",
    "\n",
    "mean(a)"
   ]
  },
  {
   "cell_type": "markdown",
   "metadata": {},
   "source": [
    "### std"
   ]
  },
  {
   "cell_type": "code",
   "execution_count": 515,
   "metadata": {
    "ExecuteTime": {
     "end_time": "2019-03-08T18:30:31.577513Z",
     "start_time": "2019-03-08T18:30:31.558408Z"
    }
   },
   "outputs": [
    {
     "name": "stdout",
     "output_type": "stream",
     "text": [
      "\n"
     ]
    }
   ],
   "source": [
    "%%pyboard\n",
    "\n",
    "\n",
    "from math import sqrt\n",
    "\n",
    "def py_std(data):\n",
    "    _sq_sum = 0\n",
    "    _mean = mean(data)\n",
    "    for datum in data:\n",
    "        _sq_sum += datum**2\n",
    "    _sq_sum /= len(data)\n",
    "    return sqrt(_sq_sum-_mean**2)"
   ]
  },
  {
   "cell_type": "code",
   "execution_count": 516,
   "metadata": {
    "ExecuteTime": {
     "end_time": "2019-03-08T18:30:33.073599Z",
     "start_time": "2019-03-08T18:30:33.027835Z"
    }
   },
   "outputs": [
    {
     "name": "stdout",
     "output_type": "stream",
     "text": [
      "execution time: 2172 us\r\n",
      "\n",
      "\n"
     ]
    }
   ],
   "source": [
    "%%pyboard -time 1\n",
    "\n",
    "py_std(a)"
   ]
  },
  {
   "cell_type": "code",
   "execution_count": 517,
   "metadata": {
    "ExecuteTime": {
     "end_time": "2019-03-08T18:30:36.286326Z",
     "start_time": "2019-03-08T18:30:36.243801Z"
    }
   },
   "outputs": [
    {
     "name": "stdout",
     "output_type": "stream",
     "text": [
      "execution time: 850 us\r\n",
      "\n",
      "\n"
     ]
    }
   ],
   "source": [
    "%%pyboard -time 1\n",
    "\n",
    "std(a)"
   ]
  },
  {
   "cell_type": "markdown",
   "metadata": {},
   "source": [
    "## argmin, argmax"
   ]
  },
  {
   "cell_type": "code",
   "execution_count": 518,
   "metadata": {
    "ExecuteTime": {
     "end_time": "2019-03-08T18:30:39.037682Z",
     "start_time": "2019-03-08T18:30:39.014809Z"
    }
   },
   "outputs": [
    {
     "name": "stdout",
     "output_type": "stream",
     "text": [
      "\n"
     ]
    }
   ],
   "source": [
    "%%pyboard\n",
    "\n",
    "from ulab import argmax, argmin, linspace\n",
    "\n",
    "a = linspace(0, 10, 128)"
   ]
  },
  {
   "cell_type": "code",
   "execution_count": 519,
   "metadata": {
    "ExecuteTime": {
     "end_time": "2019-03-08T18:30:40.509032Z",
     "start_time": "2019-03-08T18:30:40.490921Z"
    }
   },
   "outputs": [
    {
     "name": "stdout",
     "output_type": "stream",
     "text": [
      "\n"
     ]
    }
   ],
   "source": [
    "%%pyboard\n",
    "\n",
    "def py_argmax(data):\n",
    "    idx, tmp = 0, data[0]\n",
    "    for i in range(len(data)):\n",
    "        if data[i] > tmp: \n",
    "            idx = i\n",
    "            tmp = data[i]\n",
    "    return idx"
   ]
  },
  {
   "cell_type": "code",
   "execution_count": 520,
   "metadata": {
    "ExecuteTime": {
     "end_time": "2019-03-08T18:30:42.242268Z",
     "start_time": "2019-03-08T18:30:42.195423Z"
    }
   },
   "outputs": [
    {
     "name": "stdout",
     "output_type": "stream",
     "text": [
      "execution time: 2004 us\r\n",
      "\n",
      "\n"
     ]
    }
   ],
   "source": [
    "%%pyboard -time 1\n",
    "\n",
    "py_argmax(a)"
   ]
  },
  {
   "cell_type": "code",
   "execution_count": 521,
   "metadata": {
    "ExecuteTime": {
     "end_time": "2019-03-08T18:30:44.308029Z",
     "start_time": "2019-03-08T18:30:44.264320Z"
    }
   },
   "outputs": [
    {
     "name": "stdout",
     "output_type": "stream",
     "text": [
      "execution time: 656 us\r\n",
      "\n",
      "\n"
     ]
    }
   ],
   "source": [
    "%%pyboard -time 1\n",
    "\n",
    "argmax(a)"
   ]
  },
  {
   "cell_type": "markdown",
   "metadata": {},
   "source": [
    "## clip\n",
    "\n",
    "This function is a bit questionable: the pythonic implementation can leave the type of the data alone (one simply has to define a_min/a_max in such a way that they are compatible with the type of the data array), while the C implementation returns an array of floats, irrespective of the input type. For that it is a factor of 2 faster. "
   ]
  },
  {
   "cell_type": "code",
   "execution_count": 522,
   "metadata": {
    "ExecuteTime": {
     "end_time": "2019-03-08T18:30:46.749215Z",
     "start_time": "2019-03-08T18:30:46.733059Z"
    }
   },
   "outputs": [
    {
     "name": "stdout",
     "output_type": "stream",
     "text": [
      "\n"
     ]
    }
   ],
   "source": [
    "%%pyboard\n",
    "\n",
    "from ulab import clip, linspace\n",
    "a = linspace(0, 10, 128)"
   ]
  },
  {
   "cell_type": "code",
   "execution_count": 523,
   "metadata": {
    "ExecuteTime": {
     "end_time": "2019-03-08T18:30:53.776773Z",
     "start_time": "2019-03-08T18:30:53.743991Z"
    }
   },
   "outputs": [
    {
     "name": "stdout",
     "output_type": "stream",
     "text": [
      "\n"
     ]
    }
   ],
   "source": [
    "%%pyboard\n",
    "\n",
    "def py_clip(data, a_min, a_max):\n",
    "    for i in range(len(data)):\n",
    "        data[i] = min(max(data[i], a_min), a_max)\n",
    "    return data\n",
    "\n",
    "# This second implementation is faster than the previous one\n",
    "def py_clip(data, a_min, a_max):\n",
    "    for i in range(len(data)):\n",
    "        if data[i] > a_max: data[i] = a_max\n",
    "        elif data[i] < a_min: data[i] = a_min\n",
    "    return data"
   ]
  },
  {
   "cell_type": "code",
   "execution_count": 524,
   "metadata": {
    "ExecuteTime": {
     "end_time": "2019-03-08T18:30:56.840911Z",
     "start_time": "2019-03-08T18:30:56.793650Z"
    }
   },
   "outputs": [
    {
     "name": "stdout",
     "output_type": "stream",
     "text": [
      "execution time: 2137 us\r\n",
      "\n",
      "\n"
     ]
    }
   ],
   "source": [
    "%%pyboard -time 1\n",
    "\n",
    "py_clip(a, 2, 4)"
   ]
  },
  {
   "cell_type": "code",
   "execution_count": 525,
   "metadata": {
    "ExecuteTime": {
     "end_time": "2019-03-08T18:30:58.657101Z",
     "start_time": "2019-03-08T18:30:58.615813Z"
    }
   },
   "outputs": [
    {
     "name": "stdout",
     "output_type": "stream",
     "text": [
      "execution time: 732 us\r\n",
      "\n",
      "\n"
     ]
    }
   ],
   "source": [
    "%%pyboard -time 1\n",
    "\n",
    "clip(a, 2, 4)"
   ]
  },
  {
   "cell_type": "markdown",
   "metadata": {},
   "source": [
    "## sin, cos, etc."
   ]
  },
  {
   "cell_type": "code",
   "execution_count": 526,
   "metadata": {
    "ExecuteTime": {
     "end_time": "2019-03-08T18:31:02.976777Z",
     "start_time": "2019-03-08T18:31:02.953859Z"
    }
   },
   "outputs": [
    {
     "name": "stdout",
     "output_type": "stream",
     "text": [
      "\n"
     ]
    }
   ],
   "source": [
    "%%pyboard\n",
    "\n",
    "from math import cos as mcos\n",
    "from ulab import linspace, cos\n",
    "a = linspace(0, 10, 128)\n",
    "\n",
    "def py_cos(x):\n",
    "    return [mcos(_x) for _x in x]"
   ]
  },
  {
   "cell_type": "code",
   "execution_count": 527,
   "metadata": {
    "ExecuteTime": {
     "end_time": "2019-03-08T18:31:03.766645Z",
     "start_time": "2019-03-08T18:31:03.721371Z"
    }
   },
   "outputs": [
    {
     "name": "stdout",
     "output_type": "stream",
     "text": [
      "execution time: 1589 us\r\n",
      "\n",
      "\n"
     ]
    }
   ],
   "source": [
    "%%pyboard -time 1\n",
    "\n",
    "py_cos(a)"
   ]
  },
  {
   "cell_type": "code",
   "execution_count": 528,
   "metadata": {
    "ExecuteTime": {
     "end_time": "2019-03-08T18:31:19.961518Z",
     "start_time": "2019-03-08T18:31:19.917839Z"
    }
   },
   "outputs": [
    {
     "name": "stdout",
     "output_type": "stream",
     "text": [
      "execution time: 1012 us\r\n",
      "\n",
      "\n"
     ]
    }
   ],
   "source": [
    "%%pyboard -time 1\n",
    "\n",
    "cos(a)"
   ]
  },
  {
   "cell_type": "markdown",
   "metadata": {},
   "source": [
    "## fft"
   ]
  },
  {
   "cell_type": "code",
   "execution_count": 651,
   "metadata": {
    "ExecuteTime": {
     "end_time": "2019-03-08T19:43:30.123324Z",
     "start_time": "2019-03-08T19:43:30.098169Z"
    }
   },
   "outputs": [
    {
     "name": "stdout",
     "output_type": "stream",
     "text": [
      "\n"
     ]
    }
   ],
   "source": [
    "%%pyboard\n",
    "\n",
    "from ulab import fft, zeros, cos, linspace, spectrum\n",
    "from math import pi\n",
    "import gc\n",
    "\n",
    "# n = 512\n",
    "# x = linspace(0, 16*pi, n)\n",
    "# y = cos(x)\n",
    "# im = zeros(n)"
   ]
  },
  {
   "cell_type": "code",
   "execution_count": 644,
   "metadata": {
    "ExecuteTime": {
     "end_time": "2019-03-08T19:37:39.320038Z",
     "start_time": "2019-03-08T19:37:39.256488Z"
    }
   },
   "outputs": [
    {
     "name": "stdout",
     "output_type": "stream",
     "text": [
      "execution time: 10293 us\r\n",
      "\n",
      "\n"
     ]
    }
   ],
   "source": [
    "%%pyboard -time 1\n",
    "\n",
    "fft(y, im)"
   ]
  },
  {
   "cell_type": "code",
   "execution_count": 652,
   "metadata": {
    "ExecuteTime": {
     "end_time": "2019-03-08T19:46:28.169038Z",
     "start_time": "2019-03-08T19:46:28.091024Z"
    }
   },
   "outputs": [
    {
     "name": "stdout",
     "output_type": "stream",
     "text": [
      "memory before execution:\n",
      "========================\n",
      " stack: 460 out of 15360\r\n",
      "GC: total: 102784, used: 752, free: 102032\r\n",
      " No. of 1-blocks: 12, 2-blocks: 2, max blk sz: 10, max free sz: 6368\r\n",
      "None\r\n",
      "\n",
      ">>>  \n",
      "memory after execution:\n",
      "========================\n",
      " stack: 460 out of 15360\r\n",
      "GC: total: 102784, used: 5712, free: 97072\r\n",
      " No. of 1-blocks: 29, 2-blocks: 5, max blk sz: 128, max free sz: 6043\r\n",
      "None\r\n",
      "\n"
     ]
    }
   ],
   "source": [
    "%%pyboard -memory 1\n",
    "\n",
    "import array\n",
    "\n",
    "b = array.array('I', (0 for i in range(512)))\n",
    "out = array.array('f', (0 for i in range(512)))"
   ]
  },
  {
   "cell_type": "code",
   "execution_count": 646,
   "metadata": {
    "ExecuteTime": {
     "end_time": "2019-03-08T19:38:39.051255Z",
     "start_time": "2019-03-08T19:38:38.983733Z"
    }
   },
   "outputs": [
    {
     "name": "stdout",
     "output_type": "stream",
     "text": [
      "memory before execution:\n",
      "========================\n",
      " stack: 460 out of 15360\r\n",
      "GC: total: 102784, used: 27520, free: 75264\r\n",
      " No. of 1-blocks: 1037, 2-blocks: 2, max blk sz: 128, max free sz: 2517\r\n",
      "None\r\n",
      "\n",
      ">>>  \n",
      "memory after execution:\n",
      "========================\n",
      " stack: 460 out of 15360\r\n",
      "GC: total: 102784, used: 9040, free: 93744\r\n",
      " No. of 1-blocks: 11, 2-blocks: 3, max blk sz: 128, max free sz: 2718\r\n",
      "None\r\n",
      "\n"
     ]
    }
   ],
   "source": [
    "%%pyboard -memory 1\n",
    "\n",
    "gc.collect()"
   ]
  },
  {
   "cell_type": "code",
   "execution_count": 653,
   "metadata": {
    "ExecuteTime": {
     "end_time": "2019-03-08T19:46:43.889646Z",
     "start_time": "2019-03-08T19:46:43.834301Z"
    }
   },
   "outputs": [
    {
     "name": "stdout",
     "output_type": "stream",
     "text": [
      "execution time: 2803 us\r\n",
      "\n",
      "\n"
     ]
    }
   ],
   "source": [
    "%%pyboard -time 1\n",
    "\n",
    "spectrum(b, out)"
   ]
  },
  {
   "cell_type": "code",
   "execution_count": 233,
   "metadata": {
    "ExecuteTime": {
     "end_time": "2019-03-06T19:34:29.568750Z",
     "start_time": "2019-03-06T19:34:29.494747Z"
    }
   },
   "outputs": [
    {
     "name": "stdout",
     "output_type": "stream",
     "text": [
      "memory before execution:\n",
      "========================\n",
      " stack: 460 out of 15360\r\n",
      "GC: total: 102784, used: 17680, free: 85104\r\n",
      " No. of 1-blocks: 32, 2-blocks: 4, max blk sz: 256, max free sz: 1102\r\n",
      "None\r\n",
      "\n",
      ">>>  \n",
      "memory after execution:\n",
      "========================\n",
      " stack: 460 out of 15360\r\n",
      "GC: total: 102784, used: 58816, free: 43968\r\n",
      " No. of 1-blocks: 2087, 2-blocks: 6, max blk sz: 256, max free sz: 839\r\n",
      "None\r\n",
      "\n"
     ]
    }
   ],
   "source": [
    "%%pyboard -memory 1\n",
    "\n",
    "fft(y, im)"
   ]
  },
  {
   "cell_type": "code",
   "execution_count": 203,
   "metadata": {
    "ExecuteTime": {
     "end_time": "2019-03-06T19:13:29.344929Z",
     "start_time": "2019-03-06T19:13:29.287905Z"
    }
   },
   "outputs": [
    {
     "name": "stdout",
     "output_type": "stream",
     "text": [
      "array('d', [0.9999405, 1.015168, 1.063806, 1.156425, 1.317924, 1.608516, 2.208441, 3.981189, 62.6123, -3.93527, -1.783966, -1.10533, -0.7760211, -0.5833052, -0.4578487, -0.370258, -0.3060662, -0.2572737, -0.2191204, -0.1886238, -0.1637774, -0.1432322, -0.1260248, -0.1114395, -0.09896756, -0.0882128, -0.07886087, -0.07068427, -0.06348855, -0.05712152, -0.05146626, -0.04641634, -0.04189265, -0.03782628, -0.03415721, -0.03084201, -0.02783532, -0.02510341, -0.02261782, -0.02035014, -0.01827937, -0.01638965, -0.01465782, -0.01307356, -0.01162319, -0.01029374, -0.009077996, -0.007965371, -0.00694862, -0.00602074, -0.005175725, -0.004409045, -0.003716409, -0.003090441, -0.002531469, -0.002034187, -0.001594543, -0.001214385, -0.0008877516, -0.0006140471, -0.0003932118, -0.0002208948, -9.918213e-05, -2.628565e-05, -2.741814e-06, -2.634525e-05, -9.918213e-05, -0.0002208352, -0.0003932118, -0.0006142259, -0.0008877516, -0.001214743, -0.001594543, -0.002033949, -0.00253123, -0.003090441, -0.003716409, -0.004409015, -0.00517568, -0.006020755, -0.00694859, -0.007965333, -0.009078011, -0.01029372, -0.01162314, -0.01307341, -0.01465775, -0.01638957, -0.01827907, -0.02035026, -0.02261795, -0.02510343, -0.02783535, -0.03084201, -0.03415718, -0.03782624, -0.04189265, -0.0464164, -0.0514662, -0.05712151, -0.06348865, -0.0706843, -0.07886076, -0.08821281, -0.09897107, -0.1114394, -0.1260247, -0.1432322, -0.1637773, -0.1886238, -0.2191204, -0.2572735, -0.3060661, -0.370258, -0.4578487, -0.5833051, -0.7760211, -1.10533, -1.783966, -3.935269, 62.6123, 3.981189, 2.208441, 1.608516, 1.317924, 1.156424, 1.063806, 1.015168])\r\n",
      "\n",
      "array('d', [0.9999405, 1.015168, 1.063806, 1.156425, 1.317924, 1.608516, 2.208441, 3.981189, 62.6123, -3.93527, -1.783966, -1.10533, -0.7760211, -0.5833052, -0.4578487, -0.370258, -0.3060662, -0.2572737, -0.2191204, -0.1886238, -0.1637774, -0.1432322, -0.1260248, -0.1114395, -0.09896756, -0.0882128, -0.07886087, -0.07068427, -0.06348855, -0.05712152, -0.05146626, -0.04641634, -0.04189265, -0.03782628, -0.03415721, -0.03084201, -0.02783532, -0.02510341, -0.02261782, -0.02035014, -0.01827937, -0.01638965, -0.01465782, -0.01307356, -0.01162319, -0.01029374, -0.009077996, -0.007965371, -0.00694862, -0.00602074, -0.005175725, -0.004409045, -0.003716409, -0.003090441, -0.002531469, -0.002034187, -0.001594543, -0.001214385, -0.0008877516, -0.0006140471, -0.0003932118, -0.0002208948, -9.918213e-05, -2.628565e-05, -2.741814e-06, -2.634525e-05, -9.918213e-05, -0.0002208352, -0.0003932118, -0.0006142259, -0.0008877516, -0.001214743, -0.001594543, -0.002033949, -0.00253123, -0.003090441, -0.003716409, -0.004409015, -0.00517568, -0.006020755, -0.00694859, -0.007965333, -0.009078011, -0.01029372, -0.01162314, -0.01307341, -0.01465775, -0.01638957, -0.01827907, -0.02035026, -0.02261795, -0.02510343, -0.02783535, -0.03084201, -0.03415718, -0.03782624, -0.04189265, -0.0464164, -0.0514662, -0.05712151, -0.06348865, -0.0706843, -0.07886076, -0.08821281, -0.09897107, -0.1114394, -0.1260247, -0.1432322, -0.1637773, -0.1886238, -0.2191204, -0.2572735, -0.3060661, -0.370258, -0.4578487, -0.5833051, -0.7760211, -1.10533, -1.783966, -3.935269, 62.6123, 3.981189, 2.208441, 1.608516, 1.317924, 1.156424, 1.063806, 1.015168])\r\n",
      "\n"
     ]
    }
   ],
   "source": [
    "%%pyboard -data real_part\n",
    "\n",
    "real, _ = fft(y, im)\n",
    "print(real)"
   ]
  },
  {
   "cell_type": "code",
   "execution_count": 299,
   "metadata": {
    "ExecuteTime": {
     "end_time": "2019-03-08T06:15:53.276086Z",
     "start_time": "2019-03-08T06:15:53.071727Z"
    }
   },
   "outputs": [
    {
     "data": {
      "text/plain": [
       "[<matplotlib.lines.Line2D at 0x7f8cae6f7e48>]"
      ]
     },
     "execution_count": 299,
     "metadata": {},
     "output_type": "execute_result"
    },
    {
     "data": {
      "image/png": "[encoded data removed]",
      "text/plain": [
       "<Figure size 432x288 with 1 Axes>"
      ]
     },
     "metadata": {},
     "output_type": "display_data"
    }
   ],
   "source": [
    "x = linspace(0, 16*pi, 128)\n",
    "y = sin(x)\n",
    "\n",
    "plot(real_part[0])\n",
    "plot(real(fft.fft(y)))"
   ]
  },
  {
   "cell_type": "code",
   "execution_count": 301,
   "metadata": {
    "ExecuteTime": {
     "end_time": "2019-03-08T15:19:02.714855Z",
     "start_time": "2019-03-08T15:19:02.677128Z"
    }
   },
   "outputs": [],
   "source": [
    "argmin?"
   ]
  },
  {
   "cell_type": "code",
   "execution_count": 300,
   "metadata": {
    "ExecuteTime": {
     "end_time": "2019-03-08T06:16:00.272263Z",
     "start_time": "2019-03-08T06:16:00.265424Z"
    }
   },
   "outputs": [
    {
     "data": {
      "text/plain": [
       "array([ 5.10702591e-15,  3.05108805e-03,  1.28045106e-02,  3.13821882e-02,\n",
       "        6.37594188e-02,  1.22034623e-01,  2.42363047e-01,  5.97727172e-01,\n",
       "        1.23545207e+01, -9.89594050e-01, -5.58293662e-01, -4.22170334e-01,\n",
       "       -3.56135483e-01, -3.17493816e-01, -2.92331566e-01, -2.74768612e-01,\n",
       "       -2.61895653e-01, -2.52110808e-01, -2.44460850e-01, -2.38344022e-01,\n",
       "       -2.33362358e-01, -2.29242577e-01, -2.25791102e-01, -2.22867191e-01,\n",
       "       -2.20366215e-01, -2.18208886e-01, -2.16334109e-01, -2.14694109e-01,\n",
       "       -2.13251036e-01, -2.11974555e-01, -2.10840097e-01, -2.09827577e-01,\n",
       "       -2.08920431e-01, -2.08104895e-01, -2.07369450e-01, -2.06704392e-01,\n",
       "       -2.06101497e-01, -2.05553759e-01, -2.05055176e-01, -2.04600588e-01,\n",
       "       -2.04185533e-01, -2.03806142e-01, -2.03459049e-01, -2.03141312e-01,\n",
       "       -2.02850358e-01, -2.02583925e-01, -2.02340026e-01, -2.02116907e-01,\n",
       "       -2.01913022e-01, -2.01727004e-01, -2.01557645e-01, -2.01403879e-01,\n",
       "       -2.01264761e-01, -2.01139462e-01, -2.01027249e-01, -2.00927484e-01,\n",
       "       -2.00839607e-01, -2.00763136e-01, -2.00697657e-01, -2.00642820e-01,\n",
       "       -2.00598336e-01, -2.00563974e-01, -2.00539555e-01, -2.00524953e-01,\n",
       "       -2.00520094e-01, -2.00524953e-01, -2.00539555e-01, -2.00563974e-01,\n",
       "       -2.00598336e-01, -2.00642820e-01, -2.00697657e-01, -2.00763136e-01,\n",
       "       -2.00839607e-01, -2.00927484e-01, -2.01027249e-01, -2.01139462e-01,\n",
       "       -2.01264761e-01, -2.01403879e-01, -2.01557645e-01, -2.01727004e-01,\n",
       "       -2.01913022e-01, -2.02116907e-01, -2.02340026e-01, -2.02583925e-01,\n",
       "       -2.02850358e-01, -2.03141312e-01, -2.03459049e-01, -2.03806142e-01,\n",
       "       -2.04185533e-01, -2.04600588e-01, -2.05055176e-01, -2.05553759e-01,\n",
       "       -2.06101497e-01, -2.06704392e-01, -2.07369450e-01, -2.08104895e-01,\n",
       "       -2.08920431e-01, -2.09827577e-01, -2.10840097e-01, -2.11974555e-01,\n",
       "       -2.13251036e-01, -2.14694109e-01, -2.16334109e-01, -2.18208886e-01,\n",
       "       -2.20366215e-01, -2.22867191e-01, -2.25791102e-01, -2.29242577e-01,\n",
       "       -2.33362358e-01, -2.38344022e-01, -2.44460850e-01, -2.52110808e-01,\n",
       "       -2.61895653e-01, -2.74768612e-01, -2.92331566e-01, -3.17493816e-01,\n",
       "       -3.56135483e-01, -4.22170334e-01, -5.58293662e-01, -9.89594050e-01,\n",
       "        1.23545207e+01,  5.97727172e-01,  2.42363047e-01,  1.22034623e-01,\n",
       "        6.37594188e-02,  3.13821882e-02,  1.28045106e-02,  3.05108805e-03])"
      ]
     },
     "execution_count": 300,
     "metadata": {},
     "output_type": "execute_result"
    }
   ],
   "source": [
    "real(fft.fft(y))"
   ]
  },
  {
   "cell_type": "code",
   "execution_count": null,
   "metadata": {},
   "outputs": [],
   "source": []
  }
 ],
 "metadata": {
  "kernelspec": {
   "display_name": "Python 3",
   "language": "python",
   "name": "python3"
  },
  "language_info": {
   "codemirror_mode": {
    "name": "ipython",
    "version": 3
   },
   "file_extension": ".py",
   "mimetype": "text/x-python",
   "name": "python",
   "nbconvert_exporter": "python",
   "pygments_lexer": "ipython3",
   "version": "3.6.8"
  },
  "toc": {
   "base_numbering": 1,
   "nav_menu": {},
   "number_sections": true,
   "sideBar": true,
   "skip_h1_title": false,
   "title_cell": "Table of Contents",
   "title_sidebar": "Contents",
   "toc_cell": false,
   "toc_position": {
    "height": "calc(100% - 180px)",
    "left": "10px",
    "top": "150px",
    "width": "383px"
   },
   "toc_section_display": true,
   "toc_window_display": true
  }
 },
 "nbformat": 4,
 "nbformat_minor": 2
}
