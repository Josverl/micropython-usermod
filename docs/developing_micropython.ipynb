{
 "cells": [
  {
   "cell_type": "code",
   "execution_count": 5,
   "metadata": {
    "ExecuteTime": {
     "end_time": "2019-07-10T20:16:37.506876Z",
     "start_time": "2019-07-10T20:16:37.499578Z"
    }
   },
   "outputs": [],
   "source": [
    "from IPython.display import display_javascript\n",
    "\n",
    "def make_cell(s):\n",
    "\n",
    "    display_javascript(\"\"\"var t_cell = IPython.notebook.insert_cell_below()\n",
    "    t_cell.set_text('<!--\\\\n' + t_cell.get_text() + '\\\\n--> \\\\n{}');\n",
    "    var t_index = IPython.notebook.get_cells().indexOf(t_cell);\n",
    "    IPython.notebook.to_markdown(t_index);\n",
    "    IPython.notebook.get_cell(t_index).render();\"\"\".format(s.replace('\\n','\\\\n')), raw=True)"
   ]
  },
  {
   "cell_type": "markdown",
   "metadata": {},
   "source": [
    "# Introduction\n",
    "\n",
    "\n",
    "So, you have somehow found micropython, fallen in love with it in an instance, broken your piggy bank, and run off, head over heels, to buy a pyboard. You have probably paid extra for the expedited shipping. Once the pyboard arrived, you became excited like a puppy with a bone. You played with the hardware, learnt how to access the accelerometer, switch, LEDs, and temperature sensor, and you have successfully communicated with other devices via the I2C, SPI, USART, or CAN interfaces. You have plugged the board in a computer, and driven someone crazy by emulating a seemingly disoriented mouse on it. You have written your own python functions, even compiled them into frozen modules, and burnt the whole damn thing onto the microcontroller. Then you have toyed with the on-board assembler, because you hoped that you could gain some astronomical factors in speed. (But you couldn't.)\n",
    "\n",
    "And yet, after all this, you feel somewhat unsatisfied. You find that you want to access the periphery in a special way, or you need some fancy function that, when implemented in python itself, seems to consume too much RAM, and takes an eternity to execute, and assembly, especially with its limitations, is just far too awkward. Or perhaps, you are simply dead against making your code easily readable by writing everything in python, and you want to hide the magic, just for the heck of it. But you still want to retain the elegance of python. \n",
    "\n",
    "If, after thorough introspection and soul-searching, you have discovered these latter symptoms in yourself, you have two choices: either you despair, scrap your idea, and move on, or you learn how the heavy lifting behind the python facade is done, and spin your own functions, classes, and methods in C. As it turns out, it is not that hard, once you get the hang of it. The sole trick is to get the hang of it. The fact that the micropython code base is organised in a rather logical fashion certainly makes matters feasible. \n",
    "\n",
    "On the following pages I would like to show how new functionality can be added and exposed to the python interpreter. I will try to discuss all aspects of micropython in an approachable way. Each concept will be presented in a minimal implementation that you can compile right away, and try yourself. At the end of each chapter, I will list the discussed code in its entirety, so that copying and pasting does not involve copious amounts of work. The code, as well as the source of the documentation are also available under https://github.com/v923z/micropython-development.\n",
    "\n",
    "I start out with a very simple module and slowly build upon it. At the end of the discussion, I will outline my version of a general-purpose math library, similar to numpy. In fact, when working on this math module, I realised that a decent programming guide to micropython is sorely missing, hence this document. Obviously, numpy is a huge library, and we are not going to implement all aspects of it. But we will be able to define efficiently stored arrays on which we can do vectorised computations, work with matrices, invert and contract them, fit polynomials to measurement data, and get the Fourier transform of an arbitrary sequence. I hope you will enjoy the ride!\n",
    "\n",
    "One last comment: I believe, all examples in this document could be implemented with little effort in python itself, and I am definitely not advocating the inclusion of such trivial cases in the firmware. I chose these examples on two grounds: First, they are all simple, almost primitive, but for this very reason, they demonstrate an idea without distraction. Second, having a piece of parallel python code is useful insofar as it tells us what to expect, and we can compare the results of the C implemetation to that of the native firmware."
   ]
  },
  {
   "cell_type": "markdown",
   "metadata": {},
   "source": [
    "# Setting up the environment, compiling the code\n",
    "\n",
    "## General remarks\n",
    "\n",
    "I have written this document entirely as an jupyter notebook. There are several reasons for this. First, the prompt visual feedback on markdown text, and python/C code. Second, for demonstration purposes, I did need to run python code either on the local machine, or the pyboard, and it was simply natural to do that via jupyter. Third, and perhaps most importantly, by using a notebook, I could work from a single location: the documentation, the C code and its compilation, and the tests (either on the unix port, or on the pyboard) are all in a single container. It is impossible to overstate the advantages of this. \n",
    "\n",
    "## User modules in micropython\n",
    "\n",
    "Beginning with the 1.10 version of micropython, it became quite simple to add a user-defined C module to the firmware. You simply drop two or three files in an arbitrary directory, and pass a compiler flag to `make`. \n",
    "\n",
    "-------------------------------\n",
    "\n",
    "```bash\n",
    "\n",
    "make USER_C_MODULES=../../../user_modules CFLAGS_EXTRA=-DMODULE_EXAMPLE_ENABLED=1 all\n",
    "```\n",
    "or \n",
    "\n",
    "```bash\n",
    "\n",
    "make USER_C_MODULES=../../../user_modules all\n",
    "```\n",
    "When developing user modules, it definitely makes sense to have a directory separate from micropython itself, because it is much easier to keep track of changes."
   ]
  },
  {
   "cell_type": "markdown",
   "metadata": {},
   "source": [
    "The micropython codebase itself is set up a rather modular way. Provided you cloned the micropython repository with \n",
    "\n",
    "```bash\n",
    "git clone https://github.com/micropython/micropython.git \n",
    "```\n",
    "onto your  you look at the top level directories, you will see something like this:"
   ]
  },
  {
   "cell_type": "code",
   "execution_count": 5,
   "metadata": {
    "ExecuteTime": {
     "end_time": "2019-07-07T05:29:49.203948Z",
     "start_time": "2019-07-07T05:29:49.063375Z"
    }
   },
   "outputs": [
    {
     "name": "stdout",
     "output_type": "stream",
     "text": [
      "ACKNOWLEDGEMENTS    docs      extmod   logo\t  py\t     tools\r\n",
      "CODECONVENTIONS.md  drivers   lib      mpy-cross  README.md\r\n",
      "CONTRIBUTING.md     examples  LICENSE  ports\t  tests\r\n"
     ]
    }
   ],
   "source": [
    "!ls ../../micropython/"
   ]
  },
  {
   "cell_type": "markdown",
   "metadata": {},
   "source": [
    "Out of all the directoties, at least two are of particular interest. Namely, `/py/`, where the python interpreter is implemented, and `/ports/`, which contains the hardware-specific files. All questions pertaining to programming micropython in C can be answered by browsing these two directories, and perusing the relevant files therein. "
   ]
  },
  {
   "cell_type": "markdown",
   "metadata": {},
   "source": [
    "# micropython internals\n",
    "\n",
    "Before exploring the exciting problem of micropython function implementation in C, we should first understand how python objects are stored and treated at the firmware level. \n",
    "\n",
    "## Object representation\n",
    "\n",
    "Whenever you write \n",
    "\n",
    "```python\n",
    ">>> a = 1\n",
    ">>> b = 1\n",
    ">>> a + b\n",
    "```\n",
    "\n",
    "on the python console, first the two new variables, `a`, and `b` are created and a reference to them is stored in memory. Then the value of 1 will be associated with these variables. In the last line, when the sum is to be computed, the interpreter somehow has to figure out, how to decipher the values stored in `a`, and `b`: in the RAM, these two variables are just bytes, but depending on the type of the variable, different meanings will be associated with these bytes. Since the type cannot be known at compile time, there must be a mechanism for keeping stock of this extra piece of information. This is, where `mp_obj_t`, defined in `obj.h`, takes centre stage. \n",
    "\n",
    "If you look at any of the C functions that are exposed to the python interpreter, you will see something like this\n",
    "\n",
    "```c\n",
    "mp_obj_t some_function(mp_obj_t some_variable, ...) {\n",
    "    // some_variable is converted to fundamental C types (bytes, ints, floats, pointers, structures, etc.)\n",
    "    ...\n",
    "}\n",
    "```\n",
    "Variables of type `mp_obj_t` are passed to the function, and the function returns the results as an object of type `mp_obj_t`. So, what is all this fuss this about? Basically, `mp_obj_t` is nothing but an 8-byte segment of the memory, where all concrete objects are encoded. There can be various object encodings. E.g., in the `A` encoding, integers are those objects, whose rightmost bit in this 8-byte representation is set to 1, and the value of the integer can then be retrieved by shifting these 8 bytes by one to the right. In the `B` encoding, the variable is an integer, if its value is 1, when ANDed with 3, and the value will be returned, if we shift the 8 bytes by two to the right. \n",
    "\n",
    "## Type checking\n",
    "\n",
    "Fortunately, we do not have to be concerned with the representations and the shifts, because there are pre-defined macros for such operations. So, if we want to find out, whether `some_variable` is an integer, we can inspect the value of the Boolean \n",
    "\n",
    "```c\n",
    "MP_OBJ_IS_SMALL_INT(some_variable)\n",
    "```\n",
    "\n",
    "The integer value stored in `some_variable` can then be gotten by calling `MP_OBJ_SMALL_INT_VALUE`: \n",
    "\n",
    "```c\n",
    "int value_of_some_variable = MP_OBJ_SMALL_INT_VALUE(some_variable);\n",
    "```\n",
    "\n",
    "These decoding steps take place somewhere in the body of `some_function`, before we start working with native C types. Once we are done with the calculations, we have to return an `mp_obj_t`, so that the interpreter can handle the results (e.g., show it on the console, or pipe it to the next instruction). In this case, the encoding is done by calling \n",
    "\n",
    "```c\n",
    "mp_obj_new_int(value_of_some_variable)\n",
    "\n",
    "```\n",
    "\n",
    "More generic types can be treated with the macro `MP_OBJ_IS_TYPE`, which takes the object as the first, and a pointer to the type as the second argument. So, if you want to find out, whether `some_variable` is a tuple, you could apply the `MP_OBJ_IS_TYPE` macro, \n",
    "\n",
    "```c\n",
    "MP_OBJ_IS_TYPE(myobject, &mp_type_tuple)\n",
    "```\n",
    "\n",
    "While the available types can be found in `obj.h`, they all follow the `mp_type_` + python type pattern, so in most cases, it is not even necessary to look them up. We should also note that, when defined properly, `MP_OBJ_IS_TYPE` can be called on objects, that are defined in the user module itself, i.e., you can have your own data type, and \n",
    "\n",
    "```c\n",
    "MP_OBJ_IS_TYPE(myobject, &my_type)\n",
    "```\n",
    "\n",
    "will just work. We return to this question later. \n",
    "\n",
    "## python constants\n",
    "\n",
    "At this point, we should mention python constants,`True`, `False`, `None` and the like are also defined in `obj.h`. These are objects of type `mp_obj_t`, as almost anything else, so you can return them from a function, when the function is meant to return directly to the interpreter."
   ]
  },
  {
   "cell_type": "markdown",
   "metadata": {},
   "source": [
    "# Developing your first module\n",
    "\n",
    "Having seen, what the python objects look like to the interpreter, we can start with out explorations in earnest. We begin by adding a simple module to the python interpreter. The module will have a single function that takes two numbers, and adds them. I know that this is the most exciting thing since sliced bread, and you always wondered, why there isn't a built-in python function for such an exciting task. Well, wonder no more! From now on, *your* micropython will have one. \n",
    "\n",
    "First I show the file in its entirety (20 something lines all in all), and then discuss the parts."
   ]
  },
  {
   "cell_type": "markdown",
   "metadata": {
    "ExecuteTime": {
     "end_time": "2019-07-07T05:36:39.517066Z",
     "start_time": "2019-07-07T05:36:33.293731Z"
    }
   },
   "source": [
    "```c\n",
    "#include \"py/obj.h\"\n",
    "#include \"py/runtime.h\"\n",
    "\n",
    "STATIC mp_obj_t simplefunction_add_ints(mp_obj_t a_obj, mp_obj_t b_obj) {\n",
    "    int a = mp_obj_get_int(a_obj);\n",
    "    int b = mp_obj_get_int(b_obj);\n",
    "    return mp_obj_new_int(a + b);\n",
    "}\n",
    "\n",
    "STATIC MP_DEFINE_CONST_FUN_OBJ_2(simplefunction_add_ints_obj, simplefunction_add_ints);\n",
    "\n",
    "STATIC const mp_rom_map_elem_t simplefunction_module_globals_table[] = {\n",
    "    { MP_ROM_QSTR(MP_QSTR___name__), MP_ROM_QSTR(MP_QSTR_simplefunction) },\n",
    "    { MP_ROM_QSTR(MP_QSTR_add_ints), MP_ROM_PTR(&simplefunction_add_ints_obj) },\n",
    "};\n",
    "STATIC MP_DEFINE_CONST_DICT(simplefunction_module_globals, simplefunction_module_globals_table);\n",
    "\n",
    "const mp_obj_module_t simplefunction_user_cmodule = {\n",
    "    .base = { &mp_type_module },\n",
    "    .globals = (mp_obj_dict_t*)&simplefunction_module_globals,\n",
    "};\n",
    "\n",
    "MP_REGISTER_MODULE(MP_QSTR_simplefunction, simplefunction_user_cmodule, MODULE_SIMPLEFUNCTION_ENABLED);\n",
    "\n",
    "```"
   ]
  },
  {
   "cell_type": "markdown",
   "metadata": {},
   "source": [
    "You should be able to compile the module above by calling \n",
    "\n",
    "```bash\n",
    "make USER_C_MODULES=../../../usermod/ all\n",
    "```"
   ]
  },
  {
   "cell_type": "markdown",
   "metadata": {},
   "source": [
    "## Header files\n",
    "\n",
    "A module will not be too useful without at least two includes: `py/obj.h`, where all the relevant constants and macros are defined, and `py/runtime.h`, which contains the declaration of the interpreter. "
   ]
  },
  {
   "cell_type": "markdown",
   "metadata": {},
   "source": [
    "## Defining user functions\n",
    "\n",
    "After including the necessary headers, we define the function that is going to do the heavy lifting. By passing variables of `mp_obj_t` type, we make sure that the function will be able to accept values from the python console. If you happen to have an internal helper function in your module that is not exposed in python, you can pass whatever type you need. Similarly, by returning an object of `mp_obj_t` type, we make the results visible to the interpreter, i.e., we can assign the value returned to variables. \n",
    "\n",
    "The downside of passing `mp_obj_t`s around is that you cannot simply assign them to usual C variables, i.e., when you want to operate on them, you have to extract the values first. This is why we have to invoke the `mp_obj_get_int()` function, and conversely, before returning the results, we have to do a type conversion to `mp_obj_t` by calling `mp_obj_new_int()`. These are the decoding/encoding steps that we discussed above."
   ]
  },
  {
   "cell_type": "markdown",
   "metadata": {},
   "source": [
    "### Referring to user functions\n",
    "\n",
    "We have now a function that should be sort of OK, but the python interpreter still cannot work with. For that, we have to turn our function into a function object. This is what happens in the line\n",
    "\n",
    "```c\n",
    "STATIC MP_DEFINE_CONST_FUN_OBJ_2(simplefunction_add_ints_obj, simplefunction_add_ints);\n",
    "```\n",
    "\n",
    "The first argument is the name of the function object to which our actual function, the last argument, will be bound. Now, these `MP_DEFINE_CONST_FUN_OBJ_*` macros, defined in the header file `py/obj.h` (one more reason not to forget about `py/obj.h`), come in seven flavours, depending on what kind of, and how many arguments the function is supposed to take. In the example above, our function is meant to take two arguments, hence the 2 at the end of the macro name. Functions with 0 to 4 arguments can be bound in this way.\n",
    "\n",
    "But what, if you want a function with more than four arguments, as is the case many a time in python? Under such circumstances, one can make use of the \n",
    "\n",
    "```c\n",
    "MP_DEFINE_CONST_FUN_OBJ_VAR(obj_name, n_args_min, fun_name)\n",
    "```\n",
    "\n",
    "macro, where the second argument, an integer, gives the minimum number of arguments. The number of arguments can be bound from above by wrapping the function with \n",
    "\n",
    "```c\n",
    "MP_DEFINE_CONST_FUN_OBJ_VAR_BETWEEN(obj_name, n_args_min, n_args_max, fun_name) \n",
    "```\n",
    "\n",
    "Later we will see, how we can define functions that can also take keyword arguments."
   ]
  },
  {
   "cell_type": "markdown",
   "metadata": {},
   "source": [
    "At this point, we are more or less done with the C implementation of our function, but we still have to expose it. This we do by adding a table, an array of key/value pairs to the globals of our module, and bind the table to the `_module_globals` variable by applying the `MP_DEFINE_CONST_DICT` macro. This table should have at least one entry, the name of the module, which is going to be stored in the string `MP_QSTR___name__`. \n",
    "\n",
    "The other keys of the table are the pointers to the functions that we implemented, and the names that we want to call these functions in python itself. So, in the example below, our `simplefunction_add_ints` function will be invoked, when we call `add_ints` in the console.\n",
    "\n",
    "\n",
    "```c\n",
    "STATIC const mp_rom_map_elem_t simplefunction_module_globals_table[] = {\n",
    "    { MP_ROM_QSTR(MP_QSTR___name__), MP_ROM_QSTR(MP_QSTR_simplefunction) },\n",
    "    { MP_ROM_QSTR(MP_QSTR_add_ints), MP_ROM_PTR(&simplefunction_add_ints_obj) },\n",
    "};\n",
    "STATIC MP_DEFINE_CONST_DICT(simplefunction_module_globals, simplefunction_module_globals_table);\n",
    "```\n",
    "This three-step pattern is common to all function implementations, so I repeat it here: \n",
    "\n",
    "1. implement the function\n",
    "2. then turn it into a function object\n",
    "3. and finally, register the function in the name space of the module\n",
    "\n",
    "It doesn't matter, whether our function takes positional arguments, or keyword argument, or both, these are the required steps."
   ]
  },
  {
   "cell_type": "markdown",
   "metadata": {},
   "source": [
    "Having defined the function object, we have finally to register the function with \n",
    "\n",
    "```c\n",
    "MP_REGISTER_MODULE(MP_QSTR_simplefunction, simplefunction_user_cmodule, MODULE_SIMPLEFUNCTION_ENABLED);\n",
    "```\n",
    "\n",
    "This last line is particularly useful, because by setting the `MODULE_SIMPLEFUNCTION_ENABLED` variable in `mpconfigport.h`, you can selectively exclude modules from the compilation, i.e., if in `mpconfigport.h`, which should be in the root directory of the port you want to compile for, \n",
    "\n",
    "```c\n",
    "#define MODULE_SIMPLEFUNCTION_ENABLED (1)\n",
    "```\n",
    "then `simplefunction` will be included in the firmware, while with\n",
    "\n",
    "```c\n",
    "#define MODULE_SIMPLEFUNCTION_ENABLED (0)\n",
    "```\n",
    "\n",
    "the module will be dropped, even though the source is in your modules folder."
   ]
  },
  {
   "cell_type": "markdown",
   "metadata": {},
   "source": [
    "## Function names\n",
    "\n",
    "Whenever you want your function to be visible from the interpreter, you have to add the function object to a dictionary. The dictionary \n",
    "\n",
    "```c\n",
    "STATIC const mp_rom_map_elem_t test_locals_dict_table[] = {\n",
    "\t{ MP_ROM_QSTR(MP_QSTR_somefunction), MP_ROM_PTR(&test_somefunction_obj) },\n",
    "};\n",
    "\n",
    "\n",
    "STATIC MP_DEFINE_CONST_DICT(test_locals_dict, test_locals_dict_table);\n",
    "```"
   ]
  },
  {
   "cell_type": "markdown",
   "metadata": {},
   "source": [
    "# Error handling\n",
    "\n"
   ]
  },
  {
   "cell_type": "markdown",
   "metadata": {},
   "source": [
    "## Parsing arguments"
   ]
  },
  {
   "cell_type": "markdown",
   "metadata": {},
   "source": [
    "## Parsing keyword arguments\n",
    "\n",
    "One of the most useful features of python is that functions can accept positional as well as keyword arguments, thereby providing a very flexible interface for feeding values to a function. In this section, we will see how we should set up our function, so that it can interpret what we passed in. \n",
    "\n",
    "It does not matter, whether we have positional or keyword arguments, at one point, the interpreter has to turn all arguments into a deterministic sequence of objects. We stipulate this sequence in the constant variable called `allowed_args[]`. This is an array of type `mp_arg_t`, which is nothing but a structure with two `uint16` values, and a union named `mp_arg_val_t`. This union holds the default value and the type of the variable that we want to pass. The `mp_arg_t` structure, defined in `runtime.h`, looks like this:\n",
    "\n",
    "```c\n",
    "typedef struct _mp_arg_t {\n",
    "    uint16_t qst;\n",
    "    uint16_t flags;\n",
    "    mp_arg_val_t defval;\n",
    "} mp_arg_t;\n",
    "```\n",
    "\n",
    "The last member, `mp_arg_val_t` is \n",
    "\n",
    "```c\n",
    "typedef union _mp_arg_val_t {\n",
    "    bool u_bool;\n",
    "    mp_int_t u_int;\n",
    "    mp_obj_t u_obj;\n",
    "    mp_rom_obj_t u_rom_obj;\n",
    "} mp_arg_val_t;\n",
    "```"
   ]
  },
  {
   "cell_type": "markdown",
   "metadata": {},
   "source": [
    "### Keyword arguments with numerical values\n",
    "\n",
    "In our first example `keywordfunction.c`, we define a summing function with two arguments. \n",
    "\n",
    "```c\n",
    "#include \"py/obj.h\"\n",
    "#include \"py/runtime.h\"\n",
    "#include \"py/builtin.h\"\n",
    "\n",
    "STATIC mp_obj_t keywordfunction_add_ints(size_t n_args, const mp_obj_t *pos_args, mp_map_t *kw_args) {\n",
    "\n",
    "\tstatic const mp_arg_t allowed_args[] = {\n",
    "\t\t{ MP_QSTR_a, MP_ARG_INT | MP_ARG_REQUIRED, {.u_int = 0} }, \n",
    "        { MP_QSTR_b, MP_ARG_KW_ONLY | MP_ARG_INT | MP_ARG_REQUIRED, {.u_int = 0} },\n",
    "    };\n",
    "\n",
    "    mp_arg_val_t args[MP_ARRAY_SIZE(allowed_args)];\n",
    "    mp_arg_parse_all(n_args, pos_args, kw_args, MP_ARRAY_SIZE(allowed_args), allowed_args, args);\n",
    "\tint16_t a = args[0].u_int;\n",
    "\tint16_t b = args[1].u_int;\n",
    "\tprintf(\"a = %d, b = %d\\n\", a, b);\n",
    "\treturn mp_obj_new_int(a + b);\n",
    "}\n",
    "\n",
    "STATIC MP_DEFINE_CONST_FUN_OBJ_KW(keywordfunction_add_ints_obj, 2, keywordfunction_add_ints);\n",
    "\n",
    "STATIC const mp_rom_map_elem_t keywordfunction_module_globals_table[] = {\n",
    "    { MP_ROM_QSTR(MP_QSTR___name__), MP_ROM_QSTR(MP_QSTR_keywordfunction) },\n",
    "    { MP_ROM_QSTR(MP_QSTR_add_ints), (mp_obj_t)&keywordfunction_add_ints_obj },\n",
    "};\n",
    "\n",
    "STATIC MP_DEFINE_CONST_DICT(keywordfunction_module_globals, keywordfunction_module_globals_table);\n",
    "\n",
    "const mp_obj_module_t keywordfunction_user_cmodule = {\n",
    "    .base = { &mp_type_module },\n",
    "    .globals = (mp_obj_dict_t*)&keywordfunction_module_globals,\n",
    "};\n",
    "\n",
    "MP_REGISTER_MODULE(MP_QSTR_keywordfunction, keywordfunction_user_cmodule, MODULE_KEYWORDFUNCTION_ENABLED);\n",
    "```\n",
    "\n",
    "One convenience of a function with keyword arguments is that we do not have to care about the arguments in the C implementation: the argument list is always the same, and it is passed in by the interpreter: the number of arguments of the python function, an array with the positional arguments, and a map for the keyword arguments. \n",
    "\n",
    "After parsing the arguments with `mp_arg_parse_all`, whatever was at the zeroth position of `allowed_args[]` will be called `args[0]`, the object at the first position of `allowed_args[]` will be turned into `args[1]`, and so on. \n",
    "\n",
    "This is, where we also define, what the name of the keyword argument is going to be: whatever comes after `MP_QSTR_`. But hey, presto! The name should be an integer with 16 bits, shouldn't it? After all, this is the first member of `mp_arg_t`. So what is going on here? Well, for the efficient use of RAM, all MP_QSTRs are turned into `unint16_t` internally. This applies not only to the names in functions with keyword arguments, but also for module and function names, in the `_module_globals_table[]`.\n",
    "\n",
    "The second member of the `mp_arg_t` structure is the flags that determine, e.g., whether the argument is required, if it is of integer or `mp_obj_t` type, and whether it is positional or a keyword argument. These flags can be combined by ORing them, as we done in the example above. \n",
    "\n",
    "The last member in `mp_arg_t` is the default value. Since this is a member variable, when we make use of it, we have to extract the value by adding `.u_int` to the argument. \n",
    "\n",
    "When turning our function into a function object, we have to call a special macro, `MP_DEFINE_CONST_FUN_OBJ_KW`, defined in `obj.h`, which is somewhat similar to `MP_DEFINE_CONST_FUN_OBJ_VAR`: in addition to the function object and the function, one also has to specify the minimum number of arguments in the python function.\n",
    "\n",
    "Other examples on passing keyword arguments can be found in some of the hardware implementation files, e.g., `ports/stm32/pyb_i2c.c`, or `ports/stm32/pyb_spi.c`."
   ]
  },
  {
   "cell_type": "markdown",
   "metadata": {},
   "source": [
    "### Keyword arguments with arbitrary values\n",
    "\n",
    "We have seen how integer values can be extracted from keyword arguments, but unfortunately, that method is going to get you only that far. What if we want to pass something more complicated, in particular a string, or a list, or some other non-trivial python type? This is what we are going to look at now. "
   ]
  },
  {
   "cell_type": "markdown",
   "metadata": {},
   "source": [
    "# Working with classes\n",
    "\n",
    "Of course, python would not be python without classes. A module can also include the implementation of classes. The procedure is similar to what we have already seen in the context of standard functions, except that we have to define a structure that holds at least a string with the name of the class, a pointer to the initialisation and printout functions, and a local dictionary. A typical structure would look like\n",
    "\n",
    "```c\n",
    "STATIC const mp_rom_map_elem_t test_locals_dict_table[] = {\n",
    "\t{ MP_ROM_QSTR(MP_QSTR_method1), MP_ROM_PTR(&test_method1_obj) },\n",
    "\t{ MP_ROM_QSTR(MP_QSTR_method2), MP_ROM_PTR(&test_method2_obj) },\n",
    "    ...                                                           \n",
    "}\n",
    "\n",
    "const mp_obj_type_t simpleclass_type = {\n",
    "\t{ &mp_type_type },\n",
    "\t.name = MP_QSTR_simpleclass,\n",
    "\t.print = simpleclass_print,\n",
    "\t.make_new = simpleclass_make_new,\n",
    "\t.locals_dict = (mp_obj_dict_t*)&simpleclass_locals_dict,\n",
    "};\n",
    "```\n",
    "\n",
    "The locals dictionary, `.locals_dict`, contains all user-facing methods and constants of the class, while the `myclass_type` structure's `name` member is what our class is going to be called. `.print` is roughly the equivalent of `__str__`, `.make_new` is the C name for `__init__`. "
   ]
  },
  {
   "cell_type": "markdown",
   "metadata": {},
   "source": [
    "In order to see how this all works, we are going to implement a very simple class, which holds two integer variables, and has a method that returns the sum of these two variables. In python, a possible realisation could look like this:"
   ]
  },
  {
   "cell_type": "code",
   "execution_count": 10,
   "metadata": {
    "ExecuteTime": {
     "end_time": "2019-07-08T17:41:50.611648Z",
     "start_time": "2019-07-08T17:41:50.594402Z"
    }
   },
   "outputs": [
    {
     "data": {
      "text/plain": [
       "3"
      ]
     },
     "execution_count": 10,
     "metadata": {},
     "output_type": "execute_result"
    }
   ],
   "source": [
    "class myclass:\n",
    "    \n",
    "    def __init__(self, a, b):\n",
    "        self.a = a\n",
    "        self.b = b\n",
    "        \n",
    "    def mysum(self):\n",
    "        return self.a + self.b\n",
    "    \n",
    "    \n",
    "A = myclass(1, 2)\n",
    "A.mysum()"
   ]
  },
  {
   "cell_type": "markdown",
   "metadata": {},
   "source": [
    "In addition to the class implementation above and to show how class methods and regular functions can live in the same module, we will also have a function, which is not bound to the class itself, and which adds the two components in the class, i.e., that is similar to "
   ]
  },
  {
   "cell_type": "code",
   "execution_count": 11,
   "metadata": {
    "ExecuteTime": {
     "end_time": "2019-07-08T17:45:01.645421Z",
     "start_time": "2019-07-08T17:45:01.634882Z"
    }
   },
   "outputs": [
    {
     "data": {
      "text/plain": [
       "3"
      ]
     },
     "execution_count": 11,
     "metadata": {},
     "output_type": "execute_result"
    }
   ],
   "source": [
    "def add(class_instance):\n",
    "    return class_instance.a + class_instance.b\n",
    "\n",
    "add(A)"
   ]
  },
  {
   "cell_type": "markdown",
   "metadata": {},
   "source": [
    "(Note that retrieving values from the class in this way is not exactly elegant, nor is it pythonic. We would usually implement a getter method for that.)"
   ]
  },
  {
   "cell_type": "markdown",
   "metadata": {},
   "source": [
    "```c\n",
    "#include \"py/runtime.h\"\n",
    "#include \"py/obj.h\"\n",
    "\n",
    "typedef struct _simpleclass_myclass_obj_t {\n",
    "\tmp_obj_base_t base;\n",
    "\tint16_t a;\n",
    "\tint16_t b;\n",
    "} simpleclass_myclass_obj_t;\n",
    "\n",
    "const mp_obj_type_t simpleclass_myclass_type;\n",
    "\n",
    "STATIC void myclass_print(const mp_print_t *print, mp_obj_t self_in, mp_print_kind_t kind) {\n",
    "\t(void)kind;\n",
    "\tsimpleclass_myclass_obj_t *self = MP_OBJ_TO_PTR(self_in);\n",
    "\tmp_print_str(print, \"myclass(\");\n",
    "\tprintf(\"%d, \", self->a);\n",
    "\tprintf(\"%d)\", self->b);\n",
    "}\n",
    "\n",
    "STATIC mp_obj_t myclass_make_new(const mp_obj_type_t *type, size_t n_args, size_t n_kw, const mp_obj_t *args) {\n",
    "\tmp_arg_check_num(n_args, n_kw, 2, 2, true);\n",
    "\tsimpleclass_myclass_obj_t *self = m_new_obj(simpleclass_myclass_obj_t);\n",
    "\tself->base.type = &simpleclass_myclass_type;\n",
    "\tself->a = mp_obj_get_int(args[0]);\n",
    "\tself->b = mp_obj_get_int(args[1]);\n",
    "\treturn MP_OBJ_FROM_PTR(self);\n",
    "}\n",
    "\n",
    "// Class methods\n",
    "STATIC mp_obj_t myclass_sum(mp_obj_t self_in) {\n",
    "\tsimpleclass_myclass_obj_t *self = MP_OBJ_TO_PTR(self_in);\n",
    "\treturn mp_obj_new_int(self->a + self->b);\n",
    "}\n",
    "\n",
    "MP_DEFINE_CONST_FUN_OBJ_1(myclass_sum_obj, myclass_sum);\n",
    "\n",
    "STATIC const mp_rom_map_elem_t myclass_locals_dict_table[] = {\n",
    "\t{ MP_ROM_QSTR(MP_QSTR_mysum), MP_ROM_PTR(&myclass_sum_obj) },\n",
    "};\n",
    "\n",
    "STATIC MP_DEFINE_CONST_DICT(myclass_locals_dict, myclass_locals_dict_table);\n",
    "\n",
    "const mp_obj_type_t simpleclass_myclass_type = {\n",
    "\t{ &mp_type_type },\n",
    "\t.name = MP_QSTR_simpleclass,\n",
    "\t.print = myclass_print,\n",
    "\t.make_new = myclass_make_new,\n",
    "\t.locals_dict = (mp_obj_dict_t*)&myclass_locals_dict,\n",
    "};\n",
    "\n",
    "// Module functions\n",
    "STATIC mp_obj_t simpleclass_add(const mp_obj_t o_in) {\n",
    "\tsimpleclass_myclass_obj_t *class_instance = MP_OBJ_TO_PTR(o_in);\n",
    "\treturn mp_obj_new_int(class_instance->a + class_instance->b);\n",
    "}\n",
    "\n",
    "MP_DEFINE_CONST_FUN_OBJ_1(simpleclass_add_obj, simpleclass_add);\n",
    "\n",
    "STATIC const mp_map_elem_t simpleclass_globals_table[] = {\n",
    "\t{ MP_OBJ_NEW_QSTR(MP_QSTR___name__), MP_OBJ_NEW_QSTR(MP_QSTR_simpleclass) },\n",
    "\t{ MP_OBJ_NEW_QSTR(MP_QSTR_myclass), (mp_obj_t)&simpleclass_myclass_type },\t\n",
    "\t{ MP_OBJ_NEW_QSTR(MP_QSTR_add), (mp_obj_t)&simpleclass_add_obj },\n",
    "};\n",
    "\n",
    "STATIC MP_DEFINE_CONST_DICT (\n",
    "\tmp_module_simpleclass_globals,\n",
    "\tsimpleclass_globals_table\n",
    ");\n",
    "\n",
    "const mp_obj_module_t simpleclass_user_cmodule = {\n",
    "\t.base = { &mp_type_module },\n",
    "\t.globals = (mp_obj_dict_t*)&mp_module_simpleclass_globals,\n",
    "};\n",
    "\n",
    "MP_REGISTER_MODULE(MP_QSTR_simpleclass, simpleclass_user_cmodule, MODULE_SIMPLECLASS_ENABLED);\n",
    "```"
   ]
  },
  {
   "cell_type": "markdown",
   "metadata": {},
   "source": [
    "In `my_print`, we used the C function `printf`, but better options are also available. `mpprint.c` has a number of methods for printing all kinds of python objects. \n",
    "\n",
    "One more thing to note: the functions that are pointed to in `simpleclass_myclass_type` are not registered with the macro `MP_DEFINE_CONST_FUN_OBJ_VAR` or similar. The reason for this is that this automatically happens: `myclass_print` does not require user-supplied arguments beyond `self`, so it is known what the signature should look like. In `myclass_make_new`, we inspect the argument list, when calling \n",
    "```c\n",
    "mp_arg_check_num(n_args, n_kw, 2, 2, true);\n",
    "```\n",
    "so, again, there is no need to turn our function into a function object. "
   ]
  },
  {
   "cell_type": "markdown",
   "metadata": {},
   "source": [
    "## Class special methods\n",
    "\n",
    "Python has a number of special methods, which will make a class behave as a native object. So, e.g., if a class implements the `__add__(self, other)` method, then instances of that class can be added with the `+` operator. Here is an example in python:"
   ]
  },
  {
   "cell_type": "code",
   "execution_count": 4,
   "metadata": {
    "ExecuteTime": {
     "end_time": "2019-07-01T05:09:35.616129Z",
     "start_time": "2019-07-01T05:09:35.602178Z"
    }
   },
   "outputs": [
    {
     "data": {
      "text/plain": [
       "3"
      ]
     },
     "execution_count": 4,
     "metadata": {},
     "output_type": "execute_result"
    }
   ],
   "source": [
    "class Adder:\n",
    "    \n",
    "    def __init__(self, value):\n",
    "        self.value = value\n",
    "        \n",
    "    def __add__(self, other):\n",
    "        self.value = self.value + other.value\n",
    "        return self\n",
    "\n",
    "a = Adder(1)\n",
    "b = Adder(2)\n",
    "\n",
    "c = a + b\n",
    "c.value"
   ]
  },
  {
   "cell_type": "markdown",
   "metadata": {},
   "source": [
    "Note that, while the above example is not particularly useful, it proves the point: upon calling the `+` operator, the values of `a`, and `b` are added. If we had left out the implementation of the `__add__` method, the python interpreter would not have a clue as to what to do with the objects. You can see for yourself, how sloppiness makes itself manifest:"
   ]
  },
  {
   "cell_type": "code",
   "execution_count": 5,
   "metadata": {
    "ExecuteTime": {
     "end_time": "2019-07-01T05:13:52.179383Z",
     "start_time": "2019-07-01T05:13:50.426879Z"
    }
   },
   "outputs": [
    {
     "ename": "TypeError",
     "evalue": "unsupported operand type(s) for +: 'Adder' and 'Adder'",
     "output_type": "error",
     "traceback": [
      "\u001b[0;31m---------------------------------------------------------------------------\u001b[0m",
      "\u001b[0;31mTypeError\u001b[0m                                 Traceback (most recent call last)",
      "\u001b[0;32m<ipython-input-5-635006a6f7bc>\u001b[0m in \u001b[0;36m<module>\u001b[0;34m()\u001b[0m\n\u001b[1;32m      7\u001b[0m \u001b[0mb\u001b[0m \u001b[0;34m=\u001b[0m \u001b[0mAdder\u001b[0m\u001b[0;34m(\u001b[0m\u001b[0;36m2\u001b[0m\u001b[0;34m)\u001b[0m\u001b[0;34m\u001b[0m\u001b[0;34m\u001b[0m\u001b[0m\n\u001b[1;32m      8\u001b[0m \u001b[0;34m\u001b[0m\u001b[0m\n\u001b[0;32m----> 9\u001b[0;31m \u001b[0mc\u001b[0m \u001b[0;34m=\u001b[0m \u001b[0ma\u001b[0m \u001b[0;34m+\u001b[0m \u001b[0mb\u001b[0m\u001b[0;34m\u001b[0m\u001b[0;34m\u001b[0m\u001b[0m\n\u001b[0m\u001b[1;32m     10\u001b[0m \u001b[0mc\u001b[0m\u001b[0;34m.\u001b[0m\u001b[0mvalue\u001b[0m\u001b[0;34m\u001b[0m\u001b[0;34m\u001b[0m\u001b[0m\n",
      "\u001b[0;31mTypeError\u001b[0m: unsupported operand type(s) for +: 'Adder' and 'Adder'"
     ]
    }
   ],
   "source": [
    "class Adder:\n",
    "    \n",
    "    def __init__(self, value):\n",
    "        self.value = value\n",
    "\n",
    "a = Adder(1)\n",
    "b = Adder(2)\n",
    "\n",
    "c = a + b\n",
    "c.value"
   ]
  },
  {
   "cell_type": "markdown",
   "metadata": {},
   "source": [
    "Indeed, we do not support the `+` operator.\n",
    "\n",
    "Now, the problem is that in the C implementation, these special methods have to be treated in a special way. The naive approach would be to add the pointer to the function to the locals dictionary as \n",
    "\n",
    "```c\n",
    "STATIC const mp_rom_map_elem_t test_locals_dict_table[] = {\n",
    "\t{ MP_ROM_QSTR(MP_QSTR___add__), MP_ROM_PTR(&test_add_obj) },\n",
    "};\n",
    "```\n",
    "but that would not work. Well, this is not entirely true: the `+` operator would not work, but one could still call the method explicitly as\n",
    "\n",
    "```python\n",
    "a = Adder(1)\n",
    "b = Adder(2)\n",
    "\n",
    "a.__add__(b)\n",
    "\n",
    "```"
   ]
  },
  {
   "cell_type": "markdown",
   "metadata": {},
   "source": [
    "Before we actually add the `+` operator to our class, we should note that there are two kinds of special methods, namely the unary and the binary operators. \n",
    "\n",
    "In the first group are those, whose sole argument is the class instance itself. Two frequently used cases are the length operator, `len`, and `bool`. So, e.g., if your class implements the `__len__(self)` method, and the method returns an integer, then you can call the `len` function in the console\n",
    "\n",
    "```python\n",
    "len(myclass)\n",
    "```\n",
    "\n",
    "In the second category of operators are those, which require a left, as well as a right hand side: the left hand side is the class instance itself, while the right hand side can, in principle, be another instance of the same class, or some other type. An example for this was the `__add__` method in our `Adder` class. To prove that the right hand side needn't be of the same type, think of the *multiplication* of lists: \n",
    "\n",
    "```python\n",
    "[1, 2, 3]*5\n",
    "```\n",
    "\n",
    "is perfectly valid, and has a well-defined meaning. The complete list of unary, as well as binary operators can be found in `runtime.h`. "
   ]
  },
  {
   "cell_type": "markdown",
   "metadata": {},
   "source": [
    "The module below implements five special methods altogether. Two unary, namely, `bool`, and `len`, and three binary operators, `==`, `+`, and `*`. Since the addition and multiplication will return a new instance of `myclass`, we define a new function, `create_new_class`, that, well, creates a new instance of `myclass`, and initialises the members with the two input arguments. This function will also be called in the class initialisation function, `myclass_make_new`, immediately after the argument checking. \n",
    "\n",
    "When implementing the operators, we have to keep a couple of things in mind. First, the `specialclass_myclass_type` has to be extended with the two methods, `.unary_op`, and `.binary_op`, where `.unary_op` is equal to the function that handles the unary operation (`specialclass_unary_op` in the example below), and `.binary_op` is equal to the function that deals with binary operations (`specialclass_binary_op` below). These two functions have the signatures \n",
    "\n",
    "```c\n",
    "STATIC mp_obj_t specialclass_unary_op(mp_unary_op_t op, mp_obj_t self_in)\n",
    "```\n",
    "and\n",
    "\n",
    "```c\n",
    "STATIC mp_obj_t specialclass_binary_op(mp_binary_op_t op, mp_obj_t lhs, mp_obj_t rhs)\n",
    "```\n",
    "respectively, and we have to inspect the value of `op` in the implementation. This is done in the two `switch` statements. \n",
    "\n",
    "One more comment: if `.unary_op`, or `.binary_op` are defined for the class, then the handler function must have an implementation of all operators. This doesn't necessarily mean that you have to have all cases in the `switch`, but if you haven't, then there must be a default case with a reasonable return value, e.g., `MP_OBJ_NULL`, or `mp_const_none`, so as to indicate that that particular method is not available. "
   ]
  },
  {
   "cell_type": "markdown",
   "metadata": {},
   "source": [
    "```c\n",
    "#include \"py/runtime.h\"\n",
    "#include \"py/obj.h\"\n",
    "#include \"py/binary.h\"\n",
    "\n",
    "typedef struct _specialclass_myclass_obj_t {\n",
    "\tmp_obj_base_t base;\n",
    "\tint16_t a;\n",
    "\tint16_t b;\n",
    "} specialclass_myclass_obj_t;\n",
    "\n",
    "const mp_obj_type_t specialclass_myclass_type;\n",
    "\n",
    "STATIC void myclass_print(const mp_print_t *print, mp_obj_t self_in, mp_print_kind_t kind) {\n",
    "\t(void)kind;\n",
    "\tspecialclass_myclass_obj_t *self = MP_OBJ_TO_PTR(self_in);\n",
    "\tmp_print_str(print, \"myclass(\");\n",
    "\tprintf(\"%d, \", self->a);\n",
    "\tprintf(\"%d)\", self->b);\n",
    "}\n",
    "\n",
    "mp_obj_t create_new_myclass(uint16_t a, uint16_t b) {\n",
    "\tspecialclass_myclass_obj_t *out = m_new_obj(specialclass_myclass_obj_t);\n",
    "\tout->base.type = &specialclass_myclass_type;\n",
    "\tout->a = a;\n",
    "\tout->b = b;\n",
    "\treturn MP_OBJ_FROM_PTR(out);\n",
    "}\n",
    "\n",
    "STATIC mp_obj_t myclass_make_new(const mp_obj_type_t *type, size_t n_args, size_t n_kw, const mp_obj_t *args) {\n",
    "\tmp_arg_check_num(n_args, n_kw, 2, 2, true);\n",
    "\treturn create_new_myclass(mp_obj_get_int(args[0]), mp_obj_get_int(args[1]));\n",
    "}\n",
    "\n",
    "STATIC const mp_rom_map_elem_t myclass_locals_dict_table[] = {\n",
    "};\n",
    "\n",
    "STATIC MP_DEFINE_CONST_DICT(myclass_locals_dict, myclass_locals_dict_table);\n",
    "\n",
    "STATIC mp_obj_t specialclass_unary_op(mp_unary_op_t op, mp_obj_t self_in) {\n",
    "\tspecialclass_myclass_obj_t *self = MP_OBJ_TO_PTR(self_in);\n",
    "    switch (op) {\n",
    "        case MP_UNARY_OP_BOOL: return mp_obj_new_bool((self->a > 0) && (self->b > 0));\n",
    "        case MP_UNARY_OP_LEN: return mp_obj_new_int(2);\n",
    "        default: return MP_OBJ_NULL; // op not supported\n",
    "    }\n",
    "}\n",
    "\n",
    "STATIC mp_obj_t specialclass_binary_op(mp_binary_op_t op, mp_obj_t lhs, mp_obj_t rhs) {\n",
    "    specialclass_myclass_obj_t *left_hand_side = MP_OBJ_TO_PTR(lhs);\n",
    "\tspecialclass_myclass_obj_t *right_hand_side = MP_OBJ_TO_PTR(rhs);\n",
    "\tswitch (op) {\n",
    "\t\tcase MP_BINARY_OP_EQUAL:\n",
    "\t\t\treturn mp_obj_new_bool((left_hand_side->a == right_hand_side->a) && (left_hand_side->b == right_hand_side->b));\n",
    "\t\tcase MP_BINARY_OP_ADD:\n",
    "\t\t\treturn create_new_myclass(left_hand_side->a + right_hand_side->a, left_hand_side->b + right_hand_side->b);\n",
    "\t\tcase MP_BINARY_OP_MULTIPLY:\n",
    "\t\t\treturn create_new_myclass(left_hand_side->a * right_hand_side->a, left_hand_side->b * right_hand_side->b);\n",
    "\t\tdefault:\n",
    "\t\t\treturn MP_OBJ_NULL; // op not supported\n",
    "\t}\n",
    "}\n",
    "\n",
    "const mp_obj_type_t specialclass_myclass_type = {\n",
    "\t{ &mp_type_type },\n",
    "\t.name = MP_QSTR_specialclass,\n",
    "\t.print = myclass_print,\n",
    "\t.make_new = myclass_make_new,\n",
    "\t.unary_op = specialclass_unary_op, \n",
    "\t.binary_op = specialclass_binary_op,\n",
    "\t.locals_dict = (mp_obj_dict_t*)&myclass_locals_dict,\n",
    "};\n",
    "\n",
    "STATIC const mp_map_elem_t specialclass_globals_table[] = {\n",
    "\t{ MP_OBJ_NEW_QSTR(MP_QSTR___name__), MP_OBJ_NEW_QSTR(MP_QSTR_specialclass) },\n",
    "\t{ MP_OBJ_NEW_QSTR(MP_QSTR_myclass), (mp_obj_t)&specialclass_myclass_type },\t\n",
    "};\n",
    "\n",
    "STATIC MP_DEFINE_CONST_DICT (\n",
    "\tmp_module_specialclass_globals,\n",
    "\tspecialclass_globals_table\n",
    ");\n",
    "\n",
    "const mp_obj_module_t specialclass_user_cmodule = {\t\n",
    "\t.base = { &mp_type_module },\n",
    "\t.globals = (mp_obj_dict_t*)&mp_module_specialclass_globals,\n",
    "};\n",
    "\n",
    "MP_REGISTER_MODULE(MP_QSTR_specialclass, specialclass_user_cmodule, MODULE_SPECIALCLASS_ENABLED);\n",
    "\n",
    "```"
   ]
  },
  {
   "cell_type": "markdown",
   "metadata": {},
   "source": [
    "## Defining constants\n",
    "\n",
    "Constants can be added to the locals dictionary as any other object. So, e.g., if we wanted to define the constant MAGIC, we could do that as follows\n",
    "\n",
    "```c\n",
    "\n",
    "#define MAGIC 42\n",
    "\n",
    "STATIC const mp_rom_map_elem_t test_locals_dict_table[] = {\n",
    "\t{ MP_ROM_QSTR(MP_QSTR_MAGIC), MP_ROM_INT(MAGIC) },\n",
    "};\n",
    "```\n",
    "The constant would then be accessible in the interpreter as\n",
    "\n",
    "```python\n",
    "\n",
    "import test\n",
    "\n",
    "test.MAGIC\n",
    "```"
   ]
  },
  {
   "cell_type": "markdown",
   "metadata": {},
   "source": [
    "## The complete code\n",
    "\n",
    "Having seen how components of a class should be implemented, we can bring all parts together. We will define a class that has two methods, one with positional arguments, and one with keyword arguments, has a class-specific constant, and can deal with the `+` and `*` operators. You should be able to drop this code into your user-defined modules directory, and compile it without difficulties.\n",
    "\n",
    "```c\n",
    "\n",
    "```"
   ]
  },
  {
   "cell_type": "markdown",
   "metadata": {},
   "source": [
    "# Creating new types\n",
    "\n",
    "Sometimes it might be necessary to define your own data type. It is really nothing but a C structure with a couple of special fields. The steps required are very similar to those for classes. \n",
    "Take the following type definition, which could be regarded as the Cartesian components of a vector in three-dimensional space: \n",
    "\n",
    "```c\n",
    "typedef struct _vector_obj_t {\n",
    "\tmp_obj_base_t base;\n",
    "\tfloat x, y, z;\n",
    "} vector_obj_t;\n",
    "```\n",
    "\n",
    "Now, in order to see, how we can work with this structure, we are going to define a new type that simply stores the three values. The module will also have a method called `length`, returning the absolute value of the vector. Note that here we check the type of the argument, and bail out, if it is not a vector."
   ]
  },
  {
   "cell_type": "markdown",
   "metadata": {},
   "source": [
    "```c\n",
    "#include <math.h>\n",
    "#include \"py/obj.h\"\n",
    "#include \"py/runtime.h\"\n",
    "\n",
    "const mp_obj_type_t vector_type;\n",
    "\n",
    "typedef struct _vector_obj_t {\n",
    "    mp_obj_base_t base;\n",
    "    float x, y, z;\n",
    "} vector_obj_t;\n",
    "\n",
    "STATIC mp_obj_t vector_length(mp_obj_t o_in) {\n",
    "\tif(!mp_obj_is_type(o_in, &vector_type)) {\n",
    "\t\tmp_raise_TypeError(\"argument is not a vector\");\n",
    "\t}\n",
    "\tvector_obj_t *vector = MP_OBJ_TO_PTR(o_in);\n",
    "\treturn mp_obj_new_float(sqrt(vector->x*vector->x + vector->y*vector->y + vector->z*vector->z));\n",
    "}\n",
    "\n",
    "STATIC MP_DEFINE_CONST_FUN_OBJ_1(vector_length_obj, vector_length);\n",
    "\n",
    "\n",
    "STATIC void vector_print(const mp_print_t *print, mp_obj_t self_in, mp_print_kind_t kind) {\n",
    "\t(void)kind;\n",
    "\tvector_obj_t *self = MP_OBJ_TO_PTR(self_in);\n",
    "\tprintf(\"vector(%f, %f, %f)\\n\", self->x, self->y, self->z);\n",
    "}\n",
    "\n",
    "STATIC mp_obj_t vector_make_new(const mp_obj_type_t *type, size_t n_args, size_t n_kw, const mp_obj_t *args) {\n",
    "\tmp_arg_check_num(n_args, n_kw, 3, 3, true);\n",
    "\t\n",
    "\tvector_obj_t *vector = m_new_obj(vector_obj_t);\n",
    "\tvector->base.type = &vector_type;\n",
    "\tvector->x = mp_obj_get_float(args[0]);\n",
    "\tvector->y = mp_obj_get_float(args[1]);\n",
    "\tvector->z = mp_obj_get_float(args[2]);\n",
    "\treturn MP_OBJ_FROM_PTR(vector);\n",
    "}\n",
    "\n",
    "const mp_obj_type_t vector_type = {\n",
    "\t{ &mp_type_type },\n",
    "\t.name = MP_QSTR_vector,\n",
    "\t.print = vector_print,\n",
    "\t.make_new = vector_make_new,\n",
    "};\n",
    "\n",
    "STATIC const mp_rom_map_elem_t vector_module_globals_table[] = {\n",
    "    { MP_ROM_QSTR(MP_QSTR___name__), MP_ROM_QSTR(MP_QSTR_vector) },\n",
    "    { MP_OBJ_NEW_QSTR(MP_QSTR_vector), (mp_obj_t)&vector_type },\t\n",
    "    { MP_ROM_QSTR(MP_QSTR_length), MP_ROM_PTR(&vector_length_obj) },\n",
    "};\n",
    "STATIC MP_DEFINE_CONST_DICT(vector_module_globals, vector_module_globals_table);\n",
    "\n",
    "const mp_obj_module_t vector_user_cmodule = {\n",
    "    .base = { &mp_type_module },\n",
    "    .globals = (mp_obj_dict_t*)&vector_module_globals,\n",
    "};\n",
    "\n",
    "MP_REGISTER_MODULE(MP_QSTR_vector, vector_user_cmodule, MODULE_VECTOR_ENABLED);\n",
    "\n",
    "\n",
    "```"
   ]
  },
  {
   "cell_type": "markdown",
   "metadata": {},
   "source": [
    "# Dealing with iterables\n",
    "\n",
    "\n",
    "In python, an iterable is basically an object that you can have in a `for` loop:\n",
    "\n",
    "```python\n",
    "for item in my_iterable:\n",
    "    print(item)\n",
    "```\n",
    "\n",
    "Amongs others, lists, tuples, and ranges are iterables, as are strings. The key is that these object have a special internal method, and iterator, attached to them. This iterator is responsible for keeping track of the index during the iteration, and serving the objects in the iterable one by one to the `for` loop. When writing our own iterable, we will look under the hood, and see how this all works at the C level. For now, we are going to discuss only, how we can *consume* the content of an iterable in the C code. \n",
    "\n",
    "## Iterating over built-in types\n",
    "\n",
    "In order to demonstrate the use of an iterator, we are going to write a function that sums the square of the values in an iterable. The python version of the function could be something like this: "
   ]
  },
  {
   "cell_type": "code",
   "execution_count": 11,
   "metadata": {
    "ExecuteTime": {
     "end_time": "2019-07-18T05:30:14.184248Z",
     "start_time": "2019-07-18T05:30:14.172333Z"
    }
   },
   "outputs": [
    {
     "data": {
      "text/plain": [
       "30"
      ]
     },
     "execution_count": 11,
     "metadata": {},
     "output_type": "execute_result"
    }
   ],
   "source": [
    "def sumsq(some_iterable):\n",
    "    return sum([item**2 for item in some_iterable])\n",
    "\n",
    "sumsq([1, 2, 3, 4])"
   ]
  },
  {
   "cell_type": "markdown",
   "metadata": {},
   "source": [
    "In C, the key is in the snippet\n",
    "\n",
    "```c\n",
    "mp_obj_iter_buf_t iter_buf;\n",
    "mp_obj_t item, iterable = mp_getiter(o_in, &iter_buf);\n",
    "while ((item = mp_iternext(iterable)) != MP_OBJ_STOP_ITERATION) {\n",
    "    // do something with the item just retrieved\n",
    "}\n",
    "```\n",
    "This is more or less the equivalent of the `for item in some_iterable` instruction. In C, the `mp_obj_t` object `o_in` is the argument of our python function, which is turned into an iterable by passing it into the `mp_getiter` function. This function also needs a buffer object that is of type `mp_obj_iter_buf_t`. The buffer type is defined in `obj.h` as \n",
    "\n",
    "```c\n",
    "typedef struct _mp_obj_iter_buf_t {\n",
    "    mp_obj_base_t base;\n",
    "    mp_obj_t buf[3];\n",
    "} mp_obj_iter_buf_t;\n",
    "\n",
    "```\n",
    "where `.buf[2]` holds the index value, and this is how `mp_iternext` keeps track of the position in the loop. \n",
    "\n",
    "Having retrieved `item`, the rest the code is trivial: you do whatever you want to do with the value, and return at the very end. \n",
    "\n",
    "Now, what happens, if you pass a non-iterable object to the function? For a while, nothing. Everything will work till the point `item = mp_iternext(iterable)`, where the interpreter will raise a `TypeError` exception. So, on the python console, you can either enclose your function in a \n",
    "\n",
    "```python\n",
    "try:\n",
    "    sumsq(some_iterable)\n",
    "except TypeError:\n",
    "    print('something went terribly wrong`)\n",
    "```\n",
    "\n",
    "construct, or you can inspect the type of the variable at the C level. Unfortunately, there does not seem to be a type identifier for iterables in general, so you have to check, whether the argument is a list, tuple, range, etc. This can be done by calling the `MP_OBJ_IS_TYPE` macro, and see which Boolean it returns, if you pass `&mp_type_tuple`, `&mp_type_list`, `&mp_type_range` etc. to it, as we discussed in the section Object representation. \n",
    "\n",
    "The complete code listing of `consumeiterable.c` follows below. If you ask me, this is a lot of code just to replace a single-line python function."
   ]
  },
  {
   "cell_type": "markdown",
   "metadata": {},
   "source": [
    "```c\n",
    "#include \"py/obj.h\"\n",
    "#include \"py/runtime.h\"\n",
    "\n",
    "\n",
    "STATIC mp_obj_t iterables_sumsq(mp_obj_t o_in) {\n",
    "\tmp_float_t _sum = 0.0, itemf;\n",
    "\tmp_obj_iter_buf_t iter_buf;\n",
    "\tmp_obj_t item, iterable = mp_getiter(o_in, &iter_buf);\n",
    "\twhile ((item = mp_iternext(iterable)) != MP_OBJ_STOP_ITERATION) {\n",
    "\t\titemf = mp_obj_get_float(item);\n",
    "\t\t_sum += itemf*itemf;\n",
    "\t}\n",
    "\treturn mp_obj_new_float(_sum);\n",
    "}\n",
    "\n",
    "STATIC MP_DEFINE_CONST_FUN_OBJ_1(iterables_sumsq_obj, iterables_sumsq);\n",
    "\n",
    "STATIC const mp_rom_map_elem_t iterables_module_globals_table[] = {\n",
    "    { MP_ROM_QSTR(MP_QSTR___name__), MP_ROM_QSTR(MP_QSTR_iterables) },\n",
    "    { MP_ROM_QSTR(MP_QSTR_sumsq), MP_ROM_PTR(&iterables_sumsq_obj) },\n",
    "};\n",
    "STATIC MP_DEFINE_CONST_DICT(iterables_module_globals, iterables_module_globals_table);\n",
    "\n",
    "const mp_obj_module_t iterables_user_cmodule = {\n",
    "    .base = { &mp_type_module },\n",
    "    .globals = (mp_obj_dict_t*)&iterables_module_globals,\n",
    "};\n",
    "\n",
    "MP_REGISTER_MODULE(MP_QSTR_iterables, iterables_user_cmodule, MODULE_ITERABLES_ENABLED);\n",
    "```"
   ]
  },
  {
   "cell_type": "markdown",
   "metadata": {},
   "source": [
    "## Returning iterables\n",
    "\n",
    "Let us suppose that the result of some operation is an iterable, e.g., a tuple, or a list. How would we return such an object? How about a function that returns the powers of its argument? In python"
   ]
  },
  {
   "cell_type": "code",
   "execution_count": 9,
   "metadata": {
    "ExecuteTime": {
     "end_time": "2019-07-18T05:28:14.059085Z",
     "start_time": "2019-07-18T05:28:14.050803Z"
    }
   },
   "outputs": [
    {
     "data": {
      "text/plain": [
       "[1, 2, 4, 8, 16, 32, 64, 128, 256, 512, 1024]"
      ]
     },
     "execution_count": 9,
     "metadata": {},
     "output_type": "execute_result"
    }
   ],
   "source": [
    "def powerit(base, exponent):\n",
    "    return [base**e for e in range(0, exponent+1)]\n",
    "\n",
    "powerit(2, 10)"
   ]
  },
  {
   "cell_type": "markdown",
   "metadata": {},
   "source": [
    "and in C, `returniterable.c`, \n",
    "```c\n",
    "#include \"py/obj.h\"\n",
    "#include \"py/runtime.h\"\n",
    "\n",
    "STATIC mp_obj_t powers_iterable(mp_obj_t base, mp_obj_t exponent) {\n",
    "\tint e = mp_obj_get_int(exponent);\n",
    "\tmp_obj_t tuple[e+1];\n",
    "\tint b = mp_obj_get_int(base), ba = 1;\n",
    "\tfor(int i=0; i <= e; i++) {\n",
    "\t\ttuple[i] = mp_obj_new_int(ba);\n",
    "\t\tba *= b;\n",
    "\t}\n",
    "\treturn mp_obj_new_tuple(e+1, tuple);\n",
    "}\n",
    "\n",
    "STATIC MP_DEFINE_CONST_FUN_OBJ_2(powers_iterable_obj, powers_iterable);\n",
    "\n",
    "STATIC const mp_rom_map_elem_t returniterable_module_globals_table[] = {\n",
    "    { MP_ROM_QSTR(MP_QSTR___name__), MP_ROM_QSTR(MP_QSTR_returniterable) },\n",
    "    { MP_ROM_QSTR(MP_QSTR_powers), MP_ROM_PTR(&powers_iterable_obj) },\n",
    "};\n",
    "STATIC MP_DEFINE_CONST_DICT(returniterable_module_globals, returniterable_module_globals_table);\n",
    "\n",
    "const mp_obj_module_t returniterable_user_cmodule = {\n",
    "    .base = { &mp_type_module },\n",
    "    .globals = (mp_obj_dict_t*)&returniterable_module_globals,\n",
    "};\n",
    "\n",
    "MP_REGISTER_MODULE(MP_QSTR_returniterable, returniterable_user_cmodule, MODULE_RETURNITERABLE_ENABLED);\n",
    "```\n",
    "\n",
    "As everything else, the elements of tuples and lists are objects of type `mp_obj_t`, so, after finding out how far we have got to go with the exponents, we declare an array of the required length.  Values are generated and assigned in the while loop. Since on the left hand side of the assignment we have an `mp_obj_t`, we convert the results with `mp_obj_new_int`. Once we are done with the computations, we return the array with `mp_obj_new_tuple`. This functions takes the array as the second argument, while the first argument specifies the length. \n",
    "\n",
    "If you happen to want to return a list instead of a tuple, all you have to do is use `mp_obj_new_list` instead at the very end. "
   ]
  },
  {
   "cell_type": "markdown",
   "metadata": {},
   "source": [
    "## Creating iterables\n",
    "\n",
    "Having seen how we can consume the elements in an iterable, it is time to see what this `.getiter` magic is doing. So, let us create a new type, `square`, and make it iterable! `square` will be a binary array holding 16-bit integers, and the values will be 1, 4, 9, 16... We are interested only in the iterability of the object, and for this reason, we will implement only the `.getiter` special method, and skip `.binary_op`, and `.unary_op`. If needed, these can easily be added based on the discussion in Class special methods. \n",
    "\n"
   ]
  },
  {
   "cell_type": "code",
   "execution_count": 24,
   "metadata": {
    "ExecuteTime": {
     "end_time": "2019-07-21T13:23:07.983021Z",
     "start_time": "2019-07-21T13:23:07.922801Z"
    }
   },
   "outputs": [
    {
     "name": "stdout",
     "output_type": "stream",
     "text": [
      "/home/v923z/sandbox/micropython/v1.11/micropython/ports/unix\n"
     ]
    }
   ],
   "source": [
    "%cd ../../micropython/ports/unix"
   ]
  },
  {
   "cell_type": "code",
   "execution_count": 28,
   "metadata": {
    "ExecuteTime": {
     "end_time": "2019-07-21T13:26:13.712842Z",
     "start_time": "2019-07-21T13:25:53.983157Z"
    },
    "collapsed": true
   },
   "outputs": [
    {
     "name": "stdout",
     "output_type": "stream",
     "text": [
      "Use make V=1 or set BUILD_VERBOSE in your environment to increase build verbosity.\n",
      "GEN build/genhdr/moduledefs.h\n",
      "GEN build/genhdr/qstr.i.last\n",
      "GEN build/genhdr/qstr.split\n",
      "GEN build/genhdr/qstrdefs.collected.h\n",
      "QSTR not updated\n",
      "GEN build/genhdr/qstrdefs.generated.h\n",
      "CC ../../py/mpstate.c\n",
      "CC ../../py/nlr.c\n",
      "CC ../../py/nlrx86.c\n",
      "CC ../../py/nlrx64.c\n",
      "CC ../../py/nlrthumb.c\n",
      "CC ../../py/nlrxtensa.c\n",
      "CC ../../py/nlrsetjmp.c\n",
      "CC ../../py/malloc.c\n",
      "CC ../../py/gc.c\n",
      "CC ../../py/pystack.c\n",
      "CC ../../py/qstr.c\n",
      "CC ../../py/vstr.c\n",
      "CC ../../py/mpprint.c\n",
      "CC ../../py/unicode.c\n",
      "CC ../../py/mpz.c\n",
      "CC ../../py/reader.c\n",
      "CC ../../py/lexer.c\n",
      "CC ../../py/parse.c\n",
      "CC ../../py/scope.c\n",
      "CC ../../py/compile.c\n",
      "CC ../../py/emitcommon.c\n",
      "CC ../../py/emitbc.c\n",
      "CC ../../py/asmbase.c\n",
      "CC ../../py/asmx64.c\n",
      "CC ../../py/emitnx64.c\n",
      "CC ../../py/asmx86.c\n",
      "CC ../../py/emitnx86.c\n",
      "CC ../../py/asmthumb.c\n",
      "CC ../../py/emitnthumb.c\n",
      "CC ../../py/emitinlinethumb.c\n",
      "CC ../../py/asmarm.c\n",
      "CC ../../py/emitnarm.c\n",
      "CC ../../py/asmxtensa.c\n",
      "CC ../../py/emitnxtensa.c\n",
      "CC ../../py/emitinlinextensa.c\n",
      "CC ../../py/formatfloat.c\n",
      "CC ../../py/parsenumbase.c\n",
      "CC ../../py/parsenum.c\n",
      "CC ../../py/emitglue.c\n",
      "CC ../../py/persistentcode.c\n",
      "CC ../../py/runtime.c\n",
      "CC ../../py/runtime_utils.c\n",
      "CC ../../py/scheduler.c\n",
      "CC ../../py/nativeglue.c\n",
      "CC ../../py/stackctrl.c\n",
      "CC ../../py/argcheck.c\n",
      "CC ../../py/warning.c\n",
      "CC ../../py/map.c\n",
      "CC ../../py/obj.c\n",
      "CC ../../py/objarray.c\n",
      "CC ../../py/objattrtuple.c\n",
      "CC ../../py/objbool.c\n",
      "CC ../../py/objboundmeth.c\n",
      "CC ../../py/objcell.c\n",
      "CC ../../py/objclosure.c\n",
      "CC ../../py/objcomplex.c\n",
      "CC ../../py/objdeque.c\n",
      "CC ../../py/objdict.c\n",
      "CC ../../py/objenumerate.c\n",
      "CC ../../py/objexcept.c\n",
      "CC ../../py/objfilter.c\n",
      "CC ../../py/objfloat.c\n",
      "CC ../../py/objfun.c\n",
      "CC ../../py/objgenerator.c\n",
      "CC ../../py/objgetitemiter.c\n",
      "CC ../../py/objint.c\n",
      "CC ../../py/objint_longlong.c\n",
      "CC ../../py/objint_mpz.c\n",
      "CC ../../py/objlist.c\n",
      "CC ../../py/objmap.c\n",
      "CC ../../py/objmodule.c\n",
      "CC ../../py/objobject.c\n",
      "CC ../../py/objpolyiter.c\n",
      "CC ../../py/objproperty.c\n",
      "CC ../../py/objnone.c\n",
      "CC ../../py/objnamedtuple.c\n",
      "CC ../../py/objrange.c\n",
      "CC ../../py/objreversed.c\n",
      "CC ../../py/objset.c\n",
      "CC ../../py/objsingleton.c\n",
      "CC ../../py/objslice.c\n",
      "CC ../../py/objstr.c\n",
      "CC ../../py/objstrunicode.c\n",
      "CC ../../py/objstringio.c\n",
      "CC ../../py/objtuple.c\n",
      "CC ../../py/objtype.c\n",
      "CC ../../py/objzip.c\n",
      "CC ../../py/opmethods.c\n",
      "CC ../../py/sequence.c\n",
      "CC ../../py/stream.c\n",
      "CC ../../py/binary.c\n",
      "CC ../../py/builtinimport.c\n",
      "CC ../../py/builtinevex.c\n",
      "CC ../../py/builtinhelp.c\n",
      "CC ../../py/modarray.c\n",
      "CC ../../py/modbuiltins.c\n",
      "CC ../../py/modcollections.c\n",
      "CC ../../py/modgc.c\n",
      "CC ../../py/modio.c\n",
      "CC ../../py/modmath.c\n",
      "CC ../../py/modcmath.c\n",
      "CC ../../py/modmicropython.c\n",
      "CC ../../py/modstruct.c\n",
      "CC ../../py/modsys.c\n",
      "CC ../../py/moduerrno.c\n",
      "CC ../../py/modthread.c\n",
      "CC ../../py/vm.c\n",
      "CC ../../py/bc.c\n",
      "CC ../../py/showbc.c\n",
      "CC ../../py/repl.c\n",
      "CC ../../py/smallint.c\n",
      "CC ../../py/frozenmod.c\n",
      "CC ../../extmod/moductypes.c\n",
      "CC ../../extmod/modujson.c\n",
      "CC ../../extmod/modure.c\n",
      "CC ../../extmod/moduzlib.c\n",
      "CC ../../extmod/moduheapq.c\n",
      "CC ../../extmod/modutimeq.c\n",
      "CC ../../extmod/moduhashlib.c\n",
      "CC ../../extmod/moducryptolib.c\n",
      "CC ../../extmod/modubinascii.c\n",
      "CC ../../extmod/virtpin.c\n",
      "CC ../../extmod/machine_mem.c\n",
      "CC ../../extmod/machine_pinbase.c\n",
      "CC ../../extmod/machine_signal.c\n",
      "CC ../../extmod/machine_pulse.c\n",
      "CC ../../extmod/machine_i2c.c\n",
      "CC ../../extmod/machine_spi.c\n",
      "CC ../../extmod/modussl_axtls.c\n",
      "CC ../../extmod/modussl_mbedtls.c\n",
      "CC ../../extmod/modurandom.c\n",
      "CC ../../extmod/moduselect.c\n",
      "CC ../../extmod/moduwebsocket.c\n",
      "CC ../../extmod/modwebrepl.c\n",
      "CC ../../extmod/modframebuf.c\n",
      "CC ../../extmod/vfs.c\n",
      "CC ../../extmod/vfs_reader.c\n",
      "CC ../../extmod/vfs_posix.c\n",
      "CC ../../extmod/vfs_posix_file.c\n",
      "CC ../../extmod/vfs_fat.c\n",
      "CC ../../extmod/vfs_fat_diskio.c\n",
      "CC ../../extmod/vfs_fat_file.c\n",
      "CC ../../extmod/utime_mphal.c\n",
      "CC ../../extmod/uos_dupterm.c\n",
      "CC ../../lib/embed/abort_.c\n",
      "CC ../../lib/utils/printf.c\n",
      "GEN build/frozen_mpy.c\n",
      "CC build/frozen_mpy.c\n",
      "CC main.c\n",
      "CC gccollect.c\n",
      "CC unix_mphal.c\n",
      "CC mpthreadport.c\n",
      "CC input.c\n",
      "CC file.c\n",
      "CC modmachine.c\n",
      "CC modos.c\n",
      "CC moduos_vfs.c\n",
      "CC modtime.c\n",
      "CC moduselect.c\n",
      "CC alloc.c\n",
      "CC coverage.c\n",
      "CC fatfs_port.c\n",
      "CC ../../extmod/modbtree.c\n",
      "CC modtermios.c\n",
      "CC modusocket.c\n",
      "CC modffi.c\n",
      "CC ../../lib/mp-readline/readline.c\n",
      "CC ../../lib/timeutils/timeutils.c\n",
      "CC ../../lib/oofatfs/ff.c\n",
      "CC ../../lib/oofatfs/ffunicode.c\n",
      "LINK micropython\n",
      "   text\t   data\t    bss\t    dec\t    hex\tfilename\n",
      "   2093\t   6870\t      0\t   8963\t   2303\tbuild/build/frozen_mpy.o\n",
      "      2\t      0\t      0\t      2\t      2\tbuild/build/frozen.o\n",
      " 439661\t  55120\t   2104\t 496885\t  794f5\tmicropython\n"
     ]
    }
   ],
   "source": [
    "!make USER_C_MODULES=../../../usermod CFLAGS_EXTRA=-DMODULE_MAKEITERABLE_ENABLED=1 all"
   ]
  },
  {
   "cell_type": "markdown",
   "metadata": {},
   "source": [
    "## Subscripts\n",
    "\n",
    "We now know, how we construct something that can be passed to a `for` loop. This is a good start. But iterables have other very useful properties. For instance, have you ever wondered, what actually happens in the following snippet?"
   ]
  },
  {
   "cell_type": "code",
   "execution_count": 29,
   "metadata": {
    "ExecuteTime": {
     "end_time": "2019-07-21T15:57:13.869133Z",
     "start_time": "2019-07-21T15:57:13.857378Z"
    }
   },
   "outputs": [
    {
     "data": {
      "text/plain": [
       "'p'"
      ]
     },
     "execution_count": 29,
     "metadata": {},
     "output_type": "execute_result"
    }
   ],
   "source": [
    "a = 'micropython'\n",
    "a[5]"
   ]
  },
  {
   "cell_type": "markdown",
   "metadata": {},
   "source": [
    "`a` is a string, therefore, an iterable. Where does the interpreter know from, that it has got to return `p`, when asked for `a[5]`? Or have you ever been curious to know, how the interpreter replaces `p` by `q`, if"
   ]
  },
  {
   "cell_type": "code",
   "execution_count": 31,
   "metadata": {
    "ExecuteTime": {
     "end_time": "2019-07-21T16:01:05.806314Z",
     "start_time": "2019-07-21T16:01:05.788953Z"
    }
   },
   "outputs": [
    {
     "data": {
      "text/plain": [
       "['m', 'i', 'c', 'r', 'o', 'q', 'y', 't', 'o', 'n']"
      ]
     },
     "execution_count": 31,
     "metadata": {},
     "output_type": "execute_result"
    }
   ],
   "source": [
    "a = [c for c in 'micropyton']\n",
    "a[5] = 'q'\n",
    "a"
   ]
  },
  {
   "cell_type": "markdown",
   "metadata": {},
   "source": [
    "is passed to it? If so, then it is your lucky day, because we are going to make our iterable class be able to deal with such request.\n",
    "\n",
    "The code snippets above rely on a single special method, the subscription. In the C code of micropython, this method is called `subscr`, and it should be assigned in the class declaration, i.e., if we take `makeiterable.c` as our basis for the following discussion, then we would have to extend \n",
    "\n",
    "```c\n",
    "const mp_obj_type_t iterable_array_type {\n",
    "    ...\n",
    "    .subscr = itarray_subscr\n",
    "}\n",
    "```\n",
    "where the signature of `itarray_subscr` has the form \n",
    "\n",
    "```c\n",
    "STATIC mp_obj_t itarray_subscr(mp_obj_t self_in, mp_obj_t index, mp_obj_t value)\n",
    "```\n",
    "If `.subscr` is not implemented, but you call \n",
    "\n",
    "```python\n",
    "a[5]\n",
    "```\n",
    "all the same, then the interpreter is going to complain \n",
    "\n",
    "```pytb\n",
    "Traceback (most recent call last):\n",
    "  File \"<stdin>\", line 1, in <module>\n",
    "TypeError: 'itarray' object isn't subscriptable\n",
    "```\n"
   ]
  },
  {
   "cell_type": "markdown",
   "metadata": {},
   "source": [
    "# Profiling\n",
    "\n",
    "There are times, when you might want to find out what resources (time and RAM) a particular operation requires. Not because you are nosy, but because the resources of a microcontroller are limited, therefore, if you are out of luck, the desired operation might not even fit within the constraints of the chip. In order to locate the bottleneck, you will need to do a bit of profiling. Or perhaps, a lot. This is what we are going to discuss now. \n",
    "\n",
    "Since you are not going to face serious difficulties when running micropython on a computer, profiling makes really sense only in the context of the microcontroller, so this might be a golden opportunity to brush up on how the firmware has to be compiled and uploaded. It is not by accident that we spent some time on this at the very beginning of this document. \n",
    "\n",
    "\n",
    "## Profiling in python\n",
    "\n",
    "### Measuring time\n",
    "\n",
    "If you are interested in the execution time of a complete function, you can measure it simply by making use of the python interpreter\n",
    "\n",
    "```python\n",
    "\n",
    "from utime import ticks_us, diff_ticks\n",
    "\n",
    "now = ticks_us()\n",
    "run_my_function()\n",
    "then = diff_ticks(ticks_us(), now)\n",
    "\n",
    "print(\"function run_my_function() took %d us to run\"%then)\n",
    "\n",
    "```\n",
    "\n",
    "In fact, since our function is flanked by two other statements, this construct easily lends itself to a decorator implementation, as in (taken from ...)\n",
    "\n",
    "```python\n",
    "```\n",
    "\n",
    "\n",
    "(If you need an even better estimate, you can get the ticks twice, and yank run_my_function() in the second pass: in this way, you would get the cost of measuring time itself:\n",
    "\n",
    "```python\n",
    "\n",
    "from utime import ticks_us, diff_ticks\n",
    "\n",
    "now = ticks_us\n",
    "then = diff_ticks(ticks_us(), now)\n",
    "\n",
    "print(\"the time measurement took %d us\"%then)\n",
    "\n",
    "```\n",
    "Then you subtract the results of the second measurement from those of the first.)\n",
    "\n",
    "\n",
    "### The memory cost of a function\n",
    "\n",
    "While time is money, RAM is gold. We shouldn't pass up on that! The `micropython` has a very handy function for \n",
    "printing a pretty summary of the state of the RAM. You would call it like \n",
    "\n",
    "```python\n",
    "import micropython\n",
    "\n",
    "micropyton.mem_info()\n",
    "```\n",
    "which will give you something like this\n",
    "\n",
    "```python\n",
    "mem: total=5748, current=1858, peak=3451\n",
    "stack: 928 out of 80000\n",
    "GC: total: 2072832, used: 2528, free: 2070304\n",
    " No. of 1-blocks: 61, 2-blocks: 4, max blk sz: 6, max free sz: 64686\n",
    "```\n",
    "If you call `mem_info()` after you executed your function, but before calling the garbage collector (if that is enabled, that is), then from the two reports, you can figure out how many bytes the function has eaten. "
   ]
  },
  {
   "cell_type": "markdown",
   "metadata": {},
   "source": [
    "## Profiling in C\n",
    "\n",
    "With the profiling method above we can measure the cost of a complete function only, but we cannot say anything about individual instructions in the body. Execution time is definitely a significant issue, but even worse is the problem of RAM: it might happen that the function allocates a huge amount of memory, but cleans up properly before returning. Such a function would certainly wreak havoc, even if it is rather inocuous-looking from the outside. So, what do we do? We should probably just measure. It is not going to hurt. \n",
    "\n",
    "In the example below (`profiling.c`), I discuss both time and RAM measurements in a single module, because splitting them wouldn't be worth the trouble. The function whose behaviour we inspect does nothing, but calculate the length of a three-dimensional vector. With that, we can figure out, how much the assignment, and how much the actual calculation cost. "
   ]
  },
  {
   "cell_type": "markdown",
   "metadata": {},
   "source": [
    "```c\n",
    "#include <math.h>\n",
    "#include <stdio.h>\n",
    "#include \"py/obj.h\"\n",
    "#include \"py/runtime.h\"\n",
    "#include \"mphalport.h\"  // needed for mp_hal_ticks_cpu()\n",
    "#include \"py/builtin.h\" // needed for mp_micropython_mem_info()\n",
    "\n",
    "STATIC mp_obj_t measure_cpu(mp_obj_t _x, mp_obj_t _y, mp_obj_t _z) {\n",
    "\t// first, measure the time taken up by the assignments\n",
    "\tmp_uint_t start = mp_hal_ticks_cpu();\n",
    "\tfloat x = mp_obj_get_float(_x);\n",
    "\tfloat y = mp_obj_get_float(_y);\n",
    "\tfloat z = mp_obj_get_float(_z);\n",
    "\tmp_uint_t stop = mp_hal_ticks_cpu();\n",
    "\tprintf(\"time elapsed: %ld CPU cycles\\n\", stop - start);\n",
    "\tmp_micropython_mem_info(0, NULL);\n",
    "\t\n",
    "\t// measure the time used by the square root\n",
    "\tstart = mp_hal_ticks_cpu();\n",
    "\tfloat hypo = sqrtf(x*x + y*y + z*z);\n",
    "\tstop = mp_hal_ticks_cpu();\n",
    "\tprintf(\"time elapsed: %ld CPU cycles\\n\", stop - start);\t\n",
    "\tmp_micropython_mem_info(0, NULL);\n",
    "\treturn mp_obj_new_float(hypo);\n",
    "}\n",
    "\n",
    "STATIC MP_DEFINE_CONST_FUN_OBJ_3(measure_cpu_obj, measure_cpu);\n",
    "\n",
    "STATIC const mp_rom_map_elem_t profiling_module_globals_table[] = {\n",
    "    { MP_ROM_QSTR(MP_QSTR___name__), MP_ROM_QSTR(MP_QSTR_profiling) },\n",
    "    { MP_ROM_QSTR(MP_QSTR_measure), MP_ROM_PTR(&measure_cpu_obj) },\n",
    "};\n",
    "STATIC MP_DEFINE_CONST_DICT(profiling_module_globals, profiling_module_globals_table);\n",
    "\n",
    "const mp_obj_module_t profiling_user_cmodule = {\n",
    "    .base = { &mp_type_module },\n",
    "    .globals = (mp_obj_dict_t*)&profiling_module_globals,\n",
    "};\n",
    "\n",
    "MP_REGISTER_MODULE(MP_QSTR_profiling, profiling_user_cmodule, MODULE_PROFILING_ENABLED);\n",
    "```"
   ]
  },
  {
   "cell_type": "markdown",
   "metadata": {},
   "source": [
    "The above-mentioned `mem_info()` function of the micropython module can directly be called from C: after including the `builtin.h` header, we can issue `mp_micropython_mem_info(0, NULL);`, defined in `modmicropython.c`, which will print everything we need. Although its signature contains two arguments, a `size_t` and an `mp_obj_t` pointer to the arguments, the function does not seem to care about them, so we can pass `0`, and `NULL` without any meaning. \n",
    "\n",
    "The function `mp_micropython_mem_info()` doesn't carry out any measurements in itself, it is only for pretty printing. The stats are collected by `mp_micropython_mem_total()`, `mp_micropython_mem_current()`, and `mp_micropython_mem_peak()`. Unfortunately, these functions are all declared STATIC, so we cannot call them from outsize `modmicropython.c`. If you need a numeric representation of the state of the RAM, you can make use of the `m_get_total_bytes_allocated(void)`, `m_get_current_bytes_allocated(void)`, and `m_get_peak_bytes_allocated(void)` functions of `py/malloc.c`. All three return a `size_t`. \n",
    "\n",
    "With the help of these three functions, we could, e.g., return the size of the consumed memory to the micropython interpreter at the end of our calculations. `measure_cpu()` could be modified as \n",
    "\n",
    "```c\n",
    "STATIC mp_obj_t measure_cpu(mp_obj_t _x, mp_obj_t _y, mp_obj_t _z) {\n",
    "    size_t start, middle, end;\n",
    "    start = m_get_current_bytes_allocated();\n",
    "\n",
    "    float x = mp_obj_get_float(_x);\n",
    "    float y = mp_obj_get_float(_y);\n",
    "    float z = mp_obj_get_float(_z);\n",
    "    middle = m_get_current_bytes_allocated();\n",
    "\n",
    "    float hypo = sqrtf(x*x + y*y + z*z);\n",
    "    end = m_get_current_bytes_allocated();\n",
    "    mp_obj_t tuple[4];\n",
    "    tuple[0] = MP_OBJ_NEW_SMALL_INT(start);\n",
    "    tuple[1] = MP_OBJ_NEW_SMALL_INT(middle);\n",
    "    tuple[2] = MP_OBJ_NEW_SMALL_INT(end);\n",
    "    tuple[3] = mp_obj_new_float(hypo);\n",
    "    return mp_obj_new_tuple(4, tuple);\n",
    "}\n",
    "```"
   ]
  },
  {
   "cell_type": "markdown",
   "metadata": {},
   "source": [
    "```bash\n",
    "make BOARD=PYBV11 USER_C_MODULES=../../../usermod/ all\n",
    "python ../../tools/pydfu.py -u build-PYBV11/firmware.dfu \n",
    "```"
   ]
  },
  {
   "cell_type": "markdown",
   "metadata": {},
   "source": [
    "# Outline of a math library \n",
    "\n",
    "I indicated at the very beginning that my main motivation for writing this document was that I wanted to have a reasonable programming manual for the development of a math library. Since I couldn't find any manuals, I have turned the problem around, and written up, what I have learnt by developing the library. So, what should this library achieve, after all?\n",
    "\n",
    "## Requirements\n",
    "\n",
    "Recently, I have run into a limitations with the micropython interpreter. These difficulties were both speed, and \n",
    "RAM related. Therefore, I wanted to have something that can perform common mathematical calculations with in a pythonic way, with little burden on the RAM, and possibly fast. On PCs, such a library is called `numpy`, and it felt only natural to me to implement those aspects of `numpy` that would find an applications in the context of data acquisition of moderate volume: after all, no matter what, the microcontroller is not going to produce or collect huge amounts of data, but it might still be useful to process these data within the constraints of the microcontroller. Due to the nature of the data that would be dealt with, one can work with a very limited subset of `numpy`. \n",
    "\n",
    "Keeping these considerations in mind, I set my goals as follows:\n",
    "\n",
    "* One should be able to vectorise standard mathematical functions, while these functions should still work for scalars, so \n",
    "\n",
    "```python\n",
    "a = 1.0\n",
    "sin(a)\n",
    "```\n",
    "and\n",
    "```python\n",
    "a = [1.0, 2.0, 3.0]\n",
    "sin(a)\n",
    "```\n",
    "should both be valid expressions.\n",
    "\n",
    "* There should be a binary container, (`ndarray`) for numbers that are results of vectorised operations, and one should be able to initialise a container by passing arbitrary iterables to a constructor (see ```sin([1, 2, 3])``` above).\n",
    "\n",
    "\n",
    "* The array should be iterable, so that we can turn it into lists, tuples, etc.\n",
    "\n",
    "* The relevant binary operations should work on arrays as in `numpy`, that is, e.g., \n",
    "\n",
    "```python\n",
    ">>> a = ndarray([1, 2, 3, 4])\n",
    ">>> (a + 1) + a*10\n",
    "```\n",
    "should evaluate to `ndarray([12, 23, 34, 45])`.\n",
    "\n",
    "* 2D arrays (matrices) could be useful (see below), thus, the above-mentioned container should be able to store its `shape`.\n",
    "\n",
    "* Having matrices, it is only natural to implement standard matrix operations (inversion, transposition etc.)\n",
    "\n",
    "* These numerical arrays and matrices should have a reasonable visual representation (pretty printing)\n",
    "\n",
    "* With the help of matrices, one can also think of polynomial fitting to measurement data"
   ]
  },
  {
   "cell_type": "code",
   "execution_count": 8,
   "metadata": {
    "ExecuteTime": {
     "end_time": "2019-07-20T20:08:30.812679Z",
     "start_time": "2019-07-20T20:08:30.795624Z"
    }
   },
   "outputs": [
    {
     "data": {
      "application/javascript": [
       "IPython.CodeCell.options_default.highlight_modes['magic_cpp'] = {'reg':[/^%%cpp/]};"
      ]
     },
     "metadata": {},
     "output_type": "display_data"
    }
   ],
   "source": [
    "import IPython\n",
    "js = \"IPython.CodeCell.options_default.highlight_modes['magic_cpp'] = {'reg':[/^%%cpp/]};\"\n",
    "IPython.core.display.display_javascript(js, raw=True)"
   ]
  },
  {
   "cell_type": "code",
   "execution_count": 16,
   "metadata": {
    "ExecuteTime": {
     "end_time": "2019-07-20T20:22:00.055913Z",
     "start_time": "2019-07-20T20:22:00.049190Z"
    }
   },
   "outputs": [
    {
     "data": {
      "application/javascript": [
       "\n",
       "    (function () {\n",
       "        var defaults = IPython.CodeCell.config_defaults || IPython.CodeCell.options_default;\n",
       "        defaults.highlight_modes['magic_text/x-csrc'] = {'reg':[/^\\s*%%cpp/]};\n",
       "    })();\n",
       "    "
      ]
     },
     "metadata": {},
     "output_type": "display_data"
    }
   ],
   "source": [
    "js = \"\"\"\n",
    "    (function () {\n",
    "        var defaults = IPython.CodeCell.config_defaults || IPython.CodeCell.options_default;\n",
    "        defaults.highlight_modes['magic_text/x-csrc'] = {'reg':[/^\\\\s*%%cpp/]};\n",
    "    })();\n",
    "    \"\"\"\n",
    "IPython.core.display.display_javascript(js, raw=True)"
   ]
  },
  {
   "cell_type": "code",
   "execution_count": 11,
   "metadata": {
    "ExecuteTime": {
     "end_time": "2019-07-20T20:11:58.181892Z",
     "start_time": "2019-07-20T20:11:58.169827Z"
    }
   },
   "outputs": [
    {
     "name": "stderr",
     "output_type": "stream",
     "text": [
      "UsageError: Cell magic `%%fortran` not found.\n"
     ]
    }
   ],
   "source": [
    "%%fortran\n",
    "\n",
    "for i in range(123)"
   ]
  },
  {
   "cell_type": "code",
   "execution_count": 17,
   "metadata": {
    "ExecuteTime": {
     "end_time": "2019-07-20T20:22:02.085884Z",
     "start_time": "2019-07-20T20:22:02.070396Z"
    }
   },
   "outputs": [
    {
     "name": "stderr",
     "output_type": "stream",
     "text": [
      "UsageError: Cell magic `%%cpp` not found.\n"
     ]
    }
   ],
   "source": [
    "%%cpp\n",
    "\n",
    "void main() {\n",
    "    uint16_t x = 15;\n",
    "}"
   ]
  }
 ],
 "metadata": {
  "kernelspec": {
   "display_name": "Python 3",
   "language": "python",
   "name": "python3"
  },
  "language_info": {
   "codemirror_mode": {
    "name": "ipython",
    "version": 3
   },
   "file_extension": ".py",
   "mimetype": "text/x-python",
   "name": "python",
   "nbconvert_exporter": "python",
   "pygments_lexer": "ipython3",
   "version": "3.7.3"
  },
  "toc": {
   "base_numbering": 1,
   "nav_menu": {},
   "number_sections": true,
   "sideBar": true,
   "skip_h1_title": false,
   "title_cell": "Table of Contents",
   "title_sidebar": "Contents",
   "toc_cell": false,
   "toc_position": {
    "height": "calc(100% - 180px)",
    "left": "10px",
    "top": "150px",
    "width": "218px"
   },
   "toc_section_display": true,
   "toc_window_display": true
  },
  "varInspector": {
   "cols": {
    "lenName": 16,
    "lenType": 16,
    "lenVar": 40
   },
   "kernels_config": {
    "python": {
     "delete_cmd_postfix": "",
     "delete_cmd_prefix": "del ",
     "library": "var_list.py",
     "varRefreshCmd": "print(var_dic_list())"
    },
    "r": {
     "delete_cmd_postfix": ") ",
     "delete_cmd_prefix": "rm(",
     "library": "var_list.r",
     "varRefreshCmd": "cat(var_dic_list()) "
    }
   },
   "types_to_exclude": [
    "module",
    "function",
    "builtin_function_or_method",
    "instance",
    "_Feature"
   ],
   "window_display": false
  }
 },
 "nbformat": 4,
 "nbformat_minor": 2
}
