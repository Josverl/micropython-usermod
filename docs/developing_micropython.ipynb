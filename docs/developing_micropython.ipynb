{
 "cells": [
  {
   "cell_type": "code",
   "execution_count": 5,
   "metadata": {
    "ExecuteTime": {
     "end_time": "2019-07-10T20:16:37.506876Z",
     "start_time": "2019-07-10T20:16:37.499578Z"
    }
   },
   "outputs": [],
   "source": [
    "from IPython.display import display_javascript\n",
    "\n",
    "def make_cell(s):\n",
    "\n",
    "    display_javascript(\"\"\"var t_cell = IPython.notebook.insert_cell_below()\n",
    "    t_cell.set_text('<!--\\\\n' + t_cell.get_text() + '\\\\n--> \\\\n{}');\n",
    "    var t_index = IPython.notebook.get_cells().indexOf(t_cell);\n",
    "    IPython.notebook.to_markdown(t_index);\n",
    "    IPython.notebook.get_cell(t_index).render();\"\"\".format(s.replace('\\n','\\\\n')), raw=True)"
   ]
  },
  {
   "cell_type": "markdown",
   "metadata": {},
   "source": [
    "# Introduction\n",
    "\n",
    "\n",
    "So, you have somehow found micropython, fallen in love with it in an instance, broken your piggy bank, and run off, head over heels, to buy a pyboard. You have probably paid extra for the expedited shipping. Once the pyboard arrived, you became excited like a puppy with a bone. You played with the hardware, learnt how to access the accelerometer, switch, LEDs, and temperature sensor, and you have successfully communicated with other devices via the I2C, SPI, USART, or CAN interfaces. You have plugged the board in a computer, and driven someone crazy by emulating a seemingly disoriented mouse on it. You have written your own python functions, even compiled them into frozen modules, and burnt the whole damn thing onto the microcontroller. Then you have toyed with the on-board assembler, because you hoped that you could gain some astronomical factors in speed. (But you couldn't.)\n",
    "\n",
    "And yet, after all this, you feel somewhat unsatisfied. You find that you want to access the periphery in a special way, or you need some fancy function that, when implemented in python itself, seems to consume too much RAM, and takes an eternity to execute, and assembly, especially with its limitations, is just far too awkward. Or perhaps, you are simply dead against making your code easily readable by writing everything in python, and you want to hide the magic, just for the heck of it. But you still want to retain the elegance of python. \n",
    "\n",
    "If, after thorough introspection and soul-searching, you have discovered these latter symptoms in yourself, you have two choices: either you despair, scrap your idea, and move on, or you learn how the heavy lifting behind the python facade is done, and spin your own functions, classes, and methods in C. As it turns out, it is not that hard, once you get the hang of it. The sole trick is to get the hang of it. The fact that the micropython code base is organised in a rather logical fashion certainly makes matters feasible. \n",
    "\n",
    "On the following pages I would like to show how new functionality can be added and exposed to the python interpreter. I will try to discuss all aspects of micropython in an approachable way. Each concept will be presented in a minimal implementation that you can compile right away, and try yourself. At the end of each chapter, I will list the discussed code in its entirety, so that copying and pasting does not involve copious amounts of work. The code, as well as the source of the documentation are also available under https://github.com/v923z/micropython-development.\n",
    "\n",
    "I start out with a very simple module and slowly build upon it. At the end of the discussion, I will outline my version of a general-purpose math library, similar to numpy. In fact, when working on this math module, I realised that a decent programming guide to micropython is sourly missing, hence this documents. Obviously, numpy is a huge library, and we are not going to implement all aspects of it. But we will be able to define efficiently stored arrays on which we can do vectorised computations, work with matrices, invert and contract them, fit polynomials to measurement data, and get the Fourier transform of an arbitrary sequence. I hope you will enjoy the ride!\n",
    "\n",
    "One last comment: I believe, all examples in this document could be implemented with little effort in python itself, and I am definitely not advocating the inclusion of such trivial cases in the firmware. I chose these examples on two grounds: First, they are all simple, almost primitive, but for this very reason, they demonstrate an idea without distraction. Second, having a piece of parallel python code is useful insofar as it tells us what to expect, and we can compare the results of the C implemetation to that of the native firmware."
   ]
  },
  {
   "cell_type": "markdown",
   "metadata": {},
   "source": [
    "# Setting up the environment, compiling the code\n",
    "\n",
    "\n",
    "Beginning with the 1.10 version of micropython, it became quite simple to add a user-defined C module to the firmware. \n",
    "\n",
    "\n",
    "-------------------------------\n",
    "\n",
    "```bash\n",
    "\n",
    "make USER_C_MODULES=../../../modules CFLAGS_EXTRA=-DMODULE_EXAMPLE_ENABLED=1 all\n",
    "```\n",
    "or \n",
    "\n",
    "```bash\n",
    "\n",
    "make USER_C_MODULES=../../../modules all\n",
    "```\n"
   ]
  },
  {
   "cell_type": "markdown",
   "metadata": {},
   "source": [
    "The micropython codebase itself is set up a rather modular way. If you look at the top level directories,"
   ]
  },
  {
   "cell_type": "code",
   "execution_count": 5,
   "metadata": {
    "ExecuteTime": {
     "end_time": "2019-07-07T05:29:49.203948Z",
     "start_time": "2019-07-07T05:29:49.063375Z"
    }
   },
   "outputs": [
    {
     "name": "stdout",
     "output_type": "stream",
     "text": [
      "ACKNOWLEDGEMENTS    docs      extmod   logo\t  py\t     tools\r\n",
      "CODECONVENTIONS.md  drivers   lib      mpy-cross  README.md\r\n",
      "CONTRIBUTING.md     examples  LICENSE  ports\t  tests\r\n"
     ]
    }
   ],
   "source": [
    "!ls ../../micropython/"
   ]
  },
  {
   "cell_type": "markdown",
   "metadata": {},
   "source": [
    "at least two are of particular interest. Namely, `/py/`, where the python interpreter is implemented, and `/ports/`, which contains the hardware-specific files. "
   ]
  },
  {
   "cell_type": "markdown",
   "metadata": {},
   "source": [
    "# micropython internals\n",
    "\n",
    "Before exploring the exciting problem of micropython function implementation in C, we should first understand how python objects are stored and treated at the firmware level. \n",
    "\n",
    "## Object representation\n",
    "\n",
    "Whenever you write \n",
    "\n",
    "```python\n",
    ">>> a = 1\n",
    ">>> b = 1\n",
    ">>> a + b\n",
    "```\n",
    "\n",
    "on the python console, first the two new variables, `a`, and `b` are created and a reference to them is stored in memory. Then the value of 1 will be associated with these variables. In the last line, when the sum is to be computed, the interpreter somehow has to figure out, how to decipher the values stored in `a`, and `b`: in the RAM, these two variables are just bytes, but depending on the type of the variable, different meanings will be associated with these bytes. Since the type cannot be known at compile time, there must be a mechanism for keeping stock of this extra piece of information. This is, where `mp_obj_t`, defined in `obj.h`, takes centre stage. \n",
    "\n",
    "If you look at any of the C functions that are exposed to the python interpreter, you will see something like this\n",
    "\n",
    "```c\n",
    "mp_obj_t some_function(mp_obj_t some_variable, ...) {\n",
    "    // some_variable is converted to fundamental C types (bytes, ints, floats, pointers, structures, etc.)\n",
    "    ...\n",
    "}\n",
    "```\n",
    "Variables of type `mp_obj_t` are passed to the function, and the function returns the results as an object of type `mp_obj_t`. So, what is all this fuss this about? Basically, `mp_obj_t` is nothing but an 8-byte segment of the memory, where all concrete objects are encoded. There can be various object encodings. E.g., in the `A` encoding, integers are those objects, whose rightmost bit in this 8-byte representation is set to 1, and the value of the integer can then be retrieved by shifting these 8 bytes by one to the right. In the `B` encoding, the variable is an integer, if its value is 1, when ANDed with 3, and the value will be returned, if we shift the 8 bytes by two to the right. \n",
    "\n",
    "Fortunately, we do not have to be concerned with the representations and the shifts, because there are pre-defined macros for such operations. So, if we want to find out, whether `some_variable` is an integer, we can inspect the value of the Boolean \n",
    "\n",
    "```c\n",
    "MP_OBJ_IS_SMALL_INT(some_variable)\n",
    "```\n",
    "\n",
    "The integer value stored in `some_variable` can then be gotten by calling `MP_OBJ_SMALL_INT_VALUE`: \n",
    "\n",
    "```c\n",
    "int value_of_some_variable = MP_OBJ_SMALL_INT_VALUE(some_variable);\n",
    "```\n",
    "\n",
    "These decoding steps take place somewhere in the body of `some_function`, before we start working with native C types. Once we are done with the calculations, we have to return an `mp_obj_t`, so that the interpreter can handle the results (e.g., show it on the console, or pipe it to the next instruction). In this case, the encoding is done by calling \n",
    "\n",
    "```c\n",
    "mp_obj_new_int(value_of_some_variable)\n",
    "\n",
    "```\n",
    "\n",
    "More generic types can be treated with the macro `MP_OBJ_IS_TYPE`, which takes the object as the first, and a pointer to the type as the second argument. So, if you want to find out, whether `some_variable` is a tuple, you could apply the `MP_OBJ_IS_TYPE` macro, \n",
    "\n",
    "```c\n",
    "MP_OBJ_IS_TYPE(myobject, &mp_type_tuple)\n",
    "```\n",
    "\n",
    "While the available types can be found in `obj.h`, they all follow the `mp_type_` + python type pattern, so in most cases, it is not even necessary to look them up. We should also note that, when defined properly, `MP_OBJ_IS_TYPE` can be called on objects, that are defined in the user module itself, i.e., you can have your own data type, and \n",
    "\n",
    "```c\n",
    "MP_OBJ_IS_TYPE(myobject, &my_type)\n",
    "```\n",
    "\n",
    "will just work. We return to this question later. \n",
    "\n",
    "## Constants\n",
    "\n",
    "At this point, we should mention python constants,`True`, `False`, `None` and the like are also defined in `obj.h`. These are objects of type `mp_obj_t`, as almost anything else, so you can return them from a function, when the function is meant to return directly to the interpreter."
   ]
  },
  {
   "cell_type": "markdown",
   "metadata": {},
   "source": [
    "# Developing your own module\n",
    "\n",
    "Having seen, what the python objects look like to the interpreter, we can start with out explorations in earnest. We begin by adding a simple module to the python interpreter. The module will have a single function that takes two numbers, and adds them. I know that this is the most exciting thing since sliced bread, and you always wondered, why there isn't a built-in python function for such an exciting task. Well, wonder no more! From now on, *your* micropython will have one. \n",
    "\n",
    "First I show the file in its entirety (20 something lines all in all), and then discuss the parts."
   ]
  },
  {
   "cell_type": "markdown",
   "metadata": {
    "ExecuteTime": {
     "end_time": "2019-07-07T05:36:39.517066Z",
     "start_time": "2019-07-07T05:36:33.293731Z"
    }
   },
   "source": [
    "```c\n",
    "#include \"py/obj.h\"\n",
    "#include \"py/runtime.h\"\n",
    "\n",
    "STATIC mp_obj_t simplefunction_add_ints(mp_obj_t a_obj, mp_obj_t b_obj) {\n",
    "    int a = mp_obj_get_int(a_obj);\n",
    "    int b = mp_obj_get_int(b_obj);\n",
    "    return mp_obj_new_int(a + b);\n",
    "}\n",
    "\n",
    "STATIC MP_DEFINE_CONST_FUN_OBJ_2(simplefunction_add_ints_obj, simplefunction_add_ints);\n",
    "\n",
    "STATIC const mp_rom_map_elem_t simplefunction_module_globals_table[] = {\n",
    "    { MP_ROM_QSTR(MP_QSTR___name__), MP_ROM_QSTR(MP_QSTR_simplefunction) },\n",
    "    { MP_ROM_QSTR(MP_QSTR_add_ints), MP_ROM_PTR(&simplefunction_add_ints_obj) },\n",
    "};\n",
    "STATIC MP_DEFINE_CONST_DICT(simplefunction_module_globals, simplefunction_module_globals_table);\n",
    "\n",
    "const mp_obj_module_t simplefunction_user_cmodule = {\n",
    "    .base = { &mp_type_module },\n",
    "    .globals = (mp_obj_dict_t*)&simplefunction_module_globals,\n",
    "};\n",
    "\n",
    "MP_REGISTER_MODULE(MP_QSTR_simplefunction, simplefunction_user_cmodule, MODULE_SIMPLEFUNCTION_ENABLED);\n",
    "\n",
    "```"
   ]
  },
  {
   "cell_type": "markdown",
   "metadata": {},
   "source": [
    "You should be able to compile the module above by calling \n",
    "\n",
    "```bash\n",
    "make USER_C_MODULES=../../../usermod/ all\n",
    "```"
   ]
  },
  {
   "cell_type": "markdown",
   "metadata": {},
   "source": [
    "## Header files\n",
    "\n",
    "A module will not be too useful without at least two includes: `py/obj.h`, where all the relevant constants and macros are defined, and `py/runtime.h`, which contains the declaration of the interpreter. "
   ]
  },
  {
   "cell_type": "markdown",
   "metadata": {},
   "source": [
    "## Defining user functions\n",
    "\n",
    "After including the necessary headers, we define the function that is going to do the heavy lifting. By passing variables of `mp_obj_t` type, we make sure that the function will be able to accept values from the python console. If you happen to have an internal helper function in your module that is not exposed in python, you can pass whatever type you need. Similarly, by returning an object of `mp_obj_t` type, we make the results visible to the interpreter, i.e., we can assign the value returned to variables. \n",
    "\n",
    "The downside of passing `mp_obj_t`s around is that you cannot simply assign them to usual C variables, i.e., when you want to operate on them, you have to extract the values first. This is why we have to invoke the `mp_obj_get_int()` function, and conversely, before returning the results, we have to do a type conversion to `mp_obj_t` by calling `mp_obj_new_int()`. These are the decoding/encoding steps that we discussed above."
   ]
  },
  {
   "cell_type": "markdown",
   "metadata": {},
   "source": [
    "### Referring to user functions\n",
    "\n",
    "We have now a function that should be sort of OK, but the python interpreter still cannot work with. For that, we have to turn our function into a function object. This is what happens in the line\n",
    "\n",
    "```c\n",
    "STATIC MP_DEFINE_CONST_FUN_OBJ_2(simplefunction_add_ints_obj, simplefunction_add_ints);\n",
    "```\n",
    "\n",
    "The first argument is the name of the function object to which our actual function, the last argument, will be bound. Now, these `MP_DEFINE_CONST_FUN_OBJ_*` macros, defined in the header file `py/obj.h` (one more reason not to forget about `py/obj.h`), come in seven flavours, depending on what kind of, and how many arguments the function is supposed to take. In the example above, our function is meant to take two arguments, hence the 2 at the end of the macro name. Functions with 0 to 4 arguments can be bound in this way.\n",
    "\n",
    "But what, if you want a function with more than four arguments, as is the case many a time in python? Under such circumstances, one can make use of the \n",
    "\n",
    "```c\n",
    "MP_DEFINE_CONST_FUN_OBJ_VAR(obj_name, n_args_min, fun_name)\n",
    "```\n",
    "\n",
    "macro, where the second argument, an integer, gives the minimum number of arguments. The number of arguments can be bound from above by wrapping the function with \n",
    "\n",
    "```c\n",
    "MP_DEFINE_CONST_FUN_OBJ_VAR_BETWEEN(obj_name, n_args_min, n_args_max, fun_name) \n",
    "```\n",
    "\n",
    "Later we will see, how we can define functions that can also take keyword arguments."
   ]
  },
  {
   "cell_type": "markdown",
   "metadata": {},
   "source": [
    "At this point, we are more or less done with the C implementation of our function, but we still have to expose it. This we do by adding a table, an array of key/value pairs to the globals of our module, and bind the table to the `_module_globals` variable by applying the `MP_DEFINE_CONST_DICT` macro. This table should have at least one entry, the name of the module, which is going to be stored in the string `MP_QSTR___name__`. \n",
    "\n",
    "The other keys of the table are the pointers to the functions that we implemented, and the names that we want to call these functions in python itself. So, in the example below, our `simplefunction_add_ints` function will be invoked, when we call `add_ints` in the console.\n",
    "\n",
    "\n",
    "```c\n",
    "STATIC const mp_rom_map_elem_t simplefunction_module_globals_table[] = {\n",
    "    { MP_ROM_QSTR(MP_QSTR___name__), MP_ROM_QSTR(MP_QSTR_simplefunction) },\n",
    "    { MP_ROM_QSTR(MP_QSTR_add_ints), MP_ROM_PTR(&simplefunction_add_ints_obj) },\n",
    "};\n",
    "STATIC MP_DEFINE_CONST_DICT(simplefunction_module_globals, simplefunction_module_globals_table);\n",
    "```\n",
    "This three-step pattern is common to all function implementations, so I repeat it here: \n",
    "\n",
    "1. implement the function\n",
    "2. then turn it into a function object\n",
    "3. and finally, register the function in the name space of the module\n",
    "\n",
    "It doesn't matter, whether our function takes positional arguments, or keyword argument, or both, these are the required steps."
   ]
  },
  {
   "cell_type": "markdown",
   "metadata": {},
   "source": [
    "Having defined the function object, we have finally to register the function with \n",
    "\n",
    "```c\n",
    "MP_REGISTER_MODULE(MP_QSTR_simplefunction, simplefunction_user_cmodule, MODULE_SIMPLEFUNCTION_ENABLED);\n",
    "```\n",
    "\n",
    "This last line is particularly useful, because by setting the `MODULE_SIMPLEFUNCTION_ENABLED` variable in `mpconfigport.h`, you can selectively exclude modules from the compilation, i.e., if in `mpconfigport.h`, which should be in the root directory of the port you want to compile for, \n",
    "\n",
    "```c\n",
    "#define MODULE_SIMPLEFUNCTION_ENABLED (1)\n",
    "```\n",
    "then `simplefunction` will be included in the firmware, while with\n",
    "\n",
    "```c\n",
    "#define MODULE_SIMPLEFUNCTION_ENABLED (0)\n",
    "```\n",
    "\n",
    "the module will be dropped, even though the source is in your modules folder."
   ]
  },
  {
   "cell_type": "markdown",
   "metadata": {},
   "source": [
    "## Function names\n",
    "\n",
    "Whenever you want your function to be visible from the interpreter, you have to add the function object to a dictionary. The dictionary \n",
    "\n",
    "```c\n",
    "STATIC const mp_rom_map_elem_t test_locals_dict_table[] = {\n",
    "\t{ MP_ROM_QSTR(MP_QSTR_somefunction), MP_ROM_PTR(&test_somefunction_obj) },\n",
    "};\n",
    "\n",
    "\n",
    "STATIC MP_DEFINE_CONST_DICT(test_locals_dict, test_locals_dict_table);\n",
    "```"
   ]
  },
  {
   "cell_type": "markdown",
   "metadata": {},
   "source": [
    "## Parsing arguments"
   ]
  },
  {
   "cell_type": "markdown",
   "metadata": {},
   "source": [
    "## Parsing keyword arguments\n",
    "\n",
    "One of the most useful features of python is that functions can accept positional as well as keyword arguments, thereby providing a very flexible interface for feeding values to a function. In this section, we will see how we should set up our function, so that it can interpret what we passed in. \n",
    "\n",
    "It does not matter, whether we have positional or keyword arguments, at one point, the interpreter has to turn all arguments into a deterministic sequence of objects. We stipulate this sequence in the constant variable called `allowed_args[]`. This is an array of type `mp_arg_t`, which is nothing but a structure with two `uint16` values, and a union named `mp_arg_val_t`. This union holds the default value and the type of the variable that we want to pass. The `mp_arg_t` structure, defined in `runtime.h`, looks like this:\n",
    "\n",
    "```c\n",
    "typedef struct _mp_arg_t {\n",
    "    uint16_t qst;\n",
    "    uint16_t flags;\n",
    "    mp_arg_val_t defval;\n",
    "} mp_arg_t;\n",
    "```\n",
    "\n",
    "The last member, `mp_arg_val_t` is \n",
    "\n",
    "```c\n",
    "typedef union _mp_arg_val_t {\n",
    "    bool u_bool;\n",
    "    mp_int_t u_int;\n",
    "    mp_obj_t u_obj;\n",
    "    mp_rom_obj_t u_rom_obj;\n",
    "} mp_arg_val_t;\n",
    "```"
   ]
  },
  {
   "cell_type": "markdown",
   "metadata": {},
   "source": [
    "### Keyword arguments with numerical values\n",
    "\n",
    "In our first example `keywordfunction.c`, we define a summing function with two arguments. \n",
    "\n",
    "```c\n",
    "#include \"py/obj.h\"\n",
    "#include \"py/runtime.h\"\n",
    "#include \"py/builtin.h\"\n",
    "\n",
    "STATIC mp_obj_t keywordfunction_add_ints(size_t n_args, const mp_obj_t *pos_args, mp_map_t *kw_args) {\n",
    "\n",
    "\tstatic const mp_arg_t allowed_args[] = {\n",
    "\t\t{ MP_QSTR_a, MP_ARG_INT | MP_ARG_REQUIRED, {.u_int = 0} }, \n",
    "        { MP_QSTR_b, MP_ARG_KW_ONLY | MP_ARG_INT | MP_ARG_REQUIRED, {.u_int = 0} },\n",
    "    };\n",
    "\n",
    "    mp_arg_val_t args[MP_ARRAY_SIZE(allowed_args)];\n",
    "    mp_arg_parse_all(n_args, pos_args, kw_args, MP_ARRAY_SIZE(allowed_args), allowed_args, args);\n",
    "\tint16_t a = args[0].u_int;\n",
    "\tint16_t b = args[1].u_int;\n",
    "\tprintf(\"a = %d, b = %d\\n\", a, b);\n",
    "\treturn mp_obj_new_int(a + b);\n",
    "}\n",
    "\n",
    "STATIC MP_DEFINE_CONST_FUN_OBJ_KW(keywordfunction_add_ints_obj, 2, keywordfunction_add_ints);\n",
    "\n",
    "STATIC const mp_rom_map_elem_t keywordfunction_module_globals_table[] = {\n",
    "    { MP_ROM_QSTR(MP_QSTR___name__), MP_ROM_QSTR(MP_QSTR_keywordfunction) },\n",
    "    { MP_ROM_QSTR(MP_QSTR_add_ints), (mp_obj_t)&keywordfunction_add_ints_obj },\n",
    "};\n",
    "\n",
    "STATIC MP_DEFINE_CONST_DICT(keywordfunction_module_globals, keywordfunction_module_globals_table);\n",
    "\n",
    "const mp_obj_module_t keywordfunction_user_cmodule = {\n",
    "    .base = { &mp_type_module },\n",
    "    .globals = (mp_obj_dict_t*)&keywordfunction_module_globals,\n",
    "};\n",
    "\n",
    "MP_REGISTER_MODULE(MP_QSTR_keywordfunction, keywordfunction_user_cmodule, MODULE_KEYWORDFUNCTION_ENABLED);\n",
    "```\n",
    "\n",
    "One convenience of a function with keyword arguments is that we do not have to care about the arguments in the C implementation: the argument list is always the same, and it is passed in by the interpreter: the number of arguments of the python function, an array with the positional arguments, and a map for the keyword arguments. \n",
    "\n",
    "After parsing the arguments with `mp_arg_parse_all`, whatever was at the zeroth position of `allowed_args[]` will be called `args[0]`, the object at the first position of `allowed_args[]` will be turned into `args[1]`, and so on. \n",
    "\n",
    "This is, where we also define, what the name of the keyword argument is going to be: whatever comes after `MP_QSTR_`. But hey, presto! The name should be an integer with 16 bits, shouldn't it? After all, this is the first member of `mp_arg_t`. So what is going on here? Well, for the efficient use of RAM, all MP_QSTRs are turned into `unint16_t` internally. This applies not only to the names in functions with keyword arguments, but also for module and function names, in the `_module_globals_table[]`.\n",
    "\n",
    "The second member of the `mp_arg_t` structure is the flags that determine, e.g., whether the argument is required, if it is of integer or `mp_obj_t` type, and whether it is positional or a keyword argument. These flags can be combined by ORing them, as we done in the example above. \n",
    "\n",
    "The last member in `mp_arg_t` is the default value. Since this is a member variable, when we make use of it, we have to extract the value by adding `.u_int` to the argument. \n",
    "\n",
    "When turning our function into a function object, we have to call a special macro, `MP_DEFINE_CONST_FUN_OBJ_KW`, defined in `obj.h`, which is somewhat similar to `MP_DEFINE_CONST_FUN_OBJ_VAR`: in addition to the function object and the function, one also has to specify the minimum number of arguments in the python function.\n",
    "\n",
    "Other examples on passing keyword arguments can be found in some of the hardware implementation files, e.g., `ports/stm32/pyb_i2c.c`, or `ports/stm32/pyb_spi.c`."
   ]
  },
  {
   "cell_type": "markdown",
   "metadata": {},
   "source": [
    "### Keyword arguments with arbitrary values\n",
    "\n",
    "We have seen how integer values can be extracted from keyword arguments, but unfortunately, that method is going to get you only that far. What if we want to pass something more complicated, in particular a string, or a list, or some other non-trivial python type? This is what we are going to look at now. "
   ]
  },
  {
   "cell_type": "markdown",
   "metadata": {},
   "source": [
    "# Working with classes\n",
    "\n",
    "Of course, python would not be python without classes. A module can also include the implementation of classes. The procedure is similar to what we have already seen in the context of standard functions, except that we have to define a structure that holds at least a string with the name of the class, a pointer to the initialisation and printout functions, and a local dictionary. A typical structure would look like\n",
    "\n",
    "```c\n",
    "STATIC const mp_rom_map_elem_t test_locals_dict_table[] = {\n",
    "\t{ MP_ROM_QSTR(MP_QSTR_method1), MP_ROM_PTR(&test_method1_obj) },\n",
    "\t{ MP_ROM_QSTR(MP_QSTR_method2), MP_ROM_PTR(&test_method2_obj) },\n",
    "    ...                                                           \n",
    "}\n",
    "\n",
    "const mp_obj_type_t simpleclass_type = {\n",
    "\t{ &mp_type_type },\n",
    "\t.name = MP_QSTR_simpleclass,\n",
    "\t.print = simpleclass_print,\n",
    "\t.make_new = simpleclass_make_new,\n",
    "\t.locals_dict = (mp_obj_dict_t*)&simpleclass_locals_dict,\n",
    "};\n",
    "```\n",
    "\n",
    "The locals dictionary, `.locals_dict`, contains all user-facing methods and constants of the class, while the `myclass_type` structure's `name` member is what our class is going to be called. `.print` is roughly the equivalent of `__str__`, `.make_new` is the C name for `__init__`. "
   ]
  },
  {
   "cell_type": "markdown",
   "metadata": {},
   "source": [
    "In order to see how this all works, we are going to implement a very simple class, which holds two integer variables, and has a method that returns the sum of these two variables. In python, a possible realisation could look like this:"
   ]
  },
  {
   "cell_type": "code",
   "execution_count": 10,
   "metadata": {
    "ExecuteTime": {
     "end_time": "2019-07-08T17:41:50.611648Z",
     "start_time": "2019-07-08T17:41:50.594402Z"
    }
   },
   "outputs": [
    {
     "data": {
      "text/plain": [
       "3"
      ]
     },
     "execution_count": 10,
     "metadata": {},
     "output_type": "execute_result"
    }
   ],
   "source": [
    "class myclass:\n",
    "    \n",
    "    def __init__(self, a, b):\n",
    "        self.a = a\n",
    "        self.b = b\n",
    "        \n",
    "    def mysum(self):\n",
    "        return self.a + self.b\n",
    "    \n",
    "    \n",
    "A = myclass(1, 2)\n",
    "A.mysum()"
   ]
  },
  {
   "cell_type": "markdown",
   "metadata": {},
   "source": [
    "In addition to the class implementation above and to show how class methods and regular functions can live in the same module, we will also have a function, which is not bound to the class itself, and which adds the two components in the class, i.e., that is similar to "
   ]
  },
  {
   "cell_type": "code",
   "execution_count": 11,
   "metadata": {
    "ExecuteTime": {
     "end_time": "2019-07-08T17:45:01.645421Z",
     "start_time": "2019-07-08T17:45:01.634882Z"
    }
   },
   "outputs": [
    {
     "data": {
      "text/plain": [
       "3"
      ]
     },
     "execution_count": 11,
     "metadata": {},
     "output_type": "execute_result"
    }
   ],
   "source": [
    "def add(class_instance):\n",
    "    return class_instance.a + class_instance.b\n",
    "\n",
    "add(A)"
   ]
  },
  {
   "cell_type": "markdown",
   "metadata": {},
   "source": [
    "(Note that retrieving values from the class in this way is not exactly elegant. We would usually implement a getter method for that.)"
   ]
  },
  {
   "cell_type": "markdown",
   "metadata": {},
   "source": [
    "```c\n",
    "#include \"py/runtime.h\"\n",
    "#include \"py/obj.h\"\n",
    "\n",
    "typedef struct _simpleclass_myclass_obj_t {\n",
    "\tmp_obj_base_t base;\n",
    "\tint16_t a;\n",
    "\tint16_t b;\n",
    "} simpleclass_myclass_obj_t;\n",
    "\n",
    "const mp_obj_type_t simpleclass_myclass_type;\n",
    "\n",
    "STATIC void myclass_print(const mp_print_t *print, mp_obj_t self_in, mp_print_kind_t kind) {\n",
    "\t(void)kind;\n",
    "\tsimpleclass_myclass_obj_t *self = MP_OBJ_TO_PTR(self_in);\n",
    "\tmp_print_str(print, \"myclass(\");\n",
    "\tprintf(\"%d, \", self->a);\n",
    "\tprintf(\"%d)\", self->b);\n",
    "}\n",
    "\n",
    "STATIC mp_obj_t myclass_make_new(const mp_obj_type_t *type, size_t n_args, size_t n_kw, const mp_obj_t *args) {\n",
    "\tmp_arg_check_num(n_args, n_kw, 2, 2, true);\n",
    "\tsimpleclass_myclass_obj_t *self = m_new_obj(simpleclass_myclass_obj_t);\n",
    "\tself->base.type = &simpleclass_myclass_type;\n",
    "\tself->a = mp_obj_get_int(args[0]);\n",
    "\tself->b = mp_obj_get_int(args[1]);\n",
    "\treturn MP_OBJ_FROM_PTR(self);\n",
    "}\n",
    "\n",
    "// Class methods\n",
    "STATIC mp_obj_t myclass_sum(mp_obj_t self_in) {\n",
    "\tsimpleclass_myclass_obj_t *self = MP_OBJ_TO_PTR(self_in);\n",
    "\treturn mp_obj_new_int(self->a + self->b);\n",
    "}\n",
    "\n",
    "MP_DEFINE_CONST_FUN_OBJ_1(myclass_sum_obj, myclass_sum);\n",
    "\n",
    "STATIC const mp_rom_map_elem_t myclass_locals_dict_table[] = {\n",
    "\t{ MP_ROM_QSTR(MP_QSTR_mysum), MP_ROM_PTR(&myclass_sum_obj) },\n",
    "};\n",
    "\n",
    "STATIC MP_DEFINE_CONST_DICT(myclass_locals_dict, myclass_locals_dict_table);\n",
    "\n",
    "const mp_obj_type_t simpleclass_myclass_type = {\n",
    "\t{ &mp_type_type },\n",
    "\t.name = MP_QSTR_simpleclass,\n",
    "\t.print = myclass_print,\n",
    "\t.make_new = myclass_make_new,\n",
    "\t.locals_dict = (mp_obj_dict_t*)&myclass_locals_dict,\n",
    "};\n",
    "\n",
    "// Module functions\n",
    "STATIC mp_obj_t simpleclass_add(const mp_obj_t o_in) {\n",
    "\tsimpleclass_myclass_obj_t *class_instance = MP_OBJ_TO_PTR(o_in);\n",
    "\treturn mp_obj_new_int(class_instance->a + class_instance->b);\n",
    "}\n",
    "\n",
    "MP_DEFINE_CONST_FUN_OBJ_1(simpleclass_add_obj, simpleclass_add);\n",
    "\n",
    "STATIC const mp_map_elem_t simpleclass_globals_table[] = {\n",
    "\t{ MP_OBJ_NEW_QSTR(MP_QSTR___name__), MP_OBJ_NEW_QSTR(MP_QSTR_simpleclass) },\n",
    "\t{ MP_OBJ_NEW_QSTR(MP_QSTR_myclass), (mp_obj_t)&simpleclass_myclass_type },\t\n",
    "\t{ MP_OBJ_NEW_QSTR(MP_QSTR_add), (mp_obj_t)&simpleclass_add_obj },\n",
    "};\n",
    "\n",
    "STATIC MP_DEFINE_CONST_DICT (\n",
    "\tmp_module_simpleclass_globals,\n",
    "\tsimpleclass_globals_table\n",
    ");\n",
    "\n",
    "const mp_obj_module_t simpleclass_user_cmodule = {\n",
    "\t.base = { &mp_type_module },\n",
    "\t.globals = (mp_obj_dict_t*)&mp_module_simpleclass_globals,\n",
    "};\n",
    "\n",
    "MP_REGISTER_MODULE(MP_QSTR_simpleclass, simpleclass_user_cmodule, MODULE_SIMPLECLASS_ENABLED);\n",
    "```"
   ]
  },
  {
   "cell_type": "markdown",
   "metadata": {},
   "source": [
    "In `my_print`, we used the C function `printf`, but better options are also available. `mpprint.c` has a number of methods for printing all kinds of python objects. "
   ]
  },
  {
   "cell_type": "markdown",
   "metadata": {},
   "source": [
    "## Class special methods\n",
    "\n",
    "Python has a number of special methods, which will make a class behave as a native object. So, e.g., if a class implements the `__add__(self, other)` method, then instances of that class can be added with the `+` operator. Here is an example in python:"
   ]
  },
  {
   "cell_type": "code",
   "execution_count": 4,
   "metadata": {
    "ExecuteTime": {
     "end_time": "2019-07-01T05:09:35.616129Z",
     "start_time": "2019-07-01T05:09:35.602178Z"
    }
   },
   "outputs": [
    {
     "data": {
      "text/plain": [
       "3"
      ]
     },
     "execution_count": 4,
     "metadata": {},
     "output_type": "execute_result"
    }
   ],
   "source": [
    "class Adder:\n",
    "    \n",
    "    def __init__(self, value):\n",
    "        self.value = value\n",
    "        \n",
    "    def __add__(self, other):\n",
    "        self.value = self.value + other.value\n",
    "        return self\n",
    "\n",
    "a = Adder(1)\n",
    "b = Adder(2)\n",
    "\n",
    "c = a + b\n",
    "c.value"
   ]
  },
  {
   "cell_type": "markdown",
   "metadata": {},
   "source": [
    "Note that, while the above example is not particularly useful, it proves the point: upon calling the `+` operator, the values of `a`, and `b` are added. If we had left out the implementation of the `__add__` method, the python interpreter would not have a clue as to what to do with the objects. You can see for yourself, how sloppiness makes itself manifest:"
   ]
  },
  {
   "cell_type": "code",
   "execution_count": 5,
   "metadata": {
    "ExecuteTime": {
     "end_time": "2019-07-01T05:13:52.179383Z",
     "start_time": "2019-07-01T05:13:50.426879Z"
    }
   },
   "outputs": [
    {
     "ename": "TypeError",
     "evalue": "unsupported operand type(s) for +: 'Adder' and 'Adder'",
     "output_type": "error",
     "traceback": [
      "\u001b[0;31m---------------------------------------------------------------------------\u001b[0m",
      "\u001b[0;31mTypeError\u001b[0m                                 Traceback (most recent call last)",
      "\u001b[0;32m<ipython-input-5-635006a6f7bc>\u001b[0m in \u001b[0;36m<module>\u001b[0;34m()\u001b[0m\n\u001b[1;32m      7\u001b[0m \u001b[0mb\u001b[0m \u001b[0;34m=\u001b[0m \u001b[0mAdder\u001b[0m\u001b[0;34m(\u001b[0m\u001b[0;36m2\u001b[0m\u001b[0;34m)\u001b[0m\u001b[0;34m\u001b[0m\u001b[0;34m\u001b[0m\u001b[0m\n\u001b[1;32m      8\u001b[0m \u001b[0;34m\u001b[0m\u001b[0m\n\u001b[0;32m----> 9\u001b[0;31m \u001b[0mc\u001b[0m \u001b[0;34m=\u001b[0m \u001b[0ma\u001b[0m \u001b[0;34m+\u001b[0m \u001b[0mb\u001b[0m\u001b[0;34m\u001b[0m\u001b[0;34m\u001b[0m\u001b[0m\n\u001b[0m\u001b[1;32m     10\u001b[0m \u001b[0mc\u001b[0m\u001b[0;34m.\u001b[0m\u001b[0mvalue\u001b[0m\u001b[0;34m\u001b[0m\u001b[0;34m\u001b[0m\u001b[0m\n",
      "\u001b[0;31mTypeError\u001b[0m: unsupported operand type(s) for +: 'Adder' and 'Adder'"
     ]
    }
   ],
   "source": [
    "class Adder:\n",
    "    \n",
    "    def __init__(self, value):\n",
    "        self.value = value\n",
    "\n",
    "a = Adder(1)\n",
    "b = Adder(2)\n",
    "\n",
    "c = a + b\n",
    "c.value"
   ]
  },
  {
   "cell_type": "markdown",
   "metadata": {},
   "source": [
    "Indeed, we do not support the `+` operator.\n",
    "\n",
    "Now, the problem is that in the C implementation, these special methods have to be treated in a special way. The naive approach would be to add the pointer to the function to the locals dictionary as \n",
    "\n",
    "```c\n",
    "STATIC const mp_rom_map_elem_t test_locals_dict_table[] = {\n",
    "\t{ MP_ROM_QSTR(MP_QSTR___add__), MP_ROM_PTR(&test_add_obj) },\n",
    "};\n",
    "```\n",
    "but that would not work. Well, this is not entirely true: the `+` operator would not work, but one could still call the method explicitly as\n",
    "\n",
    "```python\n",
    "a = Adder(1)\n",
    "b = Adder(2)\n",
    "\n",
    "a.__add__(b)\n",
    "\n",
    "```"
   ]
  },
  {
   "cell_type": "markdown",
   "metadata": {},
   "source": [
    "Before we actually add the `+` operator to our class, we should note that there are two kinds of special methods, namely the unary and the binary operators. \n",
    "\n",
    "In the first group are those, whose sole argument is the class instance itself. Two frequently used cases are the length operator, `len`, and `bool`. So, e.g., if your class implements the `__len__(self)` method, and the method returns an integer, then you can call the `len` function in the console\n",
    "\n",
    "```python\n",
    "len(myclass)\n",
    "```\n",
    "\n",
    "In the second category of operators are those, which require a left, as well as a right hand side: the left hand side is the class instance itself, while the right hand side can, in principle, be another instance of the same class, or some other type. An example for this was the `__add__` method in our `Adder` class. To prove that the right hand side needn't be of the same type, think of the *multiplication* of lists: \n",
    "\n",
    "```python\n",
    "[1, 2, 3]*5\n",
    "```\n",
    "\n",
    "is perfectly valid, and has a well-defined meaning. The complete list of unary, as well as binary operators can be found in `runtime.h`. "
   ]
  },
  {
   "cell_type": "markdown",
   "metadata": {},
   "source": [
    "The module below implements five special methods altogether. Two unary, namely, `bool`, and `len`, and three binary operators, `==`, `+`, and `*`. Since the addition and multiplication will return a new instance of `myclass`, we define a new function, `create_new_class`, that, well, creates a new instance of `myclass`, and initialises the members with the two input arguments. This function will also be called in the class initialisation function, `myclass_make_new`, immediately after the argument checking. \n",
    "\n",
    "When implementing the operators, we have to keep a couple of things in mind. First, the `specialclass_myclass_type` has to be extended with the two methods, `.unary_op`, and `.binary_op`, where `.unary_op` is equal to the function that handles the unary operation (`specialclass_unary_op` in the example below), and `.binary_op` is equal to the function that deals with binary operations (`specialclass_binary_op` below). These two functions have the signatures \n",
    "\n",
    "```c\n",
    "STATIC mp_obj_t specialclass_unary_op(mp_unary_op_t op, mp_obj_t self_in)\n",
    "```\n",
    "and\n",
    "\n",
    "```c\n",
    "STATIC mp_obj_t specialclass_binary_op(mp_binary_op_t op, mp_obj_t lhs, mp_obj_t rhs)\n",
    "```\n",
    "respectively, and we have to inspect the value of `op` in the implementation. This is done in the two `switch` statements. \n",
    "\n",
    "One more comment: if `.unary_op`, or `.binary_op` are defined for the class, then the handler function must have an implementation of all operators. This doesn't necessarily mean that you have to have all cases in the `switch`, but if you haven't, then there must be a default case with a reasonable return value, e.g., `MP_OBJ_NULL`, or `mp_const_none`, so as to indicate that that particular method is not available. "
   ]
  },
  {
   "cell_type": "markdown",
   "metadata": {},
   "source": [
    "```c\n",
    "#include \"py/runtime.h\"\n",
    "#include \"py/obj.h\"\n",
    "#include \"py/binary.h\"\n",
    "\n",
    "typedef struct _specialclass_myclass_obj_t {\n",
    "\tmp_obj_base_t base;\n",
    "\tint16_t a;\n",
    "\tint16_t b;\n",
    "} specialclass_myclass_obj_t;\n",
    "\n",
    "const mp_obj_type_t specialclass_myclass_type;\n",
    "\n",
    "STATIC void myclass_print(const mp_print_t *print, mp_obj_t self_in, mp_print_kind_t kind) {\n",
    "\t(void)kind;\n",
    "\tspecialclass_myclass_obj_t *self = MP_OBJ_TO_PTR(self_in);\n",
    "\tmp_print_str(print, \"myclass(\");\n",
    "\tprintf(\"%d, \", self->a);\n",
    "\tprintf(\"%d)\", self->b);\n",
    "}\n",
    "\n",
    "mp_obj_t create_new_myclass(uint16_t a, uint16_t b) {\n",
    "\tspecialclass_myclass_obj_t *out = m_new_obj(specialclass_myclass_obj_t);\n",
    "\tout->base.type = &specialclass_myclass_type;\n",
    "\tout->a = a;\n",
    "\tout->b = b;\n",
    "\treturn MP_OBJ_FROM_PTR(out);\n",
    "}\n",
    "\n",
    "STATIC mp_obj_t myclass_make_new(const mp_obj_type_t *type, size_t n_args, size_t n_kw, const mp_obj_t *args) {\n",
    "\tmp_arg_check_num(n_args, n_kw, 2, 2, true);\n",
    "\treturn create_new_myclass(mp_obj_get_int(args[0]), mp_obj_get_int(args[1]));\n",
    "}\n",
    "\n",
    "STATIC const mp_rom_map_elem_t myclass_locals_dict_table[] = {\n",
    "};\n",
    "\n",
    "STATIC MP_DEFINE_CONST_DICT(myclass_locals_dict, myclass_locals_dict_table);\n",
    "\n",
    "STATIC mp_obj_t specialclass_unary_op(mp_unary_op_t op, mp_obj_t self_in) {\n",
    "\tspecialclass_myclass_obj_t *self = MP_OBJ_TO_PTR(self_in);\n",
    "    switch (op) {\n",
    "        case MP_UNARY_OP_BOOL: return mp_obj_new_bool((self->a > 0) && (self->b > 0));\n",
    "        case MP_UNARY_OP_LEN: return mp_obj_new_int(2);\n",
    "        default: return MP_OBJ_NULL; // op not supported\n",
    "    }\n",
    "}\n",
    "\n",
    "STATIC mp_obj_t specialclass_binary_op(mp_binary_op_t op, mp_obj_t lhs, mp_obj_t rhs) {\n",
    "    specialclass_myclass_obj_t *left_hand_side = MP_OBJ_TO_PTR(lhs);\n",
    "\tspecialclass_myclass_obj_t *right_hand_side = MP_OBJ_TO_PTR(rhs);\n",
    "\tswitch (op) {\n",
    "\t\tcase MP_BINARY_OP_EQUAL:\n",
    "\t\t\treturn mp_obj_new_bool((left_hand_side->a == right_hand_side->a) && (left_hand_side->b == right_hand_side->b));\n",
    "\t\tcase MP_BINARY_OP_ADD:\n",
    "\t\t\treturn create_new_myclass(left_hand_side->a + right_hand_side->a, left_hand_side->b + right_hand_side->b);\n",
    "\t\tcase MP_BINARY_OP_MULTIPLY:\n",
    "\t\t\treturn create_new_myclass(left_hand_side->a * right_hand_side->a, left_hand_side->b * right_hand_side->b);\n",
    "\t\tdefault:\n",
    "\t\t\treturn MP_OBJ_NULL; // op not supported\n",
    "\t}\n",
    "}\n",
    "\n",
    "const mp_obj_type_t specialclass_myclass_type = {\n",
    "\t{ &mp_type_type },\n",
    "\t.name = MP_QSTR_specialclass,\n",
    "\t.print = myclass_print,\n",
    "\t.make_new = myclass_make_new,\n",
    "\t.unary_op = specialclass_unary_op, \n",
    "\t.binary_op = specialclass_binary_op,\n",
    "\t.locals_dict = (mp_obj_dict_t*)&myclass_locals_dict,\n",
    "};\n",
    "\n",
    "STATIC const mp_map_elem_t specialclass_globals_table[] = {\n",
    "\t{ MP_OBJ_NEW_QSTR(MP_QSTR___name__), MP_OBJ_NEW_QSTR(MP_QSTR_specialclass) },\n",
    "\t{ MP_OBJ_NEW_QSTR(MP_QSTR_myclass), (mp_obj_t)&specialclass_myclass_type },\t\n",
    "};\n",
    "\n",
    "STATIC MP_DEFINE_CONST_DICT (\n",
    "\tmp_module_specialclass_globals,\n",
    "\tspecialclass_globals_table\n",
    ");\n",
    "\n",
    "const mp_obj_module_t specialclass_user_cmodule = {\t\n",
    "\t.base = { &mp_type_module },\n",
    "\t.globals = (mp_obj_dict_t*)&mp_module_specialclass_globals,\n",
    "};\n",
    "\n",
    "MP_REGISTER_MODULE(MP_QSTR_specialclass, specialclass_user_cmodule, MODULE_SPECIALCLASS_ENABLED);\n",
    "\n",
    "```"
   ]
  },
  {
   "cell_type": "markdown",
   "metadata": {},
   "source": [
    "## Defining constants\n",
    "\n",
    "Constants can be added to the locals dictionary as any other object. So, e.g., if we wanted to define the constant MAGIC, we could do that as follows\n",
    "\n",
    "```c\n",
    "\n",
    "#define MAGIC 42\n",
    "\n",
    "STATIC const mp_rom_map_elem_t test_locals_dict_table[] = {\n",
    "\t{ MP_ROM_QSTR(MP_QSTR_MAGIC), MP_ROM_INT(MAGIC) },\n",
    "};\n",
    "```\n",
    "The constant would then be accessible in the interpreter as\n",
    "\n",
    "```python\n",
    "\n",
    "import test\n",
    "\n",
    "test.MAGIC\n",
    "```"
   ]
  },
  {
   "cell_type": "markdown",
   "metadata": {},
   "source": [
    "## The complete code\n",
    "\n",
    "Having seen how components of a class should be implemented, we can bring all parts together. We will define a class that has two methods, one with positional arguments, and one with keyword arguments, has a class-specific constant, and can deal with the `+` and `*` operators. You should be able to drop this code into your user-defined modules directory, and compile it without difficulties.\n",
    "\n",
    "```c\n",
    "\n",
    "```"
   ]
  },
  {
   "cell_type": "markdown",
   "metadata": {},
   "source": [
    "# Dealing with iterables\n",
    "\n",
    "\n",
    "In python, an iterable is basically an object that you can have in a `for` loop:\n",
    "\n",
    "```python\n",
    "for item in my_iterable:\n",
    "    print(item)\n",
    "```\n",
    "\n",
    "Amongs others, lists, tuples, and ranges are iterables, as are strings. The key is that these object have a special internal method, and iterator, attached to them. This iterator is responsible for keeping track of the index during the iteration, and serving the objects in the iterable one by one to the `for` loop. When writing our own iterable, we will look under the hood, and see how this all works at the C level. For now, we are going to discuss only, how we can *consume* the content of an iterable in the C code. \n",
    "\n",
    "## Iterating over built-in types\n",
    "\n",
    "In order to demonstrate the use of an iterator, we are going to write a function that sums the square of the values in an iterable. In python, the function could look like \n",
    "\n",
    "```python\n",
    "def sumsq(iterable):\n",
    "    return sum([item**2 for item in iterable])\n",
    "```\n",
    "In C, the key is in the snippet\n",
    "\n",
    "```c\n",
    "mp_obj_iter_buf_t iter_buf;\n",
    "mp_obj_t item, iterable = mp_getiter(o_in, &iter_buf);\n",
    "while ((item = mp_iternext(iterable)) != MP_OBJ_STOP_ITERATION) {\n",
    "    // do something with the item just retrieved\n",
    "}\n",
    "```\n",
    "`o_in` is the argument of our function. We have to turn this object into an iterable by passing it into the `mp_getiter` function. This function also needs a buffer object that is of type `mp_obj_iter_buf_t`. The `mp_getiter` \n",
    "\n",
    "\n",
    "The buffer type is defined in `obj.h` as \n",
    "\n",
    "```c\n",
    "typedef struct _mp_obj_iter_buf_t {\n",
    "    mp_obj_base_t base;\n",
    "    mp_obj_t buf[3];\n",
    "} mp_obj_iter_buf_t;\n",
    "\n",
    "```\n",
    "\n",
    "\n",
    "\n",
    "If you want to find out, whether a particular variable is an iterable, you can \n",
    "\n",
    "\n",
    "`objlist.c`, `objtuple.c`, `objarray.c`, `objrange.c` etc."
   ]
  },
  {
   "cell_type": "code",
   "execution_count": null,
   "metadata": {},
   "outputs": [],
   "source": []
  },
  {
   "cell_type": "markdown",
   "metadata": {},
   "source": [
    "# Creating new types\n",
    "\n",
    "Sometimes it might be necessary to define your own data type. It is really nothing but a C structure with a couple of special fields. Take the following type definition, which could be regarded as the three Cartesian components of a vector in three-dimensional space: \n",
    "\n",
    "```c\n",
    "typedef struct _vector_obj_t {\n",
    "\tmp_obj_base_t base;\n",
    "\tfloat x, y, z;\n",
    "} vector_obj_t;\n",
    "```\n",
    "\n",
    "Now, in order to see, how we can work with this structure, we are going to write a class that simply stores the three values, and has a method called `length`, returning the length of the vector. "
   ]
  },
  {
   "cell_type": "markdown",
   "metadata": {},
   "source": [
    "# Profiling\n",
    "\n",
    "There are times, when you might want to find out how long a particular operation takes. If you are interested in the execution time of a complete function, you can measure it simply by making use of the python interpreter\n",
    "\n",
    "```python\n",
    "\n",
    "from utime import ticks_us, diff_ticks\n",
    "\n",
    "now = ticks_us\n",
    "run_my_function()\n",
    "then = diff_ticks(ticks_us(), now)\n",
    "\n",
    "print(\"function run_my_function() took %d us to run\"%then)\n",
    "\n",
    "```\n",
    "\n",
    "In fact, since our function is flanked by two other statements, this construct easily lends itself to a decorator implementation. \n",
    "\n",
    "(If you need an even better estimate, you can yank run_my_function(): in this way, you would get the costs of measuring time itself:\n",
    "\n",
    "```python\n",
    "\n",
    "from utime import ticks_us, diff_ticks\n",
    "\n",
    "now = ticks_us\n",
    "then = diff_ticks(ticks_us(), now)\n",
    "\n",
    "print(\"the time measurement took %d us\"%then)\n",
    "\n",
    "```\n",
    "Then you subtract the results of the second measurement from those of the first.)"
   ]
  },
  {
   "cell_type": "code",
   "execution_count": null,
   "metadata": {},
   "outputs": [],
   "source": []
  }
 ],
 "metadata": {
  "kernelspec": {
   "display_name": "Python 3",
   "language": "python",
   "name": "python3"
  },
  "language_info": {
   "codemirror_mode": {
    "name": "ipython",
    "version": 3
   },
   "file_extension": ".py",
   "mimetype": "text/x-python",
   "name": "python",
   "nbconvert_exporter": "python",
   "pygments_lexer": "ipython3",
   "version": "3.6.8"
  },
  "toc": {
   "base_numbering": 1,
   "nav_menu": {},
   "number_sections": true,
   "sideBar": true,
   "skip_h1_title": false,
   "title_cell": "Table of Contents",
   "title_sidebar": "Contents",
   "toc_cell": false,
   "toc_position": {},
   "toc_section_display": true,
   "toc_window_display": true
  }
 },
 "nbformat": 4,
 "nbformat_minor": 2
}
