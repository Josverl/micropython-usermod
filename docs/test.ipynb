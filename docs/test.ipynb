{
 "cells": [
  {
   "cell_type": "code",
   "execution_count": 38,
   "metadata": {
    "ExecuteTime": {
     "end_time": "2019-07-27T16:00:32.963530Z",
     "start_time": "2019-07-27T16:00:32.952294Z"
    }
   },
   "outputs": [
    {
     "name": "stdout",
     "output_type": "stream",
     "text": [
      "Overwriting templates/rst.tpl\n"
     ]
    }
   ],
   "source": [
    "%%writefile templates/rst.tpl\n",
    "\n",
    "{%- extends 'display_priority.tpl' -%}\n",
    "\n",
    "\n",
    "{% block in_prompt %}\n",
    "{% endblock in_prompt %}\n",
    "\n",
    "{% block output_prompt %}\n",
    "{% endblock output_prompt %}\n",
    "\n",
    "{% block input scoped%}\n",
    "\n",
    "{%- if '%%ccode' in cell.source.strip().split('\\n')[0] -%}\n",
    "{{ cell.source.strip().split('\\n')[0].split()[1:] }}\n",
    "{{\"\\n.. literalinclude:: %s\\n\"%cell.source.strip().split('\\n')[0].split()[-1] -}}\n",
    "{{\":language: c\" | indent}}\n",
    "{{\":linenos:\\n\" | indent}}\n",
    "{%- else -%}\n",
    "{{\".. code:: \"-}}\n",
    "{%- if 'magics_language' in cell.metadata  -%}\n",
    "    {{ cell.metadata.magics_language}}\n",
    "{%- elif 'pygments_lexer' in nb.metadata.get('language_info', {}) -%}\n",
    "    {{ nb.metadata.language_info.pygments_lexer }}\n",
    "{%- elif 'name' in nb.metadata.get('language_info', {}) -%}\n",
    "    {{ nb.metadata.language_info.name }}\n",
    "{%- endif %}\n",
    "\n",
    "{{ cell.source | indent}}\n",
    "{% endif -%}\n",
    "{% endblock input %}\n",
    "\n",
    "{% block error %}\n",
    "::\n",
    "\n",
    "{{ super() }}\n",
    "{% endblock error %}\n",
    "\n",
    "{% block traceback_line %}\n",
    "{{ line | indent | strip_ansi }}\n",
    "{% endblock traceback_line %}\n",
    "\n",
    "{% block execute_result %}\n",
    "{% block data_priority scoped %}\n",
    "{{ super() }}\n",
    "{% endblock %}\n",
    "{% endblock execute_result %}\n",
    "\n",
    "{% block stream %}\n",
    ".. parsed-literal::\n",
    "\n",
    "{{ output.text | indent }}\n",
    "{% endblock stream %}\n",
    "\n",
    "{% block data_svg %}\n",
    ".. image:: {{ output.metadata.filenames['image/svg+xml'] | urlencode }}\n",
    "{% endblock data_svg %}\n",
    "\n",
    "{% block data_png %}\n",
    ".. image:: {{ output.metadata.filenames['image/png'] | urlencode }}\n",
    "{%- set width=output | get_metadata('width', 'image/png') -%}\n",
    "{%- if width is not none %}\n",
    "   :width: {{ width }}px\n",
    "{%- endif %}\n",
    "{%- set height=output | get_metadata('height', 'image/png') -%}\n",
    "{%- if height is not none %}\n",
    "   :height: {{ height }}px\n",
    "{%- endif %}\n",
    "{% endblock data_png %}\n",
    "\n",
    "{% block data_jpg %}\n",
    ".. image:: {{ output.metadata.filenames['image/jpeg'] | urlencode }}\n",
    "{%- set width=output | get_metadata('width', 'image/jpeg') -%}\n",
    "{%- if width is not none %}\n",
    "   :width: {{ width }}px\n",
    "{%- endif %}\n",
    "{%- set height=output | get_metadata('height', 'image/jpeg') -%}\n",
    "{%- if height is not none %}\n",
    "   :height: {{ height }}px\n",
    "{%- endif %}\n",
    "{% endblock data_jpg %}\n",
    "\n",
    "{% block data_markdown %}\n",
    "{{ output.data['text/markdown'] | convert_pandoc(\"markdown\", \"rst\") }}\n",
    "{% endblock data_markdown %}\n",
    "\n",
    "{% block data_latex %}\n",
    ".. math::\n",
    "\n",
    "{{ output.data['text/latex'] | strip_dollars | indent }}\n",
    "{% endblock data_latex %}\n",
    "\n",
    "{% block data_text scoped %}\n",
    ".. parsed-literal::\n",
    "\n",
    "{{ output.data['text/plain'] | indent }}\n",
    "{% endblock data_text %}\n",
    "\n",
    "{% block data_html scoped %}\n",
    ".. raw:: html\n",
    "\n",
    "{{ output.data['text/html'] | indent }}\n",
    "{% endblock data_html %}\n",
    "\n",
    "{% block markdowncell scoped %}\n",
    "{{ cell.source | convert_pandoc(\"markdown\", \"rst\") }}\n",
    "{% endblock markdowncell %}\n",
    "\n",
    "{%- block rawcell scoped -%}\n",
    "{%- if cell.metadata.get('raw_mimetype', '').lower() in resources.get('raw_mimetypes', ['']) %}\n",
    "{{cell.source}}\n",
    "{% endif -%}\n",
    "{%- endblock rawcell -%}\n",
    "\n",
    "{% block headingcell scoped %}\n",
    "{{ (\"#\" * cell.level + cell.source) | replace('\\n', ' ') | convert_pandoc(\"markdown\", \"rst\") }}\n",
    "{% endblock headingcell %}\n",
    "\n",
    "{% block unknowncell scoped %}\n",
    "unknown type  {{cell.type}}\n",
    "{% endblock unknowncell %}"
   ]
  },
  {
   "cell_type": "markdown",
   "metadata": {},
   "source": [
    "We have the relevant jinja templates, we can convert our notebook to restructured text:"
   ]
  },
  {
   "cell_type": "code",
   "execution_count": 10,
   "metadata": {
    "ExecuteTime": {
     "end_time": "2019-07-26T05:09:47.174206Z",
     "start_time": "2019-07-26T05:09:46.938583Z"
    }
   },
   "outputs": [
    {
     "name": "stderr",
     "output_type": "stream",
     "text": [
      "/home/v923z/anaconda3/lib/python3.7/site-packages/nbconvert/filters/datatypefilter.py:41: UserWarning: Your element with mimetype(s) dict_keys(['application/javascript']) is not able to be represented.\n",
      "  mimetypes=output.keys())\n"
     ]
    },
    {
     "data": {
      "text/plain": [
       "'\\n.. code:: ipython3\\n\\n    from IPython.core.magic import register_cell_magic\\n    import subprocess\\n\\nN'"
      ]
     },
     "execution_count": 10,
     "metadata": {},
     "output_type": "execute_result"
    }
   ],
   "source": [
    "import nbconvert\n",
    "\n",
    "from nbconvert import RSTExporter\n",
    "\n",
    "rstexporter = RSTExporter()\n",
    "\n",
    "(body, resources) = rstexporter.from_filename('test.ipynb')\n",
    "body[:100]"
   ]
  },
  {
   "cell_type": "code",
   "execution_count": 2,
   "metadata": {
    "ExecuteTime": {
     "end_time": "2019-07-26T05:01:42.568086Z",
     "start_time": "2019-07-26T05:01:41.753228Z"
    }
   },
   "outputs": [
    {
     "name": "stdout",
     "output_type": "stream",
     "text": [
      "[NbConvertApp] Converting notebook test.ipynb to rst\n",
      "/home/v923z/anaconda3/lib/python3.7/site-packages/nbconvert/filters/datatypefilter.py:41: UserWarning: Your element with mimetype(s) dict_keys(['application/javascript']) is not able to be represented.\n",
      "  mimetypes=output.keys())\n",
      "[NbConvertApp] Writing 5468 bytes to test.rst\n"
     ]
    }
   ],
   "source": [
    "!jupyter nbconvert test.ipynb --to rst"
   ]
  },
  {
   "cell_type": "markdown",
   "metadata": {},
   "source": [
    "We are done with the notebook-related matters, and in position to devote ourselves to writing our first C module."
   ]
  },
  {
   "cell_type": "code",
   "execution_count": 173,
   "metadata": {
    "ExecuteTime": {
     "end_time": "2019-07-25T05:18:16.534735Z",
     "start_time": "2019-07-25T05:18:16.522873Z"
    }
   },
   "outputs": [
    {
     "data": {
      "application/javascript": [
       "\n",
       "        (function () {\n",
       "            var defaults = IPython.CodeCell.config_defaults || IPython.CodeCell.options_default;\n",
       "            defaults.highlight_modes['magic_text/x-csrc'] = {'reg':[/^\\s*%%ccode/]};\n",
       "        })();\n",
       "        "
      ]
     },
     "metadata": {},
     "output_type": "display_data"
    },
    {
     "name": "stdout",
     "output_type": "stream",
     "text": [
      "written 1090 bytes to /simplefunction/simplefunction.c\n"
     ]
    }
   ],
   "source": [
    "%%ccode /simplefunction/simplefunction.c\n",
    "\n",
    "#include \"py/obj.h\"\n",
    "#include \"py/runtime.h\"\n",
    "\n",
    "STATIC mp_obj_t simplefunction_add_ints(mp_obj_t a_obj, mp_obj_t b_obj) {\n",
    "    int a = mp_obj_get_int(a_obj);\n",
    "    int b = mp_obj_get_int(b_obj);\n",
    "    return mp_obj_new_int(a + b);\n",
    "}\n",
    "\n",
    "STATIC MP_DEFINE_CONST_FUN_OBJ_2(simplefunction_add_ints_obj, simplefunction_add_ints);\n",
    "\n",
    "STATIC const mp_rom_map_elem_t simplefunction_module_globals_table[] = {\n",
    "    { MP_ROM_QSTR(MP_QSTR___name__), MP_ROM_QSTR(MP_QSTR_simplefunction) },\n",
    "    { MP_ROM_QSTR(MP_QSTR_add_ints), MP_ROM_PTR(&simplefunction_add_ints_obj) },\n",
    "};\n",
    "STATIC MP_DEFINE_CONST_DICT(simplefunction_module_globals, simplefunction_module_globals_table);\n",
    "\n",
    "const mp_obj_module_t simplefunction_user_cmodule = {\n",
    "    .base = { &mp_type_module },\n",
    "    .globals = (mp_obj_dict_t*)&simplefunction_module_globals,\n",
    "};\n",
    "\n",
    "MP_REGISTER_MODULE(MP_QSTR_simplefunction, simplefunction_user_cmodule, MODULE_SIMPLEFUNCTION_ENABLED);"
   ]
  },
  {
   "cell_type": "markdown",
   "metadata": {},
   "source": [
    "You should be able to compile the module above by calling (`> /dev/null` is not necessary, especially under windows. I included that in order to suppress the output of the shell command)."
   ]
  },
  {
   "cell_type": "code",
   "execution_count": 151,
   "metadata": {
    "ExecuteTime": {
     "end_time": "2019-07-24T19:24:18.218920Z",
     "start_time": "2019-07-24T19:24:17.850488Z"
    }
   },
   "outputs": [],
   "source": [
    "!make USER_C_MODULES=../../../usermod/ all > /dev/null"
   ]
  },
  {
   "cell_type": "code",
   "execution_count": null,
   "metadata": {},
   "outputs": [],
   "source": [
    "@magics_class\n",
    "class PyboardMagic(Magics):\n",
    "    @cell_magic\n",
    "    @magic_arguments.magic_arguments()\n",
    "    @magic_arguments.argument('-data')\n",
    "    @magic_arguments.argument('-file')\n",
    "    @magic_arguments.argument('-skip')\n",
    "    @magic_arguments.argument('-time')\n",
    "    @magic_arguments.argument('-memory')    \n",
    "    def pyboard(self, line='', cell=None):\n",
    "        args = magic_arguments.parse_argstring(self.pyboard, line)\n",
    "        if args.skip is not None:\n",
    "            print('skipped execution')\n",
    "            return None # do not parse the rest\n",
    "        if args.file:\n",
    "            spaces = \"    \"\n",
    "            try:\n",
    "                with open(args.file, 'w') as fout:\n",
    "                    fout.write(cell.replace('\\t', spaces))\n",
    "                    printf('written cell to {}'.format(args.file))\n",
    "            except:\n",
    "                print('Failed to write to disc!')\n",
    "            return None # do not parse the rest\n",
    "        if args.data:\n",
    "            message = pyb.exec(cell)\n",
    "            if len(message) == 0:\n",
    "                print('pyboard >>>')\n",
    "            else:\n",
    "                print(message.decode('utf-8'))\n",
    "                # register new variable in user namespace\n",
    "                self.shell.user_ns[args.data] = string_to_matrix(message.decode(\"utf-8\"))\n",
    "        \n",
    "        if args.time:\n",
    "            pyb.exec('import utime')\n",
    "            message = pyb.exec('t = utime.ticks_us()\\n' + cell + '\\ndelta = utime.ticks_diff(utime.ticks_us(), t)' + \n",
    "                               \"\\nprint('execution time: {:d} us'.format(delta))\")\n",
    "            print(message.decode('utf-8'))\n",
    "        \n",
    "        if args.memory:\n",
    "            message = pyb.exec('from micropython import mem_info\\nprint(mem_info())\\n')\n",
    "            print(\"memory before execution:\\n========================\\n\", message.decode('utf-8'))\n",
    "            message = pyb.exec(cell)\n",
    "            print(\">>> \", message.decode('utf-8'))\n",
    "            message = pyb.exec('print(mem_info())')\n",
    "            print(\"memory after execution:\\n========================\\n\", message.decode('utf-8'))\n",
    "\n",
    "        else:\n",
    "            message = pyb.exec(cell)\n",
    "            print(message.decode('utf-8'))\n",
    "\n",
    "ip = get_ipython()\n",
    "ip.register_magics(PyboardMagic)"
   ]
  },
  {
   "cell_type": "code",
   "execution_count": null,
   "metadata": {},
   "outputs": [],
   "source": [
    "%%writefile ../../../usermod/docs/templates/rst.tpl\n",
    "\n",
    "{%- extends 'display_priority.tpl' -%}\n",
    "\n",
    "\n",
    "{% block in_prompt %}\n",
    "{% endblock in_prompt %}\n",
    "\n",
    "{% block output_prompt %}\n",
    "{% endblock output_prompt %}\n",
    "\n",
    "{% block input scoped%}\n",
    "{%- if cell.source.strip() -%}\n",
    "{{\".. code:: \"-}}\n",
    "{%- if 'magics_language' in cell.metadata  -%}\n",
    "    {{ cell.metadata.magics_language}}\n",
    "{%- elif 'pygments_lexer' in nb.metadata.get('language_info', {}) -%}\n",
    "    {{ nb.metadata.language_info.pygments_lexer }}\n",
    "{%- elif 'name' in nb.metadata.get('language_info', {}) -%}\n",
    "    {{ nb.metadata.language_info.name }}\n",
    "{%- endif %}\n",
    "\n",
    "{{ cell.source | indent}}\n",
    "{% endif -%}\n",
    "{% endblock input %}\n",
    "\n",
    "{% block error %}\n",
    "::\n",
    "\n",
    "{{ super() }}\n",
    "{% endblock error %}\n",
    "\n",
    "{% block traceback_line %}\n",
    "{{ line | indent | strip_ansi }}\n",
    "{% endblock traceback_line %}\n",
    "\n",
    "{% block execute_result %}\n",
    "{% block data_priority scoped %}\n",
    "{{ super() }}\n",
    "{% endblock %}\n",
    "{% endblock execute_result %}\n",
    "\n",
    "{% block stream %}\n",
    ".. parsed-literal::\n",
    "\n",
    "{{ output.text | indent }}\n",
    "{% endblock stream %}\n",
    "\n",
    "{% block data_svg %}\n",
    ".. image:: {{ output.metadata.filenames['image/svg+xml'] | urlencode }}\n",
    "{% endblock data_svg %}\n",
    "\n",
    "{% block data_png %}\n",
    ".. image:: {{ output.metadata.filenames['image/png'] | urlencode }}\n",
    "{%- set width=output | get_metadata('width', 'image/png') -%}\n",
    "{%- if width is not none %}\n",
    "   :width: {{ width }}px\n",
    "{%- endif %}\n",
    "{%- set height=output | get_metadata('height', 'image/png') -%}\n",
    "{%- if height is not none %}\n",
    "   :height: {{ height }}px\n",
    "{%- endif %}\n",
    "{% endblock data_png %}\n",
    "\n",
    "{% block data_jpg %}\n",
    ".. image:: {{ output.metadata.filenames['image/jpeg'] | urlencode }}\n",
    "{%- set width=output | get_metadata('width', 'image/jpeg') -%}\n",
    "{%- if width is not none %}\n",
    "   :width: {{ width }}px\n",
    "{%- endif %}\n",
    "{%- set height=output | get_metadata('height', 'image/jpeg') -%}\n",
    "{%- if height is not none %}\n",
    "   :height: {{ height }}px\n",
    "{%- endif %}\n",
    "{% endblock data_jpg %}\n",
    "\n",
    "{% block data_markdown %}\n",
    "{{ output.data['text/markdown'] | convert_pandoc(\"markdown\", \"rst\") }}\n",
    "{% endblock data_markdown %}\n",
    "\n",
    "{% block data_latex %}\n",
    ".. math::\n",
    "\n",
    "{{ output.data['text/latex'] | strip_dollars | indent }}\n",
    "{% endblock data_latex %}\n",
    "\n",
    "{% block data_text scoped %}\n",
    ".. parsed-literal::\n",
    "\n",
    "{{ output.data['text/plain'] | indent }}\n",
    "{% endblock data_text %}\n",
    "\n",
    "{% block data_html scoped %}\n",
    ".. raw:: html\n",
    "\n",
    "{{ output.data['text/html'] | indent }}\n",
    "{% endblock data_html %}\n",
    "\n",
    "{% block markdowncell scoped %}\n",
    "{{ cell.source | convert_pandoc(\"markdown\", \"rst\") }}\n",
    "{% endblock markdowncell %}\n",
    "\n",
    "{%- block rawcell scoped -%}\n",
    "{%- if cell.metadata.get('raw_mimetype', '').lower() in resources.get('raw_mimetypes', ['']) %}\n",
    "{{cell.source}}\n",
    "{% endif -%}\n",
    "{%- endblock rawcell -%}\n",
    "\n",
    "{% block headingcell scoped %}\n",
    "{{ (\"#\" * cell.level + cell.source) | replace('\\n', ' ') | convert_pandoc(\"markdown\", \"rst\") }}\n",
    "{% endblock headingcell %}\n",
    "\n",
    "{% block unknowncell scoped %}\n",
    "unknown type  {{cell.type}}\n",
    "{% endblock unknowncell %}"
   ]
  },
  {
   "cell_type": "code",
   "execution_count": null,
   "metadata": {},
   "outputs": [],
   "source": [
    "%%cpp \n",
    "\n",
    "#include <math.h>\n",
    "#include <stdio.h>\n",
    "#include \"py/obj.h\"\n",
    "#include \"py/runtime.h\"\n",
    "#include \"mphalport.h\"  // needed for mp_hal_ticks_cpu()\n",
    "#include \"py/builtin.h\" // needed for mp_micropython_mem_info()\n",
    "\n",
    "STATIC mp_obj_t measure_cpu(mp_obj_t _x, mp_obj_t _y, mp_obj_t _z) {\n",
    "    // first, measure the time taken up by the assignments\n",
    "    mp_uint_t start = mp_hal_ticks_cpu();\n",
    "    float x = mp_obj_get_float(_x);\n",
    "    float y = mp_obj_get_float(_y);\n",
    "    float z = mp_obj_get_float(_z);\n",
    "    mp_uint_t stop = mp_hal_ticks_cpu();\n",
    "    printf(\"time elapsed: %ld CPU cycles\\n\", stop - start);\n",
    "    mp_micropython_mem_info(0, NULL);\n",
    "\n",
    "    // measure the time used by the square root\n",
    "    start = mp_hal_ticks_cpu();\n",
    "    float hypo = sqrtf(x*x + y*y + z*z);\n",
    "    stop = mp_hal_ticks_cpu();\n",
    "    printf(\"time elapsed: %ld CPU cycles\\n\", stop - start);    \n",
    "    mp_micropython_mem_info(0, NULL);\n",
    "    return mp_obj_new_float(hypo);\n",
    "}"
   ]
  }
 ],
 "metadata": {
  "kernelspec": {
   "display_name": "Python 3",
   "language": "python",
   "name": "python3"
  },
  "language_info": {
   "codemirror_mode": {
    "name": "ipython",
    "version": 3
   },
   "file_extension": ".py",
   "mimetype": "text/x-python",
   "name": "python",
   "nbconvert_exporter": "python",
   "pygments_lexer": "ipython3",
   "version": "3.7.3"
  },
  "toc": {
   "base_numbering": 1,
   "nav_menu": {},
   "number_sections": true,
   "sideBar": true,
   "skip_h1_title": false,
   "title_cell": "Table of Contents",
   "title_sidebar": "Contents",
   "toc_cell": false,
   "toc_position": {
    "height": "calc(100% - 180px)",
    "left": "10px",
    "top": "150px",
    "width": "218px"
   },
   "toc_section_display": true,
   "toc_window_display": true
  },
  "varInspector": {
   "cols": {
    "lenName": 16,
    "lenType": 16,
    "lenVar": 40
   },
   "kernels_config": {
    "python": {
     "delete_cmd_postfix": "",
     "delete_cmd_prefix": "del ",
     "library": "var_list.py",
     "varRefreshCmd": "print(var_dic_list())"
    },
    "r": {
     "delete_cmd_postfix": ") ",
     "delete_cmd_prefix": "rm(",
     "library": "var_list.r",
     "varRefreshCmd": "cat(var_dic_list()) "
    }
   },
   "types_to_exclude": [
    "module",
    "function",
    "builtin_function_or_method",
    "instance",
    "_Feature"
   ],
   "window_display": false
  }
 },
 "nbformat": 4,
 "nbformat_minor": 2
}
