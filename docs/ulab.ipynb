{
 "cells": [
  {
   "cell_type": "markdown",
   "metadata": {},
   "source": [
    "# ulab"
   ]
  },
  {
   "cell_type": "markdown",
   "metadata": {},
   "source": [
    "ulab is a C module for micropython. The aim is to implement a small subset of numpy. We chose those functions and methods that might be useful in the context of a microcontroller. This means low-level data processing. "
   ]
  },
  {
   "cell_type": "markdown",
   "metadata": {},
   "source": [
    "# Containers\n",
    "\n",
    "The basic container, `ndarray` is built on top of the micropython array object, and is declared as\n",
    "\n",
    "```c\n",
    "typedef struct _ndarray_obj_t {\n",
    "\tmp_obj_base_t base;\n",
    "\tsize_t m, n;\n",
    "\tmp_obj_array_t *data;\n",
    "\tsize_t bytes;\n",
    "} ndarray_obj_t;\n",
    "\n",
    "```\n",
    "\n",
    "In turn, the declaration of `mp_obj_array_t` can be found in `objarray.h`, and reads as \n",
    "\n",
    "```c\n",
    "typedef struct _mp_obj_array_t {\n",
    "    mp_obj_base_t base;\n",
    "    size_t typecode : 8;\n",
    "    size_t free : (8 * sizeof(size_t) - 8);\n",
    "    size_t len; // in elements\n",
    "    void *items;\n",
    "} mp_obj_array_t;\n",
    "```\n",
    "\n",
    "In order to economise on space and gain on speed while performing computations on data, values in `ndarray` are stored in binary format in `*items`, and not in standard micropython objects. The interpretation of these binary objects is determined by the `typecode`, while the \"layout\" of the data is given by the `m`, and `n` `size_t` members. "
   ]
  },
  {
   "cell_type": "markdown",
   "metadata": {},
   "source": [
    "## Initialising containers\n",
    "\n",
    "An `ndarray` can be initialised by passing an iterable (linear arrays), or an iterable of iterables (matrices) into the constructor\n",
    "\n",
    "```python\n",
    "\n",
    "from ulab import ndarray\n",
    "\n",
    "a = ndarray([1, 2, 3, 4])\n",
    "a = ndarray([[1, 2, 3, 4], [2, 3, 4, 5]])\n",
    "a = ndarray([range(10), range(10)])\n",
    "\n",
    "```\n",
    "\n",
    "In addition, the constructor can take a keyword argument, `dtype`, that will force type conversion."
   ]
  },
  {
   "cell_type": "markdown",
   "metadata": {},
   "source": [
    "# Standard operations\n",
    "\n",
    "## mathematical functions\n",
    "\n",
    "The usual mathematical functions of micropython can be called with either a micropython object, or with ndarrays."
   ]
  },
  {
   "cell_type": "markdown",
   "metadata": {},
   "source": [
    "# Special methods\n",
    "\n",
    "\n",
    "`ndarray` objects support a number of special methods. In particular, if they are of the same shape, two `ndarray`s can be summed, multiplied, divided, subtracted, and raised to a power. These operations work also, if the second operand is an micropython variable. As an example, \n",
    "\n",
    "```\n",
    "from ulab import ndarray\n",
    "\n",
    "a = 10\n",
    "b = ndarray([[1, 2, 3], [11, 12, 13]])\n",
    "\n",
    "c = b + b\n",
    "d = b + a\n",
    "```\n",
    "\n",
    "In addition, bitwise operations work on the underlying byte array (i.e., the `typecode` is not taken into account, the bytearrays are simply `or`ed, `and`ed, etc. If the length of the second operand smaller than that of the first operand, then "
   ]
  },
  {
   "cell_type": "code",
   "execution_count": null,
   "metadata": {},
   "outputs": [],
   "source": []
  }
 ],
 "metadata": {
  "kernelspec": {
   "display_name": "Python 3",
   "language": "python",
   "name": "python3"
  },
  "language_info": {
   "codemirror_mode": {
    "name": "ipython",
    "version": 3
   },
   "file_extension": ".py",
   "mimetype": "text/x-python",
   "name": "python",
   "nbconvert_exporter": "python",
   "pygments_lexer": "ipython3",
   "version": "3.6.8"
  },
  "toc": {
   "base_numbering": 1,
   "nav_menu": {},
   "number_sections": true,
   "sideBar": true,
   "skip_h1_title": false,
   "title_cell": "Table of Contents",
   "title_sidebar": "Contents",
   "toc_cell": false,
   "toc_position": {},
   "toc_section_display": true,
   "toc_window_display": false
  }
 },
 "nbformat": 4,
 "nbformat_minor": 2
}
